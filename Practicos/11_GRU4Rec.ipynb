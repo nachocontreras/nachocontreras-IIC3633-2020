{
  "nbformat": 4,
  "nbformat_minor": 0,
  "metadata": {
    "colab": {
      "name": "11_GRU4Rec.ipynb",
      "provenance": [],
      "collapsed_sections": [],
      "toc_visible": true
    },
    "kernelspec": {
      "name": "python3",
      "display_name": "Python 3"
    },
    "accelerator": "GPU"
  },
  "cells": [
    {
      "cell_type": "markdown",
      "metadata": {
        "id": "view-in-github"
      },
      "source": [
        "<a href=\"https://colab.research.google.com/github/PUC-RecSys-Class/RecSysPUC-2020/blob/master/practicos/GRU4Rec.ipynb\" target=\"_parent\"><img src=\"https://colab.research.google.com/assets/colab-badge.svg\" alt=\"Open In Colab\"/></a>\n"
      ]
    },
    {
      "cell_type": "markdown",
      "metadata": {
        "id": "bcrDor7CR1SO"
      },
      "source": [
        "# Gated Recurrent Units for session-based next item prediction\n",
        "\n",
        "Patricio Cerda, Bastián Mavrakis, Denis Parra\n",
        "\n",
        "### Ambiente: Python3 + GPU\n",
        "\n",
        "## Descargar datos y repositorio"
      ]
    },
    {
      "cell_type": "code",
      "metadata": {
        "id": "nCAQDIrOPUQP",
        "outputId": "dd87eee3-287b-4dc7-983e-600910f7ba06",
        "colab": {
          "base_uri": "https://localhost:8080/",
          "height": 144
        }
      },
      "source": [
        "# Clone repo\n",
        "!git clone https://github.com/pcerdam/KerasGRU4Rec --single-branch src"
      ],
      "execution_count": 1,
      "outputs": [
        {
          "output_type": "stream",
          "text": [
            "Cloning into 'src'...\n",
            "remote: Enumerating objects: 37, done.\u001b[K\n",
            "remote: Counting objects: 100% (37/37), done.\u001b[K\n",
            "remote: Compressing objects: 100% (26/26), done.\u001b[K\n",
            "remote: Total 198 (delta 11), reused 24 (delta 9), pack-reused 161\u001b[K\n",
            "Receiving objects: 100% (198/198), 10.58 MiB | 22.66 MiB/s, done.\n",
            "Resolving deltas: 100% (83/83), done.\n"
          ],
          "name": "stdout"
        }
      ]
    },
    {
      "cell_type": "code",
      "metadata": {
        "id": "BpccDqjDPbjI",
        "outputId": "0f2eee88-ded5-4006-ca13-2c6d55cc1a2a",
        "colab": {
          "base_uri": "https://localhost:8080/",
          "height": 72
        }
      },
      "source": [
        "# Download RecSys Challenge 2015 dataset\n",
        "!rm -r sample_data\n",
        "!curl https://s3-eu-west-1.amazonaws.com/yc-rdata/yoochoose-data.7z --output data.7z"
      ],
      "execution_count": 2,
      "outputs": [
        {
          "output_type": "stream",
          "text": [
            "  % Total    % Received % Xferd  Average Speed   Time    Time     Time  Current\n",
            "                                 Dload  Upload   Total   Spent    Left  Speed\n",
            "100  273M  100  273M    0     0  19.3M      0  0:00:14  0:00:14 --:--:-- 22.1M\n"
          ],
          "name": "stdout"
        }
      ]
    },
    {
      "cell_type": "code",
      "metadata": {
        "id": "AJkLaRyqPp-z",
        "outputId": "2eca012c-e9e5-484e-ecf7-58f5c08b1d05",
        "colab": {
          "base_uri": "https://localhost:8080/",
          "height": 417
        }
      },
      "source": [
        "# Extract dataset\n",
        "!7z e data.7z -o./rsc15\n",
        "!rm data.7z\n",
        "!mkdir data"
      ],
      "execution_count": 3,
      "outputs": [
        {
          "output_type": "stream",
          "text": [
            "\n",
            "7-Zip [64] 16.02 : Copyright (c) 1999-2016 Igor Pavlov : 2016-05-21\n",
            "p7zip Version 16.02 (locale=en_US.UTF-8,Utf16=on,HugeFiles=on,64 bits,2 CPUs Intel(R) Xeon(R) CPU @ 2.20GHz (406F0),ASM,AES-NI)\n",
            "\n",
            "Scanning the drive for archives:\n",
            "  0M Scan\b\b\b\b\b\b\b\b\b         \b\b\b\b\b\b\b\b\b1 file, 287211932 bytes (274 MiB)\n",
            "\n",
            "Extracting archive: data.7z\n",
            "--\n",
            "Path = data.7z\n",
            "Type = 7z\n",
            "Physical Size = 287211932\n",
            "Headers Size = 255\n",
            "Method = LZMA:24\n",
            "Solid = +\n",
            "Blocks = 2\n",
            "\n",
            "  0%\b\b\b\b    \b\b\b\b  0% - yoochoose-buys.dat\b\b\b\b\b\b\b\b\b\b\b\b\b\b\b\b\b\b\b\b\b\b\b\b\b                         \b\b\b\b\b\b\b\b\b\b\b\b\b\b\b\b\b\b\b\b\b\b\b\b\b  1% - yoochoose-buys.dat\b\b\b\b\b\b\b\b\b\b\b\b\b\b\b\b\b\b\b\b\b\b\b\b\b                         \b\b\b\b\b\b\b\b\b\b\b\b\b\b\b\b\b\b\b\b\b\b\b\b\b  2% - yoochoose-buys.dat\b\b\b\b\b\b\b\b\b\b\b\b\b\b\b\b\b\b\b\b\b\b\b\b\b                         \b\b\b\b\b\b\b\b\b\b\b\b\b\b\b\b\b\b\b\b\b\b\b\b\b  3% 1 - yoochoose-clicks.dat\b\b\b\b\b\b\b\b\b\b\b\b\b\b\b\b\b\b\b\b\b\b\b\b\b\b\b\b\b                             \b\b\b\b\b\b\b\b\b\b\b\b\b\b\b\b\b\b\b\b\b\b\b\b\b\b\b\b\b  4% 1 - yoochoose-clicks.dat\b\b\b\b\b\b\b\b\b\b\b\b\b\b\b\b\b\b\b\b\b\b\b\b\b\b\b\b\b                             \b\b\b\b\b\b\b\b\b\b\b\b\b\b\b\b\b\b\b\b\b\b\b\b\b\b\b\b\b  5% 1 - yoochoose-clicks.dat\b\b\b\b\b\b\b\b\b\b\b\b\b\b\b\b\b\b\b\b\b\b\b\b\b\b\b\b\b                             \b\b\b\b\b\b\b\b\b\b\b\b\b\b\b\b\b\b\b\b\b\b\b\b\b\b\b\b\b  6% 1 - yoochoose-clicks.dat\b\b\b\b\b\b\b\b\b\b\b\b\b\b\b\b\b\b\b\b\b\b\b\b\b\b\b\b\b                             \b\b\b\b\b\b\b\b\b\b\b\b\b\b\b\b\b\b\b\b\b\b\b\b\b\b\b\b\b  7% 1 - yoochoose-clicks.dat\b\b\b\b\b\b\b\b\b\b\b\b\b\b\b\b\b\b\b\b\b\b\b\b\b\b\b\b\b                             \b\b\b\b\b\b\b\b\b\b\b\b\b\b\b\b\b\b\b\b\b\b\b\b\b\b\b\b\b  8% 1 - yoochoose-clicks.dat\b\b\b\b\b\b\b\b\b\b\b\b\b\b\b\b\b\b\b\b\b\b\b\b\b\b\b\b\b                             \b\b\b\b\b\b\b\b\b\b\b\b\b\b\b\b\b\b\b\b\b\b\b\b\b\b\b\b\b  9% 1 - yoochoose-clicks.dat\b\b\b\b\b\b\b\b\b\b\b\b\b\b\b\b\b\b\b\b\b\b\b\b\b\b\b\b\b                             \b\b\b\b\b\b\b\b\b\b\b\b\b\b\b\b\b\b\b\b\b\b\b\b\b\b\b\b\b 10% 1 - yoochoose-clicks.dat\b\b\b\b\b\b\b\b\b\b\b\b\b\b\b\b\b\b\b\b\b\b\b\b\b\b\b\b\b                             \b\b\b\b\b\b\b\b\b\b\b\b\b\b\b\b\b\b\b\b\b\b\b\b\b\b\b\b\b 11% 1 - yoochoose-clicks.dat\b\b\b\b\b\b\b\b\b\b\b\b\b\b\b\b\b\b\b\b\b\b\b\b\b\b\b\b\b                             \b\b\b\b\b\b\b\b\b\b\b\b\b\b\b\b\b\b\b\b\b\b\b\b\b\b\b\b\b 12% 1 - yoochoose-clicks.dat\b\b\b\b\b\b\b\b\b\b\b\b\b\b\b\b\b\b\b\b\b\b\b\b\b\b\b\b\b                             \b\b\b\b\b\b\b\b\b\b\b\b\b\b\b\b\b\b\b\b\b\b\b\b\b\b\b\b\b 13% 1 - yoochoose-clicks.dat\b\b\b\b\b\b\b\b\b\b\b\b\b\b\b\b\b\b\b\b\b\b\b\b\b\b\b\b\b                             \b\b\b\b\b\b\b\b\b\b\b\b\b\b\b\b\b\b\b\b\b\b\b\b\b\b\b\b\b 14% 1 - yoochoose-clicks.dat\b\b\b\b\b\b\b\b\b\b\b\b\b\b\b\b\b\b\b\b\b\b\b\b\b\b\b\b\b                             \b\b\b\b\b\b\b\b\b\b\b\b\b\b\b\b\b\b\b\b\b\b\b\b\b\b\b\b\b 15% 1 - yoochoose-clicks.dat\b\b\b\b\b\b\b\b\b\b\b\b\b\b\b\b\b\b\b\b\b\b\b\b\b\b\b\b\b                             \b\b\b\b\b\b\b\b\b\b\b\b\b\b\b\b\b\b\b\b\b\b\b\b\b\b\b\b\b 16% 1 - yoochoose-clicks.dat\b\b\b\b\b\b\b\b\b\b\b\b\b\b\b\b\b\b\b\b\b\b\b\b\b\b\b\b\b                             \b\b\b\b\b\b\b\b\b\b\b\b\b\b\b\b\b\b\b\b\b\b\b\b\b\b\b\b\b 17% 1 - yoochoose-clicks.dat\b\b\b\b\b\b\b\b\b\b\b\b\b\b\b\b\b\b\b\b\b\b\b\b\b\b\b\b\b                             \b\b\b\b\b\b\b\b\b\b\b\b\b\b\b\b\b\b\b\b\b\b\b\b\b\b\b\b\b 18% 1 - yoochoose-clicks.dat\b\b\b\b\b\b\b\b\b\b\b\b\b\b\b\b\b\b\b\b\b\b\b\b\b\b\b\b\b                             \b\b\b\b\b\b\b\b\b\b\b\b\b\b\b\b\b\b\b\b\b\b\b\b\b\b\b\b\b 19% 1 - yoochoose-clicks.dat\b\b\b\b\b\b\b\b\b\b\b\b\b\b\b\b\b\b\b\b\b\b\b\b\b\b\b\b\b                             \b\b\b\b\b\b\b\b\b\b\b\b\b\b\b\b\b\b\b\b\b\b\b\b\b\b\b\b\b 20% 1 - yoochoose-clicks.dat\b\b\b\b\b\b\b\b\b\b\b\b\b\b\b\b\b\b\b\b\b\b\b\b\b\b\b\b\b                             \b\b\b\b\b\b\b\b\b\b\b\b\b\b\b\b\b\b\b\b\b\b\b\b\b\b\b\b\b 21% 1 - yoochoose-clicks.dat\b\b\b\b\b\b\b\b\b\b\b\b\b\b\b\b\b\b\b\b\b\b\b\b\b\b\b\b\b                             \b\b\b\b\b\b\b\b\b\b\b\b\b\b\b\b\b\b\b\b\b\b\b\b\b\b\b\b\b 22% 1 - yoochoose-clicks.dat\b\b\b\b\b\b\b\b\b\b\b\b\b\b\b\b\b\b\b\b\b\b\b\b\b\b\b\b\b                             \b\b\b\b\b\b\b\b\b\b\b\b\b\b\b\b\b\b\b\b\b\b\b\b\b\b\b\b\b 23% 1 - yoochoose-clicks.dat\b\b\b\b\b\b\b\b\b\b\b\b\b\b\b\b\b\b\b\b\b\b\b\b\b\b\b\b\b                             \b\b\b\b\b\b\b\b\b\b\b\b\b\b\b\b\b\b\b\b\b\b\b\b\b\b\b\b\b 24% 1 - yoochoose-clicks.dat\b\b\b\b\b\b\b\b\b\b\b\b\b\b\b\b\b\b\b\b\b\b\b\b\b\b\b\b\b                             \b\b\b\b\b\b\b\b\b\b\b\b\b\b\b\b\b\b\b\b\b\b\b\b\b\b\b\b\b 25% 1 - yoochoose-clicks.dat\b\b\b\b\b\b\b\b\b\b\b\b\b\b\b\b\b\b\b\b\b\b\b\b\b\b\b\b\b                             \b\b\b\b\b\b\b\b\b\b\b\b\b\b\b\b\b\b\b\b\b\b\b\b\b\b\b\b\b 26% 1 - yoochoose-clicks.dat\b\b\b\b\b\b\b\b\b\b\b\b\b\b\b\b\b\b\b\b\b\b\b\b\b\b\b\b\b                             \b\b\b\b\b\b\b\b\b\b\b\b\b\b\b\b\b\b\b\b\b\b\b\b\b\b\b\b\b 27% 1 - yoochoose-clicks.dat\b\b\b\b\b\b\b\b\b\b\b\b\b\b\b\b\b\b\b\b\b\b\b\b\b\b\b\b\b                             \b\b\b\b\b\b\b\b\b\b\b\b\b\b\b\b\b\b\b\b\b\b\b\b\b\b\b\b\b 28% 1 - yoochoose-clicks.dat\b\b\b\b\b\b\b\b\b\b\b\b\b\b\b\b\b\b\b\b\b\b\b\b\b\b\b\b\b                             \b\b\b\b\b\b\b\b\b\b\b\b\b\b\b\b\b\b\b\b\b\b\b\b\b\b\b\b\b 29% 1 - yoochoose-clicks.dat\b\b\b\b\b\b\b\b\b\b\b\b\b\b\b\b\b\b\b\b\b\b\b\b\b\b\b\b\b                             \b\b\b\b\b\b\b\b\b\b\b\b\b\b\b\b\b\b\b\b\b\b\b\b\b\b\b\b\b 30% 1 - yoochoose-clicks.dat\b\b\b\b\b\b\b\b\b\b\b\b\b\b\b\b\b\b\b\b\b\b\b\b\b\b\b\b\b                             \b\b\b\b\b\b\b\b\b\b\b\b\b\b\b\b\b\b\b\b\b\b\b\b\b\b\b\b\b 31% 1 - yoochoose-clicks.dat\b\b\b\b\b\b\b\b\b\b\b\b\b\b\b\b\b\b\b\b\b\b\b\b\b\b\b\b\b                             \b\b\b\b\b\b\b\b\b\b\b\b\b\b\b\b\b\b\b\b\b\b\b\b\b\b\b\b\b 32% 1 - yoochoose-clicks.dat\b\b\b\b\b\b\b\b\b\b\b\b\b\b\b\b\b\b\b\b\b\b\b\b\b\b\b\b\b                             \b\b\b\b\b\b\b\b\b\b\b\b\b\b\b\b\b\b\b\b\b\b\b\b\b\b\b\b\b 33% 1 - yoochoose-clicks.dat\b\b\b\b\b\b\b\b\b\b\b\b\b\b\b\b\b\b\b\b\b\b\b\b\b\b\b\b\b                             \b\b\b\b\b\b\b\b\b\b\b\b\b\b\b\b\b\b\b\b\b\b\b\b\b\b\b\b\b 34% 1 - yoochoose-clicks.dat\b\b\b\b\b\b\b\b\b\b\b\b\b\b\b\b\b\b\b\b\b\b\b\b\b\b\b\b\b                             \b\b\b\b\b\b\b\b\b\b\b\b\b\b\b\b\b\b\b\b\b\b\b\b\b\b\b\b\b 35% 1 - yoochoose-clicks.dat\b\b\b\b\b\b\b\b\b\b\b\b\b\b\b\b\b\b\b\b\b\b\b\b\b\b\b\b\b                             \b\b\b\b\b\b\b\b\b\b\b\b\b\b\b\b\b\b\b\b\b\b\b\b\b\b\b\b\b 36% 1 - yoochoose-clicks.dat\b\b\b\b\b\b\b\b\b\b\b\b\b\b\b\b\b\b\b\b\b\b\b\b\b\b\b\b\b                             \b\b\b\b\b\b\b\b\b\b\b\b\b\b\b\b\b\b\b\b\b\b\b\b\b\b\b\b\b 37% 1 - yoochoose-clicks.dat\b\b\b\b\b\b\b\b\b\b\b\b\b\b\b\b\b\b\b\b\b\b\b\b\b\b\b\b\b                             \b\b\b\b\b\b\b\b\b\b\b\b\b\b\b\b\b\b\b\b\b\b\b\b\b\b\b\b\b 38% 1 - yoochoose-clicks.dat\b\b\b\b\b\b\b\b\b\b\b\b\b\b\b\b\b\b\b\b\b\b\b\b\b\b\b\b\b                             \b\b\b\b\b\b\b\b\b\b\b\b\b\b\b\b\b\b\b\b\b\b\b\b\b\b\b\b\b 39% 1 - yoochoose-clicks.dat\b\b\b\b\b\b\b\b\b\b\b\b\b\b\b\b\b\b\b\b\b\b\b\b\b\b\b\b\b                             \b\b\b\b\b\b\b\b\b\b\b\b\b\b\b\b\b\b\b\b\b\b\b\b\b\b\b\b\b 40% 1 - yoochoose-clicks.dat\b\b\b\b\b\b\b\b\b\b\b\b\b\b\b\b\b\b\b\b\b\b\b\b\b\b\b\b\b                             \b\b\b\b\b\b\b\b\b\b\b\b\b\b\b\b\b\b\b\b\b\b\b\b\b\b\b\b\b 41% 1 - yoochoose-clicks.dat\b\b\b\b\b\b\b\b\b\b\b\b\b\b\b\b\b\b\b\b\b\b\b\b\b\b\b\b\b                             \b\b\b\b\b\b\b\b\b\b\b\b\b\b\b\b\b\b\b\b\b\b\b\b\b\b\b\b\b 42% 1 - yoochoose-clicks.dat\b\b\b\b\b\b\b\b\b\b\b\b\b\b\b\b\b\b\b\b\b\b\b\b\b\b\b\b\b                             \b\b\b\b\b\b\b\b\b\b\b\b\b\b\b\b\b\b\b\b\b\b\b\b\b\b\b\b\b 43% 1 - yoochoose-clicks.dat\b\b\b\b\b\b\b\b\b\b\b\b\b\b\b\b\b\b\b\b\b\b\b\b\b\b\b\b\b                             \b\b\b\b\b\b\b\b\b\b\b\b\b\b\b\b\b\b\b\b\b\b\b\b\b\b\b\b\b 44% 1 - yoochoose-clicks.dat\b\b\b\b\b\b\b\b\b\b\b\b\b\b\b\b\b\b\b\b\b\b\b\b\b\b\b\b\b                             \b\b\b\b\b\b\b\b\b\b\b\b\b\b\b\b\b\b\b\b\b\b\b\b\b\b\b\b\b 45% 1 - yoochoose-clicks.dat\b\b\b\b\b\b\b\b\b\b\b\b\b\b\b\b\b\b\b\b\b\b\b\b\b\b\b\b\b                             \b\b\b\b\b\b\b\b\b\b\b\b\b\b\b\b\b\b\b\b\b\b\b\b\b\b\b\b\b 46% 1 - yoochoose-clicks.dat\b\b\b\b\b\b\b\b\b\b\b\b\b\b\b\b\b\b\b\b\b\b\b\b\b\b\b\b\b                             \b\b\b\b\b\b\b\b\b\b\b\b\b\b\b\b\b\b\b\b\b\b\b\b\b\b\b\b\b 47% 1 - yoochoose-clicks.dat\b\b\b\b\b\b\b\b\b\b\b\b\b\b\b\b\b\b\b\b\b\b\b\b\b\b\b\b\b                             \b\b\b\b\b\b\b\b\b\b\b\b\b\b\b\b\b\b\b\b\b\b\b\b\b\b\b\b\b 48% 1 - yoochoose-clicks.dat\b\b\b\b\b\b\b\b\b\b\b\b\b\b\b\b\b\b\b\b\b\b\b\b\b\b\b\b\b                             \b\b\b\b\b\b\b\b\b\b\b\b\b\b\b\b\b\b\b\b\b\b\b\b\b\b\b\b\b 49% 1 - yoochoose-clicks.dat\b\b\b\b\b\b\b\b\b\b\b\b\b\b\b\b\b\b\b\b\b\b\b\b\b\b\b\b\b                             \b\b\b\b\b\b\b\b\b\b\b\b\b\b\b\b\b\b\b\b\b\b\b\b\b\b\b\b\b 50% 1 - yoochoose-clicks.dat\b\b\b\b\b\b\b\b\b\b\b\b\b\b\b\b\b\b\b\b\b\b\b\b\b\b\b\b\b                             \b\b\b\b\b\b\b\b\b\b\b\b\b\b\b\b\b\b\b\b\b\b\b\b\b\b\b\b\b 51% 1 - yoochoose-clicks.dat\b\b\b\b\b\b\b\b\b\b\b\b\b\b\b\b\b\b\b\b\b\b\b\b\b\b\b\b\b                             \b\b\b\b\b\b\b\b\b\b\b\b\b\b\b\b\b\b\b\b\b\b\b\b\b\b\b\b\b 52% 1 - yoochoose-clicks.dat\b\b\b\b\b\b\b\b\b\b\b\b\b\b\b\b\b\b\b\b\b\b\b\b\b\b\b\b\b                             \b\b\b\b\b\b\b\b\b\b\b\b\b\b\b\b\b\b\b\b\b\b\b\b\b\b\b\b\b 53% 1 - yoochoose-clicks.dat\b\b\b\b\b\b\b\b\b\b\b\b\b\b\b\b\b\b\b\b\b\b\b\b\b\b\b\b\b                             \b\b\b\b\b\b\b\b\b\b\b\b\b\b\b\b\b\b\b\b\b\b\b\b\b\b\b\b\b 54% 1 - yoochoose-clicks.dat\b\b\b\b\b\b\b\b\b\b\b\b\b\b\b\b\b\b\b\b\b\b\b\b\b\b\b\b\b                             \b\b\b\b\b\b\b\b\b\b\b\b\b\b\b\b\b\b\b\b\b\b\b\b\b\b\b\b\b 55% 1 - yoochoose-clicks.dat\b\b\b\b\b\b\b\b\b\b\b\b\b\b\b\b\b\b\b\b\b\b\b\b\b\b\b\b\b                             \b\b\b\b\b\b\b\b\b\b\b\b\b\b\b\b\b\b\b\b\b\b\b\b\b\b\b\b\b 56% 1 - yoochoose-clicks.dat\b\b\b\b\b\b\b\b\b\b\b\b\b\b\b\b\b\b\b\b\b\b\b\b\b\b\b\b\b                             \b\b\b\b\b\b\b\b\b\b\b\b\b\b\b\b\b\b\b\b\b\b\b\b\b\b\b\b\b 57% 1 - yoochoose-clicks.dat\b\b\b\b\b\b\b\b\b\b\b\b\b\b\b\b\b\b\b\b\b\b\b\b\b\b\b\b\b                             \b\b\b\b\b\b\b\b\b\b\b\b\b\b\b\b\b\b\b\b\b\b\b\b\b\b\b\b\b 58% 1 - yoochoose-clicks.dat\b\b\b\b\b\b\b\b\b\b\b\b\b\b\b\b\b\b\b\b\b\b\b\b\b\b\b\b\b                             \b\b\b\b\b\b\b\b\b\b\b\b\b\b\b\b\b\b\b\b\b\b\b\b\b\b\b\b\b 59% 1 - yoochoose-clicks.dat\b\b\b\b\b\b\b\b\b\b\b\b\b\b\b\b\b\b\b\b\b\b\b\b\b\b\b\b\b                             \b\b\b\b\b\b\b\b\b\b\b\b\b\b\b\b\b\b\b\b\b\b\b\b\b\b\b\b\b 60% 1 - yoochoose-clicks.dat\b\b\b\b\b\b\b\b\b\b\b\b\b\b\b\b\b\b\b\b\b\b\b\b\b\b\b\b\b                             \b\b\b\b\b\b\b\b\b\b\b\b\b\b\b\b\b\b\b\b\b\b\b\b\b\b\b\b\b 61% 1 - yoochoose-clicks.dat\b\b\b\b\b\b\b\b\b\b\b\b\b\b\b\b\b\b\b\b\b\b\b\b\b\b\b\b\b                             \b\b\b\b\b\b\b\b\b\b\b\b\b\b\b\b\b\b\b\b\b\b\b\b\b\b\b\b\b 62% 1 - yoochoose-clicks.dat\b\b\b\b\b\b\b\b\b\b\b\b\b\b\b\b\b\b\b\b\b\b\b\b\b\b\b\b\b                             \b\b\b\b\b\b\b\b\b\b\b\b\b\b\b\b\b\b\b\b\b\b\b\b\b\b\b\b\b 63% 1 - yoochoose-clicks.dat\b\b\b\b\b\b\b\b\b\b\b\b\b\b\b\b\b\b\b\b\b\b\b\b\b\b\b\b\b                             \b\b\b\b\b\b\b\b\b\b\b\b\b\b\b\b\b\b\b\b\b\b\b\b\b\b\b\b\b 64% 1 - yoochoose-clicks.dat\b\b\b\b\b\b\b\b\b\b\b\b\b\b\b\b\b\b\b\b\b\b\b\b\b\b\b\b\b                             \b\b\b\b\b\b\b\b\b\b\b\b\b\b\b\b\b\b\b\b\b\b\b\b\b\b\b\b\b 65% 1 - yoochoose-clicks.dat\b\b\b\b\b\b\b\b\b\b\b\b\b\b\b\b\b\b\b\b\b\b\b\b\b\b\b\b\b                             \b\b\b\b\b\b\b\b\b\b\b\b\b\b\b\b\b\b\b\b\b\b\b\b\b\b\b\b\b 66% 1 - yoochoose-clicks.dat\b\b\b\b\b\b\b\b\b\b\b\b\b\b\b\b\b\b\b\b\b\b\b\b\b\b\b\b\b                             \b\b\b\b\b\b\b\b\b\b\b\b\b\b\b\b\b\b\b\b\b\b\b\b\b\b\b\b\b 67% 1 - yoochoose-clicks.dat\b\b\b\b\b\b\b\b\b\b\b\b\b\b\b\b\b\b\b\b\b\b\b\b\b\b\b\b\b                             \b\b\b\b\b\b\b\b\b\b\b\b\b\b\b\b\b\b\b\b\b\b\b\b\b\b\b\b\b 68% 1 - yoochoose-clicks.dat\b\b\b\b\b\b\b\b\b\b\b\b\b\b\b\b\b\b\b\b\b\b\b\b\b\b\b\b\b                             \b\b\b\b\b\b\b\b\b\b\b\b\b\b\b\b\b\b\b\b\b\b\b\b\b\b\b\b\b 69% 1 - yoochoose-clicks.dat\b\b\b\b\b\b\b\b\b\b\b\b\b\b\b\b\b\b\b\b\b\b\b\b\b\b\b\b\b                             \b\b\b\b\b\b\b\b\b\b\b\b\b\b\b\b\b\b\b\b\b\b\b\b\b\b\b\b\b 70% 1 - yoochoose-clicks.dat\b\b\b\b\b\b\b\b\b\b\b\b\b\b\b\b\b\b\b\b\b\b\b\b\b\b\b\b\b                             \b\b\b\b\b\b\b\b\b\b\b\b\b\b\b\b\b\b\b\b\b\b\b\b\b\b\b\b\b 71% 1 - yoochoose-clicks.dat\b\b\b\b\b\b\b\b\b\b\b\b\b\b\b\b\b\b\b\b\b\b\b\b\b\b\b\b\b                             \b\b\b\b\b\b\b\b\b\b\b\b\b\b\b\b\b\b\b\b\b\b\b\b\b\b\b\b\b 72% 1 - yoochoose-clicks.dat\b\b\b\b\b\b\b\b\b\b\b\b\b\b\b\b\b\b\b\b\b\b\b\b\b\b\b\b\b                             \b\b\b\b\b\b\b\b\b\b\b\b\b\b\b\b\b\b\b\b\b\b\b\b\b\b\b\b\b 73% 1 - yoochoose-clicks.dat\b\b\b\b\b\b\b\b\b\b\b\b\b\b\b\b\b\b\b\b\b\b\b\b\b\b\b\b\b                             \b\b\b\b\b\b\b\b\b\b\b\b\b\b\b\b\b\b\b\b\b\b\b\b\b\b\b\b\b 74% 1 - yoochoose-clicks.dat\b\b\b\b\b\b\b\b\b\b\b\b\b\b\b\b\b\b\b\b\b\b\b\b\b\b\b\b\b                             \b\b\b\b\b\b\b\b\b\b\b\b\b\b\b\b\b\b\b\b\b\b\b\b\b\b\b\b\b 75% 1 - yoochoose-clicks.dat\b\b\b\b\b\b\b\b\b\b\b\b\b\b\b\b\b\b\b\b\b\b\b\b\b\b\b\b\b                             \b\b\b\b\b\b\b\b\b\b\b\b\b\b\b\b\b\b\b\b\b\b\b\b\b\b\b\b\b 76% 1 - yoochoose-clicks.dat\b\b\b\b\b\b\b\b\b\b\b\b\b\b\b\b\b\b\b\b\b\b\b\b\b\b\b\b\b                             \b\b\b\b\b\b\b\b\b\b\b\b\b\b\b\b\b\b\b\b\b\b\b\b\b\b\b\b\b 77% 1 - yoochoose-clicks.dat\b\b\b\b\b\b\b\b\b\b\b\b\b\b\b\b\b\b\b\b\b\b\b\b\b\b\b\b\b                             \b\b\b\b\b\b\b\b\b\b\b\b\b\b\b\b\b\b\b\b\b\b\b\b\b\b\b\b\b 78% 1 - yoochoose-clicks.dat\b\b\b\b\b\b\b\b\b\b\b\b\b\b\b\b\b\b\b\b\b\b\b\b\b\b\b\b\b                             \b\b\b\b\b\b\b\b\b\b\b\b\b\b\b\b\b\b\b\b\b\b\b\b\b\b\b\b\b 79% 1 - yoochoose-clicks.dat\b\b\b\b\b\b\b\b\b\b\b\b\b\b\b\b\b\b\b\b\b\b\b\b\b\b\b\b\b                             \b\b\b\b\b\b\b\b\b\b\b\b\b\b\b\b\b\b\b\b\b\b\b\b\b\b\b\b\b 80% 1 - yoochoose-clicks.dat\b\b\b\b\b\b\b\b\b\b\b\b\b\b\b\b\b\b\b\b\b\b\b\b\b\b\b\b\b                             \b\b\b\b\b\b\b\b\b\b\b\b\b\b\b\b\b\b\b\b\b\b\b\b\b\b\b\b\b 81% 2 - yoochoose-test.dat\b\b\b\b\b\b\b\b\b\b\b\b\b\b\b\b\b\b\b\b\b\b\b\b\b\b\b                           \b\b\b\b\b\b\b\b\b\b\b\b\b\b\b\b\b\b\b\b\b\b\b\b\b\b\b 82% 2 - yoochoose-test.dat\b\b\b\b\b\b\b\b\b\b\b\b\b\b\b\b\b\b\b\b\b\b\b\b\b\b\b                           \b\b\b\b\b\b\b\b\b\b\b\b\b\b\b\b\b\b\b\b\b\b\b\b\b\b\b 83% 2 - yoochoose-test.dat\b\b\b\b\b\b\b\b\b\b\b\b\b\b\b\b\b\b\b\b\b\b\b\b\b\b\b                           \b\b\b\b\b\b\b\b\b\b\b\b\b\b\b\b\b\b\b\b\b\b\b\b\b\b\b 84% 2 - yoochoose-test.dat\b\b\b\b\b\b\b\b\b\b\b\b\b\b\b\b\b\b\b\b\b\b\b\b\b\b\b                           \b\b\b\b\b\b\b\b\b\b\b\b\b\b\b\b\b\b\b\b\b\b\b\b\b\b\b 85% 2 - yoochoose-test.dat\b\b\b\b\b\b\b\b\b\b\b\b\b\b\b\b\b\b\b\b\b\b\b\b\b\b\b                           \b\b\b\b\b\b\b\b\b\b\b\b\b\b\b\b\b\b\b\b\b\b\b\b\b\b\b 86% 2 - yoochoose-test.dat\b\b\b\b\b\b\b\b\b\b\b\b\b\b\b\b\b\b\b\b\b\b\b\b\b\b\b                           \b\b\b\b\b\b\b\b\b\b\b\b\b\b\b\b\b\b\b\b\b\b\b\b\b\b\b 87% 2 - yoochoose-test.dat\b\b\b\b\b\b\b\b\b\b\b\b\b\b\b\b\b\b\b\b\b\b\b\b\b\b\b                           \b\b\b\b\b\b\b\b\b\b\b\b\b\b\b\b\b\b\b\b\b\b\b\b\b\b\b 88% 2 - yoochoose-test.dat\b\b\b\b\b\b\b\b\b\b\b\b\b\b\b\b\b\b\b\b\b\b\b\b\b\b\b                           \b\b\b\b\b\b\b\b\b\b\b\b\b\b\b\b\b\b\b\b\b\b\b\b\b\b\b 89% 2 - yoochoose-test.dat\b\b\b\b\b\b\b\b\b\b\b\b\b\b\b\b\b\b\b\b\b\b\b\b\b\b\b                           \b\b\b\b\b\b\b\b\b\b\b\b\b\b\b\b\b\b\b\b\b\b\b\b\b\b\b 90% 2 - yoochoose-test.dat\b\b\b\b\b\b\b\b\b\b\b\b\b\b\b\b\b\b\b\b\b\b\b\b\b\b\b                           \b\b\b\b\b\b\b\b\b\b\b\b\b\b\b\b\b\b\b\b\b\b\b\b\b\b\b 91% 2 - yoochoose-test.dat\b\b\b\b\b\b\b\b\b\b\b\b\b\b\b\b\b\b\b\b\b\b\b\b\b\b\b                           \b\b\b\b\b\b\b\b\b\b\b\b\b\b\b\b\b\b\b\b\b\b\b\b\b\b\b 92% 2 - yoochoose-test.dat\b\b\b\b\b\b\b\b\b\b\b\b\b\b\b\b\b\b\b\b\b\b\b\b\b\b\b                           \b\b\b\b\b\b\b\b\b\b\b\b\b\b\b\b\b\b\b\b\b\b\b\b\b\b\b 93% 2 - yoochoose-test.dat\b\b\b\b\b\b\b\b\b\b\b\b\b\b\b\b\b\b\b\b\b\b\b\b\b\b\b                           \b\b\b\b\b\b\b\b\b\b\b\b\b\b\b\b\b\b\b\b\b\b\b\b\b\b\b 94% 2 - yoochoose-test.dat\b\b\b\b\b\b\b\b\b\b\b\b\b\b\b\b\b\b\b\b\b\b\b\b\b\b\b                           \b\b\b\b\b\b\b\b\b\b\b\b\b\b\b\b\b\b\b\b\b\b\b\b\b\b\b 95% 2 - yoochoose-test.dat\b\b\b\b\b\b\b\b\b\b\b\b\b\b\b\b\b\b\b\b\b\b\b\b\b\b\b                           \b\b\b\b\b\b\b\b\b\b\b\b\b\b\b\b\b\b\b\b\b\b\b\b\b\b\b 96% 2 - yoochoose-test.dat\b\b\b\b\b\b\b\b\b\b\b\b\b\b\b\b\b\b\b\b\b\b\b\b\b\b\b                           \b\b\b\b\b\b\b\b\b\b\b\b\b\b\b\b\b\b\b\b\b\b\b\b\b\b\b 97% 2 - yoochoose-test.dat\b\b\b\b\b\b\b\b\b\b\b\b\b\b\b\b\b\b\b\b\b\b\b\b\b\b\b                           \b\b\b\b\b\b\b\b\b\b\b\b\b\b\b\b\b\b\b\b\b\b\b\b\b\b\b 98% 2 - yoochoose-test.dat\b\b\b\b\b\b\b\b\b\b\b\b\b\b\b\b\b\b\b\b\b\b\b\b\b\b\b                           \b\b\b\b\b\b\b\b\b\b\b\b\b\b\b\b\b\b\b\b\b\b\b\b\b\b\b 99% 2 - yoochoose-test.dat\b\b\b\b\b\b\b\b\b\b\b\b\b\b\b\b\b\b\b\b\b\b\b\b\b\b\b                           \b\b\b\b\b\b\b\b\b\b\b\b\b\b\b\b\b\b\b\b\b\b\b\b\b\b\b 99% 3\b\b\b\b\b\b      \b\b\b\b\b\bEverything is Ok\n",
            "\n",
            "Files: 4\n",
            "Size:       1914111754\n",
            "Compressed: 287211932\n"
          ],
          "name": "stdout"
        }
      ]
    },
    {
      "cell_type": "markdown",
      "metadata": {
        "id": "gpjJOcqDR945"
      },
      "source": [
        "# Preprocesar dataset"
      ]
    },
    {
      "cell_type": "code",
      "metadata": {
        "id": "7E3mSmYQR9k-"
      },
      "source": [
        "import os\n",
        "import numpy as np\n",
        "import pandas as pd\n",
        "import datetime as dt\n",
        "from matplotlib import pyplot as plt\n",
        "os.environ['TF_CPP_MIN_LOG_LEVEL'] = '3'"
      ],
      "execution_count": 4,
      "outputs": []
    },
    {
      "cell_type": "code",
      "metadata": {
        "id": "WwNyFUAHRssj"
      },
      "source": [
        "src_path = './rsc15/'\n",
        "dst_path   = './data/'"
      ],
      "execution_count": 5,
      "outputs": []
    },
    {
      "cell_type": "code",
      "metadata": {
        "id": "om43PXTNSoLu"
      },
      "source": [
        "def process(src_path, dst_path):\n",
        "  data = pd.read_csv(src_path + 'yoochoose-clicks.dat', sep=',', header=None, usecols=[0,1,2], dtype={0:np.int32, 1:str, 2:np.int64})\n",
        "  data.columns = ['SessionId', 'TimeStr', 'ItemId']\n",
        "\n",
        "  # Add timestamp\n",
        "  data['Time'] = data.TimeStr.apply(lambda x: dt.datetime.strptime(x, '%Y-%m-%dT%H:%M:%S.%fZ').timestamp())\n",
        "  del(data['TimeStr'])\n",
        "\n",
        "  # Filter by session size > 1\n",
        "  session_lengths = data.groupby('SessionId').size()  \n",
        "  data = data[np.in1d(data.SessionId, session_lengths[session_lengths>1].index)]\n",
        "  \n",
        "  # Filter by \"known\" (appears >= 5) items\n",
        "  item_supports = data.groupby('ItemId').size()\n",
        "  data = data[np.in1d(data.ItemId, item_supports[item_supports>=5].index)]\n",
        "  \n",
        "  # Filter by session size > 2\n",
        "  session_lengths = data.groupby('SessionId').size()\n",
        "  data = data[np.in1d(data.SessionId, session_lengths[session_lengths>=2].index)]\n",
        "\n",
        "  # Test split is entire last day\n",
        "  tmax = data.Time.max()\n",
        "  session_max_times = data.groupby('SessionId').Time.max()\n",
        "  \n",
        "  session_train = session_max_times[session_max_times < tmax-86400].index\n",
        "  train = data[np.in1d(data.SessionId, session_train)]\n",
        "  \n",
        "  session_test = session_max_times[session_max_times >= tmax-86400].index\n",
        "  test = data[np.in1d(data.SessionId, session_test)]\n",
        "  test = test[np.in1d(test.ItemId, train.ItemId)]\n",
        "  tslength = test.groupby('SessionId').size()\n",
        "  test = test[np.in1d(test.SessionId, tslength[tslength>=2].index)]\n",
        "  print('Test set\\n\\tEvents: {}\\n\\tSessions: {}\\n\\tItems: {}'.format(len(test), test.SessionId.nunique(), test.ItemId.nunique()))\n",
        "  test.to_csv(dst_path + 'test.tsv', sep='\\t', index=False)\n",
        "\n",
        "  # Validation: second to last day. Train: remainder\n",
        "  tmax = train.Time.max()\n",
        "  session_max_times = train.groupby('SessionId').Time.max()\n",
        "  session_train = session_max_times[session_max_times < tmax-86400].index\n",
        "  session_valid = session_max_times[session_max_times >= tmax-86400].index\n",
        "\n",
        "  train_tr = train[np.in1d(train.SessionId, session_train)]\n",
        "  valid = train[np.in1d(train.SessionId, session_valid)]\n",
        "  valid = valid[np.in1d(valid.ItemId, train_tr.ItemId)]\n",
        "  tslength = valid.groupby('SessionId').size()\n",
        "  valid = valid[np.in1d(valid.SessionId, tslength[tslength>=2].index)]\n",
        "  print('Validation set\\n\\tEvents: {}\\n\\tSessions: {}\\n\\tItems: {}'.format(len(valid), valid.SessionId.nunique(), valid.ItemId.nunique()))\n",
        "  valid.to_csv(dst_path + 'validation.tsv', sep='\\t', index=False)\n",
        "  \n",
        "  \n",
        "  print('Train set\\n\\tEvents: {}\\n\\tSessions: {}\\n\\tItems: {}'.format(len(train_tr), train_tr.SessionId.nunique(), train_tr.ItemId.nunique()))\n",
        "  train_tr.to_csv(dst_path + 'train.tsv', sep='\\t', index=False)\n"
      ],
      "execution_count": 6,
      "outputs": []
    },
    {
      "cell_type": "code",
      "metadata": {
        "id": "nc6wy4phS1v2",
        "outputId": "c770fcbe-d659-42b1-a3ab-2bd1e0cdf49d",
        "colab": {
          "base_uri": "https://localhost:8080/",
          "height": 235
        }
      },
      "source": [
        "process(src_path, dst_path)  # Takes ~10 minutes"
      ],
      "execution_count": 7,
      "outputs": [
        {
          "output_type": "stream",
          "text": [
            "Test set\n",
            "\tEvents: 71222\n",
            "\tSessions: 15324\n",
            "\tItems: 6751\n",
            "Validation set\n",
            "\tEvents: 58233\n",
            "\tSessions: 12372\n",
            "\tItems: 6359\n",
            "Train set\n",
            "\tEvents: 31579006\n",
            "\tSessions: 7953885\n",
            "\tItems: 37483\n"
          ],
          "name": "stdout"
        }
      ]
    },
    {
      "cell_type": "code",
      "metadata": {
        "id": "kx_HdipUDS2z"
      },
      "source": [
        "def train_fraction(df, fraction, prefix=\"train\", path=\"./data/\"):\n",
        "    \n",
        "    length = len(df['ItemId'])\n",
        "    first_session = df.iloc[length - length//fraction].SessionId\n",
        "    df = df.loc[df['SessionId'] >= first_session]\n",
        "    itemids = df['ItemId'].unique()\n",
        "    n_items = len(itemids)\n",
        "\n",
        "    print('Fractioned data set\\n\\tEvents: {}\\n\\tSessions: {}\\n\\tItems: {}'.format(len(df), df.SessionId.nunique(), df.ItemId.nunique()))\n",
        "    filename = path + '{}_{}.tsv'.format(prefix, fraction)\n",
        "    df.to_csv(filename, sep='\\t', index=False)\n",
        "    print(\"Saved as {}\".format(filename))"
      ],
      "execution_count": 8,
      "outputs": []
    },
    {
      "cell_type": "code",
      "metadata": {
        "id": "4r1tWG1gh7eX",
        "outputId": "bd5596f0-ec8d-42a3-8e37-6116242ce453",
        "colab": {
          "base_uri": "https://localhost:8080/",
          "height": 108
        }
      },
      "source": [
        "# Obtain most recent 1/nth fraction of train for demo purposes\n",
        "fraction = 64\n",
        "train = pd.read_csv(dst_path + 'train.tsv', sep='\\t', dtype={'ItemId':np.int64})\n",
        "train_fraction(train, fraction)\n"
      ],
      "execution_count": 9,
      "outputs": [
        {
          "output_type": "stream",
          "text": [
            "Fractioned data set\n",
            "\tEvents: 71391\n",
            "\tSessions: 17450\n",
            "\tItems: 8724\n",
            "Saved as ./data/train_64.tsv\n"
          ],
          "name": "stdout"
        }
      ]
    },
    {
      "cell_type": "markdown",
      "metadata": {
        "id": "ZWgvazVufHs6"
      },
      "source": [
        "# Entrenamiento"
      ]
    },
    {
      "cell_type": "code",
      "metadata": {
        "id": "PSPwVh4AS_GW",
        "outputId": "8b775a5d-5a1a-48a4-b4be-e1acbbaa4ac2",
        "colab": {
          "base_uri": "https://localhost:8080/",
          "height": 1000
        }
      },
      "source": [
        "!python src/model/gru4rec.py --epochs 200 --train-path ./data/train_64.tsv --dev-path ./data/validation.tsv --test-path ./data/test.tsv"
      ],
      "execution_count": 10,
      "outputs": [
        {
          "output_type": "stream",
          "text": [
            "Model: \"functional_1\"\n",
            "_________________________________________________________________\n",
            "Layer (type)                 Output Shape              Param #   \n",
            "=================================================================\n",
            "input_1 (InputLayer)         [(512, 1, 8725)]          0         \n",
            "_________________________________________________________________\n",
            "GRU (GRU)                    [(512, 100), (512, 100)]  2648100   \n",
            "_________________________________________________________________\n",
            "dropout (Dropout)            (512, 100)                0         \n",
            "_________________________________________________________________\n",
            "dense (Dense)                (512, 8725)               881225    \n",
            "=================================================================\n",
            "Total params: 3,529,325\n",
            "Trainable params: 3,529,325\n",
            "Non-trainable params: 0\n",
            "_________________________________________________________________\n",
            "Epoch 1. Loss: 8.34656:  97% 16929/17451 [00:12<00:00, 1367.93it/s]\n",
            "Epoch 2. Loss: 7.88676:  97% 16929/17451 [00:04<00:00, 3467.18it/s]\n",
            "Epoch 3. Loss: 7.58656:  97% 16929/17451 [00:04<00:00, 3422.56it/s]\n",
            "Epoch 4. Loss: 7.39982:  97% 16929/17451 [00:04<00:00, 3403.64it/s]\n",
            "Epoch 5. Loss: 7.26105:  97% 16929/17451 [00:04<00:00, 3433.52it/s]\n",
            "Epoch 6. Loss: 7.12706:  97% 16929/17451 [00:04<00:00, 3415.10it/s]\n",
            "Epoch 7. Loss: 7.00047:  97% 16929/17451 [00:04<00:00, 3467.96it/s]\n",
            "Epoch 8. Loss: 6.84595:  97% 16929/17451 [00:04<00:00, 3449.36it/s]\n",
            "Epoch 9. Loss: 6.64081:  97% 16929/17451 [00:04<00:00, 3413.24it/s]\n",
            "Epoch 10. Loss: 6.45905:  97% 16929/17451 [00:04<00:00, 3421.01it/s]\n",
            "Epoch 11. Loss: 6.26361:  97% 16929/17451 [00:04<00:00, 3424.55it/s]\n",
            "Epoch 12. Loss: 6.07751:  97% 16929/17451 [00:04<00:00, 3388.23it/s]\n",
            "Epoch 13. Loss: 5.89492:  97% 16929/17451 [00:04<00:00, 3413.60it/s]\n",
            "Epoch 14. Loss: 5.71598:  97% 16929/17451 [00:04<00:00, 3441.26it/s]\n",
            "Epoch 15. Loss: 5.59276:  97% 16929/17451 [00:04<00:00, 3421.26it/s]\n",
            "Epoch 16. Loss: 5.42470:  97% 16929/17451 [00:04<00:00, 3418.12it/s]\n",
            "Epoch 17. Loss: 5.27524:  97% 16929/17451 [00:04<00:00, 3425.43it/s]\n",
            "Epoch 18. Loss: 5.15404:  97% 16929/17451 [00:04<00:00, 3442.47it/s]\n",
            "Epoch 19. Loss: 5.03336:  97% 16929/17451 [00:04<00:00, 3432.04it/s]\n",
            "Epoch 20. Loss: 4.88574:  97% 16929/17451 [00:04<00:00, 3452.61it/s]\n",
            "Epoch 21. Loss: 4.76444:  97% 16929/17451 [00:04<00:00, 3425.74it/s]\n",
            "Epoch 22. Loss: 4.62313:  97% 16929/17451 [00:05<00:00, 3373.92it/s]\n",
            "Epoch 23. Loss: 4.50299:  97% 16929/17451 [00:04<00:00, 3458.26it/s]\n",
            "Epoch 24. Loss: 4.34878:  97% 16929/17451 [00:04<00:00, 3439.22it/s]\n",
            "Epoch 25. Loss: 4.26947:  97% 16929/17451 [00:04<00:00, 3452.13it/s]\n",
            "Epoch 26. Loss: 4.15897:  97% 16929/17451 [00:04<00:00, 3425.85it/s]\n",
            "Epoch 27. Loss: 4.04937:  97% 16929/17451 [00:04<00:00, 3462.52it/s]\n",
            "Epoch 28. Loss: 3.93183:  97% 16929/17451 [00:05<00:00, 3331.11it/s]\n",
            "Epoch 29. Loss: 3.83250:  97% 16929/17451 [00:05<00:00, 3355.55it/s]\n",
            "Epoch 30. Loss: 3.75015:  97% 16929/17451 [00:05<00:00, 3380.32it/s]\n",
            "Epoch 31. Loss: 3.66546:  97% 16929/17451 [00:04<00:00, 3443.79it/s]\n",
            "Epoch 32. Loss: 3.56271:  97% 16929/17451 [00:05<00:00, 3335.20it/s]\n",
            "Epoch 33. Loss: 3.48082:  97% 16929/17451 [00:05<00:00, 3379.30it/s]\n",
            "Epoch 34. Loss: 3.40314:  97% 16929/17451 [00:04<00:00, 3388.35it/s]\n",
            "Epoch 35. Loss: 3.34786:  97% 16929/17451 [00:05<00:00, 3320.21it/s]\n",
            "Epoch 36. Loss: 3.21893:  97% 16929/17451 [00:05<00:00, 3334.47it/s]\n",
            "Epoch 37. Loss: 3.19286:  97% 16929/17451 [00:04<00:00, 3430.73it/s]\n",
            "Epoch 38. Loss: 3.12916:  97% 16929/17451 [00:04<00:00, 3444.82it/s]\n",
            "Epoch 39. Loss: 3.03019:  97% 16929/17451 [00:04<00:00, 3428.86it/s]\n",
            "Epoch 40. Loss: 2.95944:  97% 16929/17451 [00:04<00:00, 3419.18it/s]\n",
            "Epoch 41. Loss: 2.87322:  97% 16929/17451 [00:04<00:00, 3432.39it/s]\n",
            "Epoch 42. Loss: 2.87833:  97% 16929/17451 [00:04<00:00, 3393.23it/s]\n",
            "Epoch 43. Loss: 2.80626:  97% 16929/17451 [00:04<00:00, 3467.02it/s]\n",
            "Epoch 44. Loss: 2.71255:  97% 16929/17451 [00:04<00:00, 3433.22it/s]\n",
            "Epoch 45. Loss: 2.71077:  97% 16929/17451 [00:04<00:00, 3401.25it/s]\n",
            "Epoch 46. Loss: 2.63945:  97% 16929/17451 [00:04<00:00, 3412.58it/s]\n",
            "Epoch 47. Loss: 2.57837:  97% 16929/17451 [00:04<00:00, 3466.05it/s]\n",
            "Epoch 48. Loss: 2.56179:  97% 16929/17451 [00:04<00:00, 3419.80it/s]\n",
            "Epoch 49. Loss: 2.52279:  97% 16929/17451 [00:04<00:00, 3431.41it/s]\n",
            "Epoch 50. Loss: 2.50843:  97% 16929/17451 [00:04<00:00, 3449.93it/s]\n",
            "Epoch 51. Loss: 2.43395:  97% 16929/17451 [00:04<00:00, 3451.86it/s]\n",
            "Epoch 52. Loss: 2.39671:  97% 16929/17451 [00:04<00:00, 3443.35it/s]\n",
            "Epoch 53. Loss: 2.44920:  97% 16929/17451 [00:04<00:00, 3455.07it/s]\n",
            "Epoch 54. Loss: 2.41166:  97% 16929/17451 [00:04<00:00, 3435.19it/s]\n",
            "Epoch 55. Loss: 2.36970:  97% 16929/17451 [00:04<00:00, 3432.42it/s]\n",
            "Epoch 56. Loss: 2.31145:  97% 16929/17451 [00:04<00:00, 3450.85it/s]\n",
            "Epoch 57. Loss: 2.34673:  97% 16929/17451 [00:04<00:00, 3450.18it/s]\n",
            "Epoch 58. Loss: 2.29977:  97% 16929/17451 [00:04<00:00, 3446.77it/s]\n",
            "Epoch 59. Loss: 2.25601:  97% 16929/17451 [00:04<00:00, 3420.33it/s]\n",
            "Epoch 60. Loss: 2.25962:  97% 16929/17451 [00:04<00:00, 3446.94it/s]\n",
            "Epoch 61. Loss: 2.27330:  97% 16929/17451 [00:05<00:00, 3385.07it/s]\n",
            "Epoch 62. Loss: 2.26362:  97% 16929/17451 [00:05<00:00, 3362.34it/s]\n",
            "Epoch 63. Loss: 2.26159:  97% 16929/17451 [00:04<00:00, 3394.26it/s]\n",
            "Epoch 64. Loss: 2.19425:  97% 16929/17451 [00:04<00:00, 3431.84it/s]\n",
            "Epoch 65. Loss: 2.19158:  97% 16929/17451 [00:04<00:00, 3433.83it/s]\n",
            "Epoch 66. Loss: 2.16354:  97% 16929/17451 [00:04<00:00, 3441.53it/s]\n",
            "Epoch 67. Loss: 2.19006:  97% 16929/17451 [00:05<00:00, 3373.13it/s]\n",
            "Epoch 68. Loss: 2.10144:  97% 16929/17451 [00:04<00:00, 3429.36it/s]\n",
            "Epoch 69. Loss: 2.11863:  97% 16929/17451 [00:04<00:00, 3463.15it/s]\n",
            "Epoch 70. Loss: 2.13520:  97% 16929/17451 [00:04<00:00, 3438.44it/s]\n",
            "Epoch 71. Loss: 2.09410:  97% 16929/17451 [00:05<00:00, 3381.52it/s]\n",
            "Epoch 72. Loss: 2.07408:  97% 16929/17451 [00:04<00:00, 3416.77it/s]\n",
            "Epoch 73. Loss: 2.12891:  97% 16929/17451 [00:04<00:00, 3394.61it/s]\n",
            "Epoch 74. Loss: 2.06941:  97% 16929/17451 [00:05<00:00, 3331.19it/s]\n",
            "Epoch 75. Loss: 1.99970:  97% 16929/17451 [00:05<00:00, 3355.50it/s]\n",
            "Epoch 76. Loss: 2.14675:  97% 16929/17451 [00:05<00:00, 3345.93it/s]\n",
            "Epoch 77. Loss: 2.08633:  97% 16929/17451 [00:04<00:00, 3389.68it/s]\n",
            "Epoch 78. Loss: 2.04942:  97% 16929/17451 [00:04<00:00, 3417.21it/s]\n",
            "Epoch 79. Loss: 2.07227:  97% 16929/17451 [00:04<00:00, 3431.83it/s]\n",
            "Epoch 80. Loss: 1.98695:  97% 16929/17451 [00:04<00:00, 3401.46it/s]\n",
            "Epoch 81. Loss: 2.04317:  97% 16929/17451 [00:04<00:00, 3414.38it/s]\n",
            "Epoch 82. Loss: 1.92712:  97% 16929/17451 [00:04<00:00, 3426.51it/s]\n",
            "Epoch 83. Loss: 1.99337:  97% 16929/17451 [00:04<00:00, 3391.68it/s]\n",
            "Epoch 84. Loss: 1.94873:  97% 16929/17451 [00:04<00:00, 3387.78it/s]\n",
            "Epoch 85. Loss: 2.01715:  97% 16929/17451 [00:05<00:00, 3382.87it/s]\n",
            "Epoch 86. Loss: 1.92009:  97% 16929/17451 [00:04<00:00, 3416.29it/s]\n",
            "Epoch 87. Loss: 1.97358:  97% 16929/17451 [00:04<00:00, 3414.87it/s]\n",
            "Epoch 88. Loss: 1.98309:  97% 16929/17451 [00:04<00:00, 3398.67it/s]\n",
            "Epoch 89. Loss: 1.94785:  97% 16929/17451 [00:04<00:00, 3409.44it/s]\n",
            "Epoch 90. Loss: 1.93102:  97% 16929/17451 [00:05<00:00, 3375.02it/s]\n",
            "Epoch 91. Loss: 1.96992:  97% 16929/17451 [00:05<00:00, 3342.85it/s]\n",
            "Epoch 92. Loss: 1.91554:  97% 16929/17451 [00:05<00:00, 3352.27it/s]\n",
            "Epoch 93. Loss: 1.94016:  97% 16929/17451 [00:04<00:00, 3387.60it/s]\n",
            "Epoch 94. Loss: 1.90799:  97% 16929/17451 [00:05<00:00, 3324.03it/s]\n",
            "Epoch 95. Loss: 1.88641:  97% 16929/17451 [00:04<00:00, 3410.28it/s]\n",
            "Epoch 96. Loss: 1.91938:  97% 16929/17451 [00:04<00:00, 3444.48it/s]\n",
            "Epoch 97. Loss: 1.84121:  97% 16929/17451 [00:04<00:00, 3386.02it/s]\n",
            "Epoch 98. Loss: 1.87285:  97% 16929/17451 [00:04<00:00, 3388.82it/s]\n",
            "Epoch 99. Loss: 1.89157:  97% 16929/17451 [00:04<00:00, 3427.86it/s]\n",
            "Epoch 100. Loss: 1.84133:  97% 16929/17451 [00:04<00:00, 3402.88it/s]\n",
            "Epoch 101. Loss: 1.88167:  97% 16929/17451 [00:04<00:00, 3436.65it/s]\n",
            "Epoch 102. Loss: 1.83125:  97% 16929/17451 [00:04<00:00, 3433.79it/s]\n",
            "Epoch 103. Loss: 1.87997:  97% 16929/17451 [00:04<00:00, 3408.22it/s]\n",
            "Epoch 104. Loss: 1.81708:  97% 16929/17451 [00:04<00:00, 3421.96it/s]\n",
            "Epoch 105. Loss: 1.84217:  97% 16929/17451 [00:04<00:00, 3405.56it/s]\n",
            "Epoch 106. Loss: 1.82106:  97% 16929/17451 [00:04<00:00, 3407.24it/s]\n",
            "Epoch 107. Loss: 1.83077:  97% 16929/17451 [00:04<00:00, 3408.68it/s]\n",
            "Epoch 108. Loss: 1.80622:  97% 16929/17451 [00:04<00:00, 3392.99it/s]\n",
            "Epoch 109. Loss: 1.86717:  97% 16929/17451 [00:04<00:00, 3400.48it/s]\n",
            "Epoch 110. Loss: 1.82612:  97% 16929/17451 [00:04<00:00, 3418.58it/s]\n",
            "Epoch 111. Loss: 1.83019:  97% 16929/17451 [00:04<00:00, 3390.40it/s]\n",
            "Epoch 112. Loss: 1.83546:  97% 16929/17451 [00:04<00:00, 3437.88it/s]\n",
            "Epoch 113. Loss: 1.83010:  97% 16929/17451 [00:04<00:00, 3418.69it/s]\n",
            "Epoch 114. Loss: 1.78727:  97% 16929/17451 [00:04<00:00, 3402.65it/s]\n",
            "Epoch 115. Loss: 1.81002:  97% 16929/17451 [00:04<00:00, 3417.34it/s]\n",
            "Epoch 116. Loss: 1.83524:  97% 16929/17451 [00:04<00:00, 3410.24it/s]\n",
            "Epoch 117. Loss: 1.74943:  97% 16929/17451 [00:04<00:00, 3403.76it/s]\n",
            "Epoch 118. Loss: 1.80469:  97% 16929/17451 [00:04<00:00, 3407.92it/s]\n",
            "Epoch 119. Loss: 1.81110:  97% 16929/17451 [00:04<00:00, 3414.21it/s]\n",
            "Epoch 120. Loss: 1.77568:  97% 16929/17451 [00:04<00:00, 3462.45it/s]\n",
            "Epoch 121. Loss: 1.75678:  97% 16929/17451 [00:04<00:00, 3439.47it/s]\n",
            "Epoch 122. Loss: 1.73522:  97% 16929/17451 [00:04<00:00, 3424.13it/s]\n",
            "Epoch 123. Loss: 1.75241:  97% 16929/17451 [00:04<00:00, 3412.09it/s]\n",
            "Epoch 124. Loss: 1.73991:  97% 16929/17451 [00:04<00:00, 3417.19it/s]\n",
            "Epoch 125. Loss: 1.78742:  97% 16929/17451 [00:04<00:00, 3392.69it/s]\n",
            "Epoch 126. Loss: 1.81614:  97% 16929/17451 [00:04<00:00, 3400.70it/s]\n",
            "Epoch 127. Loss: 1.76158:  97% 16929/17451 [00:04<00:00, 3398.09it/s]\n",
            "Epoch 128. Loss: 1.77308:  97% 16929/17451 [00:04<00:00, 3400.43it/s]\n",
            "Epoch 129. Loss: 1.78016:  97% 16929/17451 [00:04<00:00, 3415.02it/s]\n",
            "Epoch 130. Loss: 1.78682:  97% 16929/17451 [00:04<00:00, 3440.88it/s]\n",
            "Epoch 131. Loss: 1.70879:  97% 16929/17451 [00:04<00:00, 3421.49it/s]\n",
            "Epoch 132. Loss: 1.73068:  97% 16929/17451 [00:04<00:00, 3449.64it/s]\n",
            "Epoch 133. Loss: 1.76310:  97% 16929/17451 [00:04<00:00, 3456.01it/s]\n",
            "Epoch 134. Loss: 1.73645:  97% 16929/17451 [00:04<00:00, 3445.75it/s]\n",
            "Epoch 135. Loss: 1.71869:  97% 16929/17451 [00:04<00:00, 3445.89it/s]\n",
            "Epoch 136. Loss: 1.73940:  97% 16929/17451 [00:04<00:00, 3436.37it/s]\n",
            "Epoch 137. Loss: 1.69528:  97% 16929/17451 [00:04<00:00, 3422.11it/s]\n",
            "Epoch 138. Loss: 1.68634:  97% 16929/17451 [00:04<00:00, 3405.04it/s]\n",
            "Epoch 139. Loss: 1.75458:  97% 16929/17451 [00:04<00:00, 3399.10it/s]\n",
            "Epoch 140. Loss: 1.69340:  97% 16929/17451 [00:04<00:00, 3430.68it/s]\n",
            "Epoch 141. Loss: 1.74231:  97% 16929/17451 [00:04<00:00, 3418.33it/s]\n",
            "Epoch 142. Loss: 1.75601:  97% 16929/17451 [00:04<00:00, 3396.52it/s]\n",
            "Epoch 143. Loss: 1.68763:  97% 16929/17451 [00:05<00:00, 3381.60it/s]\n",
            "Epoch 144. Loss: 1.70937:  97% 16929/17451 [00:04<00:00, 3435.16it/s]\n",
            "Epoch 145. Loss: 1.71770:  97% 16929/17451 [00:04<00:00, 3435.87it/s]\n",
            "Epoch 146. Loss: 1.65267:  97% 16929/17451 [00:04<00:00, 3430.72it/s]\n",
            "Epoch 147. Loss: 1.73246:  97% 16929/17451 [00:04<00:00, 3464.05it/s]\n",
            "Epoch 148. Loss: 1.68660:  97% 16929/17451 [00:04<00:00, 3422.70it/s]\n",
            "Epoch 149. Loss: 1.70456:  97% 16929/17451 [00:04<00:00, 3426.61it/s]\n",
            "Epoch 150. Loss: 1.67229:  97% 16929/17451 [00:04<00:00, 3388.90it/s]\n",
            "Epoch 151. Loss: 1.63648:  97% 16929/17451 [00:04<00:00, 3430.60it/s]\n",
            "Epoch 152. Loss: 1.71276:  97% 16929/17451 [00:04<00:00, 3411.78it/s]\n",
            "Epoch 153. Loss: 1.63244:  97% 16929/17451 [00:05<00:00, 3358.72it/s]\n",
            "Epoch 154. Loss: 1.73018:  97% 16929/17451 [00:05<00:00, 3291.42it/s]\n",
            "Epoch 155. Loss: 1.65988:  97% 16929/17451 [00:05<00:00, 3335.13it/s]\n",
            "Epoch 156. Loss: 1.66970:  97% 16929/17451 [00:04<00:00, 3387.00it/s]\n",
            "Epoch 157. Loss: 1.69805:  97% 16929/17451 [00:04<00:00, 3435.90it/s]\n",
            "Epoch 158. Loss: 1.66588:  97% 16929/17451 [00:04<00:00, 3396.83it/s]\n",
            "Epoch 159. Loss: 1.64849:  97% 16929/17451 [00:04<00:00, 3396.18it/s]\n",
            "Epoch 160. Loss: 1.66229:  97% 16929/17451 [00:04<00:00, 3394.38it/s]\n",
            "Epoch 161. Loss: 1.67509:  97% 16929/17451 [00:05<00:00, 3377.58it/s]\n",
            "Epoch 162. Loss: 1.68127:  97% 16929/17451 [00:04<00:00, 3415.94it/s]\n",
            "Epoch 163. Loss: 1.69499:  97% 16929/17451 [00:04<00:00, 3391.95it/s]\n",
            "Epoch 164. Loss: 1.64550:  97% 16929/17451 [00:04<00:00, 3449.59it/s]\n",
            "Epoch 165. Loss: 1.67218:  97% 16929/17451 [00:04<00:00, 3439.21it/s]\n",
            "Epoch 166. Loss: 1.65711:  97% 16929/17451 [00:04<00:00, 3423.90it/s]\n",
            "Epoch 167. Loss: 1.70170:  97% 16929/17451 [00:04<00:00, 3423.62it/s]\n",
            "Epoch 168. Loss: 1.66242:  97% 16929/17451 [00:04<00:00, 3459.77it/s]\n",
            "Epoch 169. Loss: 1.64110:  97% 16929/17451 [00:04<00:00, 3441.13it/s]\n",
            "Epoch 170. Loss: 1.65009:  97% 16929/17451 [00:04<00:00, 3413.94it/s]\n",
            "Epoch 171. Loss: 1.64288:  97% 16929/17451 [00:04<00:00, 3416.45it/s]\n",
            "Epoch 172. Loss: 1.61022:  97% 16929/17451 [00:04<00:00, 3451.17it/s]\n",
            "Epoch 173. Loss: 1.67073:  97% 16929/17451 [00:04<00:00, 3404.57it/s]\n",
            "Epoch 174. Loss: 1.64679:  97% 16929/17451 [00:04<00:00, 3429.78it/s]\n",
            "Epoch 175. Loss: 1.60295:  97% 16929/17451 [00:04<00:00, 3387.97it/s]\n",
            "Epoch 176. Loss: 1.67331:  97% 16929/17451 [00:04<00:00, 3399.32it/s]\n",
            "Epoch 177. Loss: 1.65803:  97% 16929/17451 [00:04<00:00, 3421.90it/s]\n",
            "Epoch 178. Loss: 1.63201:  97% 16929/17451 [00:04<00:00, 3446.56it/s]\n",
            "Epoch 179. Loss: 1.62525:  97% 16929/17451 [00:04<00:00, 3451.95it/s]\n",
            "Epoch 180. Loss: 1.65728:  97% 16929/17451 [00:04<00:00, 3434.89it/s]\n",
            "Epoch 181. Loss: 1.64536:  97% 16929/17451 [00:04<00:00, 3413.72it/s]\n",
            "Epoch 182. Loss: 1.60449:  97% 16929/17451 [00:04<00:00, 3435.79it/s]\n",
            "Epoch 183. Loss: 1.60556:  97% 16929/17451 [00:04<00:00, 3445.81it/s]\n",
            "Epoch 184. Loss: 1.67188:  97% 16929/17451 [00:04<00:00, 3433.86it/s]\n",
            "Epoch 185. Loss: 1.59615:  97% 16929/17451 [00:04<00:00, 3446.26it/s]\n",
            "Epoch 186. Loss: 1.58977:  97% 16929/17451 [00:04<00:00, 3424.98it/s]\n",
            "Epoch 187. Loss: 1.57844:  97% 16929/17451 [00:04<00:00, 3398.80it/s]\n",
            "Epoch 188. Loss: 1.61285:  97% 16929/17451 [00:04<00:00, 3448.99it/s]\n",
            "Epoch 189. Loss: 1.64667:  97% 16929/17451 [00:04<00:00, 3449.05it/s]\n",
            "Epoch 190. Loss: 1.65042:  97% 16929/17451 [00:04<00:00, 3416.54it/s]\n",
            "Epoch 191. Loss: 1.63276:  97% 16929/17451 [00:04<00:00, 3393.77it/s]\n",
            "Epoch 192. Loss: 1.64927:  97% 16929/17451 [00:04<00:00, 3427.80it/s]\n",
            "Epoch 193. Loss: 1.56320:  97% 16929/17451 [00:04<00:00, 3456.34it/s]\n",
            "Epoch 194. Loss: 1.61450:  97% 16929/17451 [00:04<00:00, 3435.11it/s]\n",
            "Epoch 195. Loss: 1.62377:  97% 16929/17451 [00:04<00:00, 3414.65it/s]\n",
            "Epoch 196. Loss: 1.64746:  97% 16929/17451 [00:04<00:00, 3440.41it/s]\n",
            "Epoch 197. Loss: 1.59347:  97% 16929/17451 [00:04<00:00, 3428.49it/s]\n",
            "Epoch 198. Loss: 1.59910:  97% 16929/17451 [00:04<00:00, 3427.59it/s]\n",
            "Epoch 199. Loss: 1.60154:  97% 16929/17451 [00:04<00:00, 3431.61it/s]\n",
            "Evaluating model...\n",
            "\t - Recall@20 epoch 199: 0.458566\n",
            "\t - MRR@20    epoch 199: 0.158725\n",
            "\n"
          ],
          "name": "stdout"
        }
      ]
    },
    {
      "cell_type": "markdown",
      "metadata": {
        "id": "tk9EgsON-8Sr"
      },
      "source": [
        "## Resultados\n",
        "\n",
        "Luego de 200 épocas, deberías obtener un desempeño similar al siguiente:\n",
        "\n",
        "\t - Recall@20: 0.47\n",
        "\t - MRR@20   : 0.16\n",
        "\n",
        "\n",
        "Para replicar resultados del paper, utiliza el set de entrenamiento completo"
      ]
    },
    {
      "cell_type": "markdown",
      "metadata": {
        "id": "Ba8GM1y2o4w7"
      },
      "source": [
        "Obtuve los siguientes valores"
      ]
    },
    {
      "cell_type": "markdown",
      "metadata": {
        "id": "yS1K3pizotW9"
      },
      "source": [
        "![b.png](data:image/png;base64,iVBORw0KGgoAAAANSUhEUgAAA1IAAAC7CAYAAABvha/QAAAAAXNSR0IArs4c6QAAAARnQU1BAACxjwv8YQUAAAAJcEhZcwAAEnQAABJ0Ad5mH3gAAFJ+SURBVHhe7Z0/bus6sIfnvn24yDGMBF5E4tKFgQN4BwngIs1z4yYbSBo3fk0KA9lBDARQ4dJZxDESGE7jheRxJEqiKFIiZcl/kt8H8N7Yh6ZIDjmaIYfSf98CAgAAAAAAAADgzP/I/wMAAAAAAAAAcASOFAAAAAAAAAB4AkcKAAAAAAAAADyBIwUAAAAAAAAAnsCRAgAAAAAAAABP4EgBAAAAAAAAgCdwpAAAANDi7g/dLeQHAAD4oUDXgTqBIwUAAL+d9RPNtiOaDOVnAAA4Cmt6uvlDN09r+blmoOtAzZydI8UrCX/+NDvJblzKX9yF9YiTeXUjUghqvijdERZDDkM0Xhrob03++fGyoDvl3/8ULH+tn24yZZmyxuPelDL55fg15ftz8yRG5InhMI+c286o7a+5vX5jSZ/7ht856RDGfSy5l5llMZ0T9f9SV37WKWu7l4xUYnkZM/nrTz8ZuZLtf1t7Mn1QNPa0Oeoqo0IqlBnV94bquJWeS9ud69kALnpex0VGUR73MV+n3CNKdJ2mk+LUmA1XQpmuKyfb3mO1A5wQ35J/j9ffFxcX9nT7KnOeAK+339eP/+SHekjbf/v9Wlb+v8fv64vr7zTLv+/H64vvfBfx92q+Q/H6favLj9MpybBR0vZfP74KGQiZyn/Zn0jWF9eP4i8LufHBX4nxlfuNLCsjl6juuqheb03jy/A9X9tUN9v3x8RxHjm3Pfx9Wh73+f56osJYEvqD85vqnOCqQ5zHksC1TJ3wd6Z2ubfdXUYqsn63or+MmbLytNPkfGe4/OIyc2ONx4CxTXpZrm0sokKZXD/RT7de15b9rLXrXNruXs+64Tq56fkMhTKSsvAd85XkXgCX59KO2vuZ+9SxzSpWXVeNeu4x4NxJHKkQ24BvZCLsgahPo4O3pHyzcSAm9q3JUK5JYVWk2JD5DVRUuBZc+tNuVDqOBVb2TkLjm6lbmaHxfWIDwX0emTC1XXyXKVD/vC8OY4ll5+CwurbdZyxV7U83Y6DKPCoen8mYtN5f+JqOcyahSj3L4HYUlGmZr/8ebw0yMrVnv3HqX2YsF9f+5XxstBvynkvbPep5MAr1vI+MXMe8r9xLcNR19vm9D65tzlK34wNHCjBuoX1XHWrJP5Ptad6X1rbUrVvler6ibWV9G5jLFN+Ztk+zW+V1h3MU0aLOlfwzoUuXtKS3c93l9ZBRJjxCpLsFh74Y+t8wPhZCZuat8HS7/GS3ykV7gk5ALyWx1cOXL0ueHW0+5J91sAho1erT39IYhTW9LXfUG1gqnsy5Q84hZo95ZGz7FXW2s2Tcrp9mtM1foFEW0w2N3x8cwkbc2u43lqr054Km8zaNH6oHulgpHJ98XaLRTzio8LGhtmFudS+JlpmOX9MnmfqDx21gnnulc9O/TJ4Xq96YXEQe3WMHtBl/0dfXe/4359J253qeBj4ycqXuMt11nSvZENpiO2FA892KJkp++29iynWds20DgEKBI6UMoO4Dvcu7effhnb6CkbhlB3Q3EBPpixWsTOMNDXQDnJWhnu9rTJtBPkY4HMSzDgVqXi5zspI5UnbzAQ024zRf0KHZwQa8zSA2fb+juWhrdnLKfzoVPGU0E85Emi+gzmxCOQmxE2UYH5P5TmY4P9ZvS6JLoYSTGzwnxzEn+sPtgKu4UdzPjTd9nUWwopZLrPf6jZa7HjkUeWB85lEWc9u79PDcp6Wcb4Nln57rtERKWVCw7QgzziWGvnrb7WPJv8zQ2RxNqImhUTQ+F3cTcd1nB6Pu9PXn+nMr/8qzy3T8B22sWbf0Wcme9yxTjJ17YUxOy1aDpI6L77G27OfSdvd6HooCPe8qIx9qL9NH1wlWkyRPmIyL7kN6kbZCMIqX7nWEjn+P7I5Rq0fT2LaQ6b1AoZTpOmfbBgCNvCOVDPiSAbTaUid4yQ7K4YtwaIQhM43vdMIZm5AY7Fq+cMJMiSaKEcrGAU3pS1/h4DKnPflBoSfyqkpBOHvPoy0FB7jJDicj2k5UhzFaScn7e/GkVxNPzlMyBjxkJGmzM5EQt1H/vaDFilaBZSn6wKzs0r4qUoZH51M4iGF/SXm6OPBibIdOZcHqXbq7Gq3+lt/vxI1s1aK+ebk/AzuAu94gL58YKRejDBvEfR7pWNoeLgjMhekt2c1pEPZplA41597uBrTspzfk8WaQMzAqt71gLPmXGe0KuYwhfwrGp5DTRDiC5U7uOejPiK2rJ7DbCPPfA5e56VymNN6nBWXx+OL5Ei9oOhje59F2j3o2SLmed5CRN02UGeGi61I5KokXyA/6sA83Xeds2wCgkHek2EEJBzt7/PI7E7aQje4ltbef0QRZf9LWasANadBLV43C1X5bGI6YiLpx3TpwyE4G3qFjhzFZKZ0Jp7JoFUVFTM5xj1aH8Phc8JARM3yJDJnYOA2TyarhPgp3KNW82m7lmfGx2dFqvqS+uoAQjgVhdNgaluz2FSvjcKdXzjvu3+IQBUFdYX3HpOo8srU9c8NW9VeLRqLc2hZjbfBcEs7bnKYZfcXheePNVNzKFaq0vWwseZbZRPhQgnV8CqNutqLeuGpI0Inpz3NiMRVjs2RXnMdQbOiKMVSqh4AXpXreRUa+NFGmj64zMZyIGh3uKISLrnO2bQDQKAjtY288vmHz9u2hwubOhPiGEyaOHWeD1e4LZlDOnB0HXqmuKs/8KnHQmZm36nMrUeZwwXPhqiOkZlLGHxsyBY6Eq4/hyq7Pihb3b0D9ZfHN6PzD+iQV5pFL29dP9+lKKTsX9wdY/eRFJHbachbLmoyRRR5tdx5LzmVG3zd1Rskuow/a7DjwQTFWeMuMIyFcFcPR9ac77gt+7TBquF6yZYbhbZldWj5nwqGThgUuqbt5h4HzVtHZp9T2Io6zKGvW814ycqSJMr11XY4uXbbln43jqus8bBsAFNweNmHCtqXOKxXty+gGypNtZTlIKr4NVqmy64pZtVu+ne+A5VWfttvqbuHu26HxkJGN7sOz4+rSkF6m57ua3P3bp5alr7IhAaLn7uT5gsqHcYvODdQY1ndqlM4jt7Z/bJRDxcK5GLc9w4oqwTu4O/Ph9bYW5mrC0va9xpKtPz30lT9FMkrPQSSJQ7f1UO0CTkp/ClgvCKHn7l2LYKv1AY+PVT78nBc72lXnqHuZ6W5InHjXlndrDQ+RkPAOQ7x7YoooOJu2O9fz0GT1fBUZldFEmVHf76HrHG2LWthD17nbNuA3U92Ram0NZ0MW0QMokhsiG858zCan6egpPGiirK4OX2jantPAsPQVPoTilFcFOOSGV4s1Q8BYb5F3YH1yDPeLXDU62LaNh4w4ft4kB1ZU2tOTuO35JsiwHuP2SNr2o4STsAzD1bqCVTphkPM5vExfcZ+IbkqbFLUjPLRqGA+ZPgnPI+jX498PihV/3WF9SduPvOtsmUcZHNt+1RH6Ke5Y0c+z8GB08wzFZGrP7zMyXfA5gk7J7qGx7R5jyYS1P3kebpt7Yp7z+CzGX38eCdYL/SUlR4MZUc8J5ecwjw8xMJU2CVncL6lvkwXLsGRuepfpTbxSH0UUZPTzubTdo54h8VkxkUrnWRlV9fzR4LpFbS+yQ5x0nezHbDFcPj9sZt+H3KxSHc/Ia2XtB3EtF13Hv3W0bQDIIR+DHj4Pn1+sZk/KM/vj9x/w/zN5zO8mMJVte62AKa/6nH5+V0ryb8k7DOL3XMhU4Z0Fhe3XysvlLXqXAr9DQc1b+DI4pR17vXeB3xehXtOUsvVwklFO3jIZ2p+Rk5LszUrbvv97GYrab3l/RiKn8vdrZPtKl2dx3+fbn89f1n7uW6c+CuXl8K6NpO0OeWvEax5JnNuuziUHmdqpMJa035jq69Z2v7Hk3J8sb4e+rtZ2Lt5nfCplmpSDk/6sVk93uPyyuaHdg4r6V2uTXScKXOemT5mCrH7et4/Ope3u9UzmUllHOpMfoy56Ps2vy6j63CzPp/RTafuz9TC3Set3Y758nkwyykrvA0N7eGy46DoP20aFx4mTrgM/mv/4P9Kncoe99+ll8kh0AAAA50C0Eu72ZEgQwWdKAxrg6V2/Bt4Nnaz48dqQ+fnSvK7js6v39HzaTxoGjVM9tA8AAMCZEYVpwYnyJX35596hXuDE4fM7RK2G3q8GDkVTui4NfRyc8XsxQX1470ixB54dPFi1AQAAAMAPgM9mGd+tCAAAeaqF9gEAAAAAAADALwahfQAAAAAAAADgCRwpAAAAAAAAAPAEjhQAAAAAAAAAeAJHCgAAAAAAAAA8gSMFAAAAAAAAAJ7AkQIAABC+hBTvSAIA/HSg60CdwJECAIDfzvqJZtsRTfDiHADAUYleeHvztJafawa6DtTM2TlSvJLAb5RucpLduJTPL+2Tb7p3e9t9+jbsKN0RFkSaJxovDfS1Jv+i8RLV4YZyWeRYU8tJ0s2TGDF2rGXqeNTzKDjMo3jOm1Iuv9qnJX3oi99YcpjvzjpkQXdKvj9FysZbL0UspnOi/l/qys86ZW33kpFKLC9jJr0P41RWj7rne7b/be3J9EHR2NPmvauMCqlQZlRfBx3iwLm03bmeDbB+ukmvXVLPGGcZFc6jiCbb7lLPKE/dc9OfMl1XTlYvndw9FRwefiEv8+/x+vvi4sKebl9lzhPg9fb7+vGf/FAPaftvv1/Lyv/3+H19cf2dZvn3/Xh98W3tIlEel324Lnz9vlVlF6dTkmGjpO2/fnwVshEylf+yP5GsL64fxV8OsOzF9W+v1fEi4XFkKsf2fUxRmQme9TwGjvPo9dY8d/Lf8+/T8nhO768nKowll/nuqkNy+aJ2GeXqWqZO+DtTu9zb7i4jFVm/W9FfxkxZedppcr4zXH5xmbmxxmPA2Ca9LNc2FlGhTCcdoiP7WWvXubTdvZ51w3XS+y3qy8LLO8soKt8+jxpue2E95ZipfW5ymyuUZdV11cj1K/iVJI5UiG1yHUzhOCLq0+jgLSnfbByIiX1bwShumGJD5jdQUeFa8OtPvonwzYXr4G4wsHK2zze3Ms9B7l7zKEfcD/JjiPguU6D+eV8cxpLjfHdtu02Or7d52VftTzdjwKHtOUwySknGufX+wte0/95MlXqWwe0oKJNlbqj/v8dbg4xM7dlvnPqXGcvFtX85HxvDhrzn0naPeh4MS50i3GVUOo8abbvPWKpzblYrq27Hp+7ywHniFtp31aGW/DPZnuYtZG1L3bpdrOcr2gLWQlPCMsV3pu3T7Fb5IbeMW9S5kn8mdOmSlvSmVXMx3dD4/WGPbeQD4SGjTIiASHcLDn0x9L9hfCyEzMxb4el2+clulYv2BJ2AXhxjq9dPM1r1xvTgJfw1vS131BuYL+JUpmc90zl36LAL93mUYxHQqtWnv5l+uKLOdpaMW+6rbf4CjeI+393aPnz5sshxR5sP+WdClf5c0HTeprHfIHXDKKMYvi7R6CccVPjYUNswX7uXRMtMx6/pk0z9weM2MM+90rnpX6aPXorusQPajL/o6+s9/5tzabtzPU8Ddxk5zKMG217tHmcjG0JbbCcMaL5b0UTJb/9NTLmuc7ZtAFAocKSUAdR9oHd5N+8+vNNXMBK37IDuBsJo+GIFK9N4QwPdAGdlqOf7GtNmkI8RDgfxrEOBmpfLnKxkjpTdfECDzTjNF3RodrABbzJiGP37BQXbjlDrJx5T6ymjmTDS03wBdWYTykmInSjD+JjMdzLD+bF+WxJdCiWc3OA5WcacaP+9UNpTZ29Gsn6j5a5HRj/KsUyveh4V13mUZxGsqJWLc+/Sw3OflmLccpsHyz4913OHd8RnvldvO48D82Fp/zJDZ3M0Ic9R6oRZRhGLu4m47rODAbajuZRnnFzOlhyS9edW/pVnl+n4D9pYs27ps9JtwbNMV70kdUd8j7VlP5e2u9fzUAgdcT83Ojg+9w6XedRY26ve46wM6UXaCsEoXrrXETr+PbI7Rq0eTWPbQqb3go4o03XOtg0AGnlHajWRN6ySAbTaUid4yQ7K4YtwaIQhM43vdMIZm5AY7Fq+cMJMiSaKccfGAU3pS1/N5TKnPflBoSfyqhNYOHvPoy0FB7jJDicj2k5UhzFaSTH4eyFvdwNa9tMJOt4MTsiZ8pCRpM1GekKs2PTfC1psVCqwLK3KLi6nWBkenU/hIIb9JZWt0YGXN8mpoU9KYCdo1xsYfudZplM9JVIuRhk2iO88ShEOy6pFfX0pOlwQmAvTW7Kb0yDUZYc1wF3me+W2Cz0ZLlAYdr38y4xWs3P9WAsWGTFCThPhCJY7ualOSBMbN6fnTG1dPYHdRpj/HrjMTecyHXQIjy+eL/GCpoORfB5t96hng6RRNNEuX757PfS88zxqou3V73HHwU3XOds2ACjkHSl2UOQNy7oowNhCNrqX1N5+imkmWH/S1mgUMkMa9NJVo3AV3RaGIxSqbly3Dhyyk4F36NhhTFZKZ8KpNKyicPuFMTcXDqJafw7XGW+mYmqfAB4yYoYvkSETG6dhMlk13EfhDqWaV9utPDM+NjtazZfUVxcQwrEgjA61YYupkHmVx6sWhPV5lOlcz2PjOo90bCFjieGl668WjUS5tS2c2vCZ71XaHjqKvMtrubF7lllvWI6GNaxPGGCzFfXGVcOdhXEz7tHqECtmPw0XHcJjiOeP1N0nFz1x5oQRPVI/8X0017/Oen7febQnle9xx8FF1znbNgBoFIT2sTce37DFpL05xdCgIxLfcMLEseNsBGu+IDuVbMTltM2aCnbbDwCvVFeVZ36VOOjMzOfjMoYtJ3O44Llw1REGqUkZf2xIFWcYSpHZDeF4bg5RKnEkC8L6fMp0redJ4DKPNIpCxmLWT/fprhA7F/cHeNSx73z3aHu4kh3uEpSsjjqXGX3f1Bklu4w+SPj5tJrE41gk3jLjSAhXxaCc2T113Bf82mE0br1ky/TSS1J3824q562is0+p7UUcZ1GW76MB9ZfZBRZ3GdUwjwRV2175HncUXHWdh20DgILbwyZM2LbUeVW2fRndQNmwWFkOkopvg1Wq7LqXbdot3853wPIKTVs3XnlHZ2c+0NnWwt6OhYeMbHQfnmnk8oAA0R8v0/NdTe7+7VPL0ldqSEC66hgn3h3hXRHDYW0Fe1ifX5mu9TxJjPNIpSBkTOFjoxwqFs7FuO0ZVlSJPee7pe0cux+eVany0Bpbf5b28z4UySg9B5EkDt3WQ7ULKIxeOAI834TQc/euRbDV+oDHxyoffs4LKG1bVEAZ7mVW0Uu8mxrvnpgiCs6m7c71PDTZiA93GbnPoybaXvUedxT20HXutg34zVR3pFpbw5mLRfQAimQis+HMx2xymo6ewgMcyurq8IWm7TkNDKsp4UMoTnlVgENueLXYYAgMRQe05/eZG9CCz1B0TKu13C9yhafKEmAlPGTE8fMmObCi0p6exDLLN0GGI5ifpJC0/SjhJCzDcGWtYEVNGOR8Di/TV9wnopuMTfKCV83sT+vzwreeSduPvOtcMI8SCp8El3LVEfopFqRo+yx8CETz+M13BWPbozkRHoDW+sQ8vzSs/cnzcNvYbpSrjMow6n3RpsG8oacMVoXnW39JydFgRtRzQnnjjceHGJhKm4Qs7pfUt8mCZVgyN73L9CZeqY8iCjL6+Vza7lHPkPismEil86yMsCz9viLqeTNocDFDwbftYd2itp92aNsq1fGMlFnWfhBtcdF1/FtH2waAHPIx6NG7COSL08xJeWZ//F4C/n8mj/k9Aqayba9PMOVVn9P/eqv8W/K+lvg9FzLZCi+gsP1aebm8pe+N4XctpPnt7x1Q2lGhDSnZ65lT9h0MTjLKyVsmQ/szclKSvVlp2/d/L0NR+y3vuuB3cBT9u0K2r4rfZZHth4Kyw751ey+Ga5nO9Uza7nb9uvCfR1Hb3caHqhPKZWqnwljSfmOqr1vbi+exPpec+5Pl7dDX1drOxTvKSNcnJuWQjM04mcZotXq6w+WXzQ3tHlTUv1qbClW969z0KVPgrJecOJe2u9czmUtlHelMfoyWzRG/e4eS11hnDxmpeR3aX1xP17mp1U9PxvrqZRv6iMdGYVslHraNCo+T/e0VcO78x/+RPpU77L1PL5NHogMAADgHopVw8xPDgBk+UxrQAE/v+jXwbuhkxY/XhszPl+Z1HZ9dvafn037SMGic6qF9AAAAzowoTAtOlC/pyz9POtoJ1ACf8SNqNfR+NXAomtJ1aejj4Izfiwnqw3tHij3w7ODBqg0AAAAAfgB8Nit8Bx/sGgBAOdVC+wAAAAAAAADgF4PQPgAAAAAAAADwBI4UAAAAAAAAAHgCRwoAAAAAAAAAPIEjBQAAAAAAAACewJECAAAAAAAAAE/gSAEAAAAAAACAJ3CkAAAA0OIOL5sFAPx8oOtAncCRAgCA3876iWbbEU3wBlIAwFFZ09PNH7p5WsvPNQNdB2rm7BwpXkn486fZSXbjUj6//Vzki5NpdSOuqylhNeQwRDK4o1q6W5N5nMxjJboZJPlunsQ3ZtZPN5nyXMZG1K4byl1ajl+1vCQV1OFo1D2P1PbX3F6/saTJ3/Q7h7ZHLOhOyfenaIA4l5llMZ0T9f9SV37WKWu7l4xUYnkZM+l9GKeyetQ03xOy/W9rT6YPisaeNkddZVRIhTKj+hp0SAXOpe3O9WyAWvW8JFtmkSw9dEgFSsdSRb3UBGW6rpysXmrMFgXnw7fk3+P198XFhT3dvsqcJ8Dr7ff14z/5oR7S9t9+v5aV/+/x+/ri+jvN8u/78friW++i19v8d4zt+/p4/b7V5cfplGTYKGn7rx9fhWyETOW/7IUYF659yDLO5OXfXj+KkaISjZtsmVHdCy8TlnX7fXutjkEJj83cdQS2749J7fOIf5+Wx3N6fz1RYSyxfMpk6Nj2fL6oXfmxJHAtUyf8nald7m2vputk/W5t8yorTzsNzfcELr+4zNxYs+oKvSzXNhZRocwiHWJF9rPWrnNpu3s964brVLOeF+TuMdYy+ftsGaEOqavtZWOpql4qhMsonpNGrLquGrkxBX4liSMVYlMsB1M4joj6NDp4S8o3GwdiYt+6GKp5pdYkxYbMb6CiwjXhOg9YWZsMXfF7J1nw760Z4/HD7XIfR7XeOGui/nkkvssUqH/eF4exZJO9hmvbbfP39TYv+6r96WYMOLQ9R7GuS8akdV7xNd3HeESVepbB7Sgo0zJf/z3eGmRkas9+49S/zFgurv3L+dhRNeQ9l7Z71PNg7KPnbXrGVKbRnqkyt0yUj6X99LwNvp7/PK/b8YEjBRi30L6rDrXkn8lWMu/Nalvq1q1yPZ/HFnBYpvjOtH2a3dauO5yjiBZ1ruSfCV26pCW9le3yLgJatfr0t/q+cjN4yCgTHiHS3YLDBgz9bxgfCyGzslC4H7FV3r7Mhw6IebQN9hul66cZrXpjevAaP2t6W+6oN7AEhSdz7pBziKl7Hl1RZztLxi331TZ/gUZZTDc0fn9wCBtxa/vw5YtejGLb0eZD/plQpT8XNJ23aew3oNwo1HV8XaLRTzio8LGhtmFudS+JlpmOX9MnmfqDx21gnnulc9O/TB8dEt1jB7QZf9HX13v+N+fSdud6ngalMuo+0LtNz2w/Rc8cBrex5KqXsuGHxXbCgOa7FU2U/PbfxJTrOmfbBgCFAkdKGUA8aeXdvPvwTl/BSEyNgO4Gwmj4YgUr03hDA90AZ2Wo5/sa02aQj5MNB/GsQ4Gal8ucrGSOlN18QIPNOM0XdGh2sAFvMmIY2/cpi2BFrb3icxvAU0azTqDkC6gzm1BOQuxEGcbHZL6TGc6U1SSjaK2LB7abWelNTtwo7ufGmz736b24EUzNlrWd9Rstdz2y+VHHo+551KWH5z4txbhl2QyWfXp2sRZrY0HBtiPMOJcY+upt53FgPiztX2bobI4m1MTQKNJ1i7uJuO6zgzG/o7mUZ5yOeb7CxPpzK//Ks8t0/AdtrFm39FmsGCx4lumqQ6QTE99jbdnPpe3u9TwUDeh5AZ//aY81B2s4of5ymrWNxD1h03eZfwU419NVLw3pRdoKwSheutcROv49sjtGrR5NY9tCpveCBpXpOmfbBgCNvCOVGIolA2i1pU7wkh2Uwxfh0AhDZhpPWeGMTUgMdi1fOGGmRBPF8WHjgKb0pa+ycJnTnvyg0BN51QksnL3n0Zb2XPB3YjgZ0XaiOozRSorB39MQhtaqRX3zEu2R8JCRpH2p1j9WbPrvBS02KhVYllZlF5dTrAyPiqx/JrGjrztTYiyO23MaKBZfuLI7mItbh5l0dzVa/c3fm+SNd2ro5xLWb0va9Qb23yXt8i97H2qfR+GCgNLHOyGDsE8Pa4C/3Q1o2U9vyOPNIOdMVW670JPhAoVhNdq/zGhXqBl9VKDrhJwmwhEsd3JTnZAmNm5Oz5naunoCu40w/z1wmZvOZTroEB5fPF/iBU0HY/482u5RzwZpUs/HjkC+TF5g4oXmVBfywulgPy/KuZ7V9XyduOk6Z9sGAIW8I8UOirxhWRcFGFvIRveS2vGq+/qTtlYDbkiDXrpqxMaeYf83QihU3bhuHThkJwPv0LHDmKyUzoRTWbSKIjnFsD4PGTHDl8iQSRQyJ5NVw30U7lCqeVVl+kMYTmhkCJ3ikKwppbtX0crulAxLAiHhTq9iKOZ2MRZTmosr+UdClYT1HZO651HG0VX1V4tGolwHm3A/eC4J520uJK/qKx4L4422Ilyl7cnOseXG7lmmT4iXN1ZdJwyw2Yp6+qq5M8K4GfdodYgVs5+Giw7hMcTzR+ru4lAp4Eszel7MqZvIiTIuQsaLL4luFIkjeGzRFC741LOqnq8RF13nbNsAoFEQ2sfeeHzD5omKONEM8Q0nTBw7zgar3RdkTiesj1eEqsozv0ocdGbmELeMYcvJHC543nTpsi3/1GADOmk7W/FsXJrOTmXg/g1yoRhhaEpmh4VjxDnsqcQ5PdmwPklD82j9dJ/uCvFN/H4Po8EVXkRipy1nXazJGFnk0fZwJTvcJShZHXUuM/q+qTNKdhl90GbHgQ+KscJL0xwJ4aoYlDO7p477gl+bMovhtZAt00uHSN3Nu6mct4rOPqW2F3GcRdm69Dzfy6PdLVskR7hIrYe0CT0xbjucRbXgXc8Ker4+XHWdh20DgILbwyZM2LbUeVU2NhbZsFhZDpKKb4NVquy6whrdLd/Od8DyCk27aMXjFMP6BB4ystF9eDbuyuQZ0sv0p60mu/URK/On2dbDcM3uBKYrmXHiHRfeaeGbksxkoDSs79SoaR59bJRDxaHR4BlWVAnewd2ZD6+3tTBXE5a2c8hOuKPp9BALDVt/lvbzPhTJKD0HkSQO3dZDtQsojF44At2/fX5iQe7etQi2Wh/w+Fjlw895saNddY66l1lFh0SLQfFKfd5IPpu2O9fz0Oyh58MwzGh3p2zqZEPWIq46lhVAB6rejxIa1T8ae1zL3bYBv5nqjlRra3i4wyJ6AEUyq9lw5mM2OU1HTzd8MEdZXR2+0FQ7VxITPoTilFcFOOSGV4uLtJlTWF+0RR+u8Bxs28ZDRqy4TXJgRaU9PYlllm8COxMrS5hZ2vajhJPIw9XW8EN5diDbpqiPyg/rcz5eNdRuMmGZ+vWivPXcZHglziGsL2n7kXeda5tHbCQI/RR3rOjnWfgQiOYZisnUnt9nZLrgM1Odkp1oY9ujOREegNb6xDy/NKz9Kcr1cuo9cZRRGUa9L9o0KHny1sERjvpzf0nJ0WBG1HNC+TnM40MMTKVNQhb3S+rbZMEyLJmb3mV6E6/URxEFGf18Lm33qGeI1Pd8/b1vxU3oee6bMFzPcE/R5kz3Yaz1kUDku192LHOU6xa1vRE7hOtepuedWIlmKa2SMsvaD6ItLrrO0G8hBtsGgBzyMejh8/D5hYb2pDyzP35XAf8/k8f8HgFT2bbXJ5jyqs/p53cSJP+WvEeB3ymgfG99N4OdwvZr5eXyOr43xu1dLeZr+sHvdlDqZ0zZdzA4ySgnb5kM7c/ISUn2ZqVt3/+9DEXtt7w7g99lU/TvIdo4E8lc1/z17e3O5y1rf7ZvC+obysvhXRtJ2/3fy7EPzc0jRpVVkUzLqDCWtN+Y6uvW9qJr58eUc3+yvB36ulrbuXhHGen6xDRJkrEZJ9MYrVZPd7j8srmh6Yai/tXaZNcNAte56VOmwFmHOHEubXevZzKXyjrSmfwY3UfPm+7XSTK1S+uj4j5V+smh/WVjyU0vabLRk/E3ep8axjG3u2g8xnjYNircNrf7EfjJ/Mf/kT6VO+y9Ty+TR6IDAAA4B6KVcPMTw4AZPocS0ABP7/o18G7oZMWP14bMz5fmdR2fXb2n59N90jA4CNVD+wAAAJwZUZgWnChf0pd/NhHtBE4JPuNH1Gro/WrgUDSl69LQx8G5vxcT1IL3jhR74NnBg1UbAAAAAPwA+AyP8d2KAACQp1poHwAAAAAAAAD8YhDaBwAAAAAAAACewJECAAAAAAAAAE/gSAEAAAAAAACAJ3CkAAAAAAAAAMATOFIAAAAAAAAA4AkcKQAAAAAAAADwBI4UAAAAWtzhZbMAgJ8PdB2oEzhSAADw21k/0Ww7ogneQAoAOCprerr5QzdPa/m5ZqDrQM2cnSPFKwl//jQ7yW5cyue3n4t8cbKvbizoTsn3B8sgByUaL3dCCjWgyTxO5rES3QySfDdP4hsLzmNJ4Do+ZT6nMo+JQ9vjOW9Kufxqu4v6vAJ+Y0mTv+l3TegQn7GksJjOifp/qSs/65S13UtGKrG8jJn0PoxTWT1qmu8J2f63tSfTB0Vjr4m5WaHMqL43VMet9Fza7lzPBlg/3aTXLqlnTJmMsmWa82XarKXq/e85NyvqpSYo03XlZNvemC0Kzodvyb/H6++Liwt7un2VOU+A19vv68d/8kM9pO2//X4tK//f4/f1xfV3muXf9+P1xXe+i16/bzP55HUa70u+riY/Tqckw0ZJ23/9+CpkI2Qq/2UvxLhw7cPXW62/+bfXj2KkaDiOJa/xGbZfbTOXmR2HJ4Fj27kvTd2e/z7bTu6z/fVEhbHEshb5TXVOcNUhuXxRu/YZSznC35na5d52dxmpyPrd2uZVVp52GprvCfp8ypMba1Zd0cTcrFBmqI9uv2+9ri37WWvXubTdvZ51w3XS+y3qy8LLl8god4+xlFltbpbhIbuqeqkQLqN4Thqx6rpq1HOPAedO4kiF2BTLwRSOI6I+jQ7ekvLNCkhM7FvNuDGW46GAamA/ZfkTqKhwTbjOA1bWJkNX/F7/ufNYUikdn6bxJW6yJzYQKrU9gY0GvZ16G+tus8NYsslew7XttvlrknHV/nQzBhzansMkoxS+bjifrPOKr+mrK6vUswxuR0GZLHND/f893hpkVP/c9C8zlotr/3I+dlQNec+l7R71PBiWOkWUyMimZwrLVInLlx+9cZ+b++l5G3x9/3let+MDRwowbqF9Vx1qyT+TrWTem9W21K1b5Xq+onACbQs4LFN8Z9o+zW5r1x3OUUSLOlfyz4QuXdKS3s51l9dDRnqowN2CQ18M/W8YHwshs7JQuB+xVd6+zIcOiHm0DfReqnssremT+vQ3f3HqbIOSsItDziFmj7YvAlq19HZyG2fJuF0/zWibv0CjLKYbGr8/OISNuLV9+PJFL8ZY/h1tPuSfCVX6c0HTeZvGD9UDXawYZRTD1yUa/YSDCh8bag/y7eheEi0zHd/E3PQvk+fFqjcmF5FH99gBbcZf9PX1nv/NubTduZ6nQamMug/0btMz20/RMyUUzs26cdVL2RDaYjthQPPdiiZKfvtvYsp1nbNtA4BCgSOlDCCetPJu3n14p69gJKZGQHcDYTR8sYKVabyhgW6AszLU832NaTPIx8mGg3jWoUDNy2VOVjJHym4+oMFmnOYLOjQ72IA3GTGM9v1wQv3lNFun9Rtt+s9ON7GD4SmjWSdQ8gXUmU0oJyF2ogzjYzLfyQxnymqSUbTWxQPbzSz3veNYcuaDNlv5Z44tfRbdZw5O9bYvghW1cnHuXXp47tNSjFuWzWDZp+eDTrQFBduOMONcYuj3kLuYW+bD0v5lhs7maEJ5E3N/zDKKWNxNxHVd9OCO5lKecTrm+QoT60/rhKNdpuObmJueZYqxcy+MyanZO0+RTkx8j7VlP5e2u9fzUAgdcT83OnfOMjLA53/a4/KFnKK56Y7r3HTVS0N6kbZCMIqX7nWEjn+P7I5Rq0fT2LaQ6b1AoZTpOmfbBgCNvCOVGIolA2i1pU7wkh2Uwxfh0AhDZhrPJuGMTUgMdi1fOGGmRBPF8WHjgKb0pa+ycJnTnvyg0BN5VUUjnL3n0ZZyC/4NMJyMaDtRHcZoJSXv77Fhxw6eomyEczE4LS/KXUaS9qVa/1ix6b8XtNioVGBZWpVdXE6xMjwqsv6ZxI6+7kyJsThuz2mg3FXCld3BXNw6sriPJQ92G2FieJC0yyDDBqneduGwrFrU15dTwwUBpY93QgbK3DuUAf52N6BlP70hjzeDnDNVue3xAoVhNdq/zGhXKNePtWCRESPkNBGOYLmTm+qENLFxc3rO1NbVE2hibjqXKY33aUFZPL54vsQLmg7G/Hm03aOeDZJG0US7fPnudZCRhdgRKBdZwdx0xn1uNnKP88ZN1znbNgAo5B0pdlDkpLAuCjC2beHuJbXjVff1J217A8sgHNKgl64ard+WZNj/jRAKVTeuWwcO2cnAO3TsMCarMTPhVBpWUWKjR1U2vHNm28U4Bh4yYoYvkbKMjdMwmawa7qNwh1LNqyrTH8JwQiND6BSHZE0p3b2KVnanlFsScB1LP5GqbbeFpWQcXVV/tWgkyq2wwOsHzyXhvM2F5FV9xWNhvNF2pqu0Pdk5ttzYPcv0CfHyxho6JAzF2Yp6DqvmZoRxM+7R6hArZj+NxVSMzZLHPvMY4vkjdfePCLM+IcKIHqmf+D6a618XGeWIdsDZiXJahGwsrM8yN0/gHuei65xtGwA0CkL72BuPb9g8UREnmiG+4YSJY8fXpPuCoXOobyWL343bDmdAGoVXhKrKM78SFXRm5hC3jGHLyRwueN506bIt/9RgAzppO1vxfAMznZ1yGEv10KbMgtspUKHtLmEp66f7dFeIb+L3B1i84EUkdtpyVtCajJFFHm0PV7LDXYKS1VHnMqPvmzqjZJfRB212HPigGCu8NM2REK6KQTmze+q4L/g1MTezZYbhbZldWj5nwuFZhgUuqbt5N5XzVtHZp9T2Io6zKMv30SAX+u8loxC+l0e7W66RHPWE9Vmwzc2D3eNMuOo6D9sGAAW3h02YsG2p86psbCyyYbGyHCQV3warVNl1hTW6W76d74DllaR2fsUju1UccdWxWN7HwENGNroPz8ZdmTxDepn+tNVktz5iZf4027oZrpax5AbvIq7yIa7rN1q2bTuPJ0Rp293CUj42yqFicRMftz3DiirBfb8zH15va2GuJixt55CdcEfT6SEWGrb+3GuMlVEko/QcRJI4dFsP1S6gMHrhCHT/9vmJBbl71yLYan3QxNx0LzPdDYkT79rybi0btjKTRrQYFK/U5435s2m7cz0PTTbiw0tGYRhmtLvjvtvupj+r4jw3G9U/Gntcy922Ab+Z6o5Ua2t4uMMiegBFMqvZcOZjNjlNR083fDBHWV0dvtBUO1cSEz6E4pRXBTjkhleLNW3WfRgTzbR6C+V3v+xYttWjLfpwJepg2zYeMmLFbZIDKyrt6Ukss3wT2JlYUc90wFZp+1HCSeThamv4oTw7kG1T1Eflh/U5H68a2g2WBMtY8mHIAs2MO3H9+yX1bU5c0vYj7zq7tN0xLOWqI/RTLEghu1n4EIjm4b5vz+8zY2jBZ6Y6JSvAxrZHcyI8AK31iXl+aVj7U5Tr6tRXoabQIaPeF20aNPWUwaoIR/25v6TkaDAj6jmhvPHWxNz0LtObeKU+iijI6OdzabtHPUOkvufr730rDsvS7yuinuKeUNmZ4L4Jw3y1e4rtHh3jNDe5blHbbXbIXnOT677nPS5ilep4Rsosaz+ItrjoOlu/GWwbAHLIx6CHz8OPXvhpS8oz++N3FfD/M3nM7xUwlW171YEpr/qcfn4nQfJvyXsU4vdcyOT0HoUshe3XysvlLXpvDL8jRc1b+DI4pR0V2pDC74hQr2lK2Xo4ySgnb5kM7c/ISUn2ZqVt3/+9DEXtt7z7IpFT0bsxtHEmkrmu+evb2u06lnzGZ4g27gqHU5LX/70c++A1jyQ8rtzGhyqrfd6XUmEsab8x1det7cXzWJepc3+yvB36ulrbuXhHGen6xGEcm8dotXq6w+WXzQ1NNxT1bxNz06dMQVY/79tH59J293omc6msI53Jj9GyOVIko8L7QUG73Oam0k9F7df63SYnN72kyUZPxt/ofWoYx1zHovEY42HbqHDb3O5H4CfzH/9H+lTusPc+vUweiQ4AAOAciFbCzU8MA2b4HEpAAzy969fAOy6TFT9eGzI/X5rXdXx29Z6eT/dJw+AgVA/tAwAAcGZEYVpwonxJX/65d6gXOHH4HBFRq6H3q4FD0ZSuS0MfB+f+XkxQC947UuyBZwcPVm0AAAAA8APgMzzGdysCAECeaqF9AAAAAAAAAPCLQWgfAAAAAAAAAHgCRwoAAAAAAAAAPIEjBQAAAAAAAACewJECAAAAAAAAAE/gSAEAAAAAAACAJ3CkAAAAhC8hxTuSAAA/Heg6UCdwpAAA4LezfqLZdkQTvDgHAHBUohfe3jyt5eeaga4DNXN2jhSvJPAbpZucZDcu5fNL++Sb7ovfdp++BTtMN0/iG3AoovFyR7UvPmnyN42XeKy6yL28nto4SlJJ2+R4/nOqy28O8yjTj1rK5Y/by6nmueY3lnR5GX7nrEMWdKfkK5Slc5lZFtM5Uf8vdeVnnbK2e8lIpXB8+o95Pxm5ku1/W3syfVA09tQxWlCeFxXKjOp7Q3XcSs+l7c71bID100167ZJ6xpTJyKtM2U/1204Ouk4QtaXuuelPma4rJ9vexmxRcD7wC3mZf4/X3xcXF/Z0+ypzngCvt9/Xj//kh3pI23/7/VpW/r/H7+uL6+80y7/vx+uLb1MXvd5qfSfKvrh+FL9oktfvW11+nE5Jho2Stv/68VXIRshU/sv+RLIukyGPp8wYYrnn+t+nnnxddcy5IMflrenaJ4DjPOI5ZKp+/vtsH+VkUIkKY4llLfIXdrmrDsnli9plHH8eeilD+DtTu9zb7i4jlbLxmZWnnSbnO8PlF5fpNt8ZvSzXNhZRoczwPnT7fet1bdnPWrvOpe3u9awbrpPeb1FfFl6+UEbuZYb6Ipwfop9EmfvrRAWuY2E75JgRqd65ye2vUJZV11UjN6bAryRxpEJsiuVgCseRupWBTkn5ZuNATOxbzbjhSWsyeET5h+rOYkPmN1BR4Vpw6k+WuyHTv8fbAqOhrJ78735GR3gD5Xqc2vyVOM8jI3yD1vtDfJcpUP+8Lw5jyTbnNVzbbhtvr7f5sVC1P92MAYe25zDJKKV8fPI1/cZ8tXqWwe0oKNNjvpvkFpZvbL8b/mXGcnHtX87HxrAh77m0vZJObhhLnSJ8ZSQpLFNQp+3E1/JaFK5zblYrq27HB44UYNxC+6461JJ/JlvJvIesbalbt8r1fEXhBFpoSlim+M60fZrd1j7klnGLOlfyz4QuXdKS3vRqti/zW8iiP7fBsTe4NTxklAmPEOluwaEvhv43jI+FkJl5KzzdLj/ZrXLRnqAT0EtZbPXHhtqDfKbuJdEyN0CaYkEcwTByCQRP5tyhwy485pHOIqBVq09/M5PrijrbWTJu108z2uYv0CiL6YbG7w8OYSNubR++fFnG2442H/LPhCr9yeOkTeOH6oEuVowyivEYn6eO83xf0yeZ+oPHbWCee6Vz079Mnher3phcRB7dYwe0GX/R19d7/jfn0vaT0Mnu+MjoWLjrOleyIbTFdsKA5rsVTZT89t/ElOs6Z9sGAIUCR0oZQN0Hepd38+7DO30FI3HLDuhuICbSFytYmcYbGugGOCtDPd/XmDaDfDxvOIhnHQrUvFzmZCVzpOzmAxpsxmm+oEOzgw14kxHDGL7ffoqpb8D2/THwlNFMOBNpvoA6swnlJMROlGF8TOY7meH8WL8tiS6FEk5u8JzyY279uZV/5dmZB44jO5oLmWQVvfwnjcXdhLaj55O+EXvNI41FsKJWLs69Sw/PfVrKPhos+/R80A5YULDtCDPOJYa+ett5bpkPS/uXGTqbownlTcz9Mcsown18uo/5Y+E+3z9oY826pc9KNwTPMsXYuRfG5LRsNUjquPgea8t+Lm1vTidXReiI+7nRuXOWUY6CMmvHR9e5MqQXaSsEo3jpXkfo+PfI7hi1ejSNbQuZ3gsUSpmuc7ZtANDIO1KriZwUJQNotaVO8JIdlMMX4dAIQ2Ya3+mEMzYhMdi1fOGEmRJNFCOUjQOa0pe+wsFlTnvyg0JP5FUVjXD2nkdbOsRGz3Ayou1EdRijlZScvyfqNG7PaaDc+cMVvsFcmAengoeMJG12JhJixab/XtBiRavAsrQqu7icYmV4dD6Fgxj2l1S2Fgd+W80yKCDtnzSxojcYlsIImghD29mJkHIxyrBBnOdRDnETX7Wory9FhwsCytzaibknb/CcDmWAv90NaNlPb8jjzSBnYFRue7xAYVgJ9i8z2hXK9WMtWGTEOI9PjzF/ZJzn+24jzH8PXOamc5nS0J4WlMXji+dLvKDpYMyfR9ub0Mn+pFE00S5fvnsdZKRRXmZzuOi608BN1znbNgAo5B0pdlDCScEev/zOhC1ko3tJ7Xi3Zf1J297AMgiHNOilq0bhar8tDEcoVN24bh04ZCcD79Cxw5islM6EU2leReHQnCnFzmm8wjclg2t4HDxkxAxfIkMmbk+YTFYN91G4Q6nm1XYrz4yPzY5W8yX11QWEcCwIo+MoDROKftyjVWb1QNyIZyvqjesMuWgIj3mUwRYylhheuv5q0UiU27iBwXNJOG9zMeNVfcU6YLyZilu5QpW2h44i7/JabuyeZTYaPmQN69t3fJrGPHBiMRVjs+SxzzyGeP5I3X2aRvH5Ekb0SP3E99Fc/7rISKO0zCbw0XUngIuuc7ZtANAoCO1jbzy+YfP27aHC5s6E+IYTJo4dX5PNF2Tlkhh4bM2xkWE6O3UweKW6qjzzq8RBZ2Y+H5cxbDmZwwXPhauOMEhNyvhjQ/bAkSy1LwAo5xcjPkj4e7SaKDcD3pLgneZT7HiPeRRTFDIWs366T1dK2bm4P8CjjnkRiZ22nBW0JmNkkUfbw1XncJegZHXUuczo+6bOKNllVMP4zI3508V9vrfDqOF6yZYZhrdldmn5nAmHThoWuKTu5h0GzltFdZxS24s4zqIs30cD6i+zToeXjHKYy2wEX113VFx1nYdtA4CC28MmTNi21HmlInYSeLKtLAdJxbfBKlV23cs27ZZv5ztgeSWp7bK6yyuy29M5ZO0hIxvdh2cauTwgQJiAL9PzXU3u/u1Ty9JXakgA5yPDWF4E29rDqPI7uWmceZI4NFYPhT1VSudRQciYwsdGOVQsnItx2zOsqBK8g7szH15va2GuJixt59j9cCe7ysFuW38666sqFMlo//FZGL1wBNznO4+PVT78fP1Gy7YtKqAM9zLTnYs48a4t79YaHiIhiRYB45X6vDF/Nm0/oE72IxvxUUVGeaqeOfNhT113SPbQde62DfjNVHekWlvD2ZBF9ACK5IbIhjMfs8lpOnoKD5ooq6vDF5pq54liwodQnPKqAIfc8GpxqSHA7eY4ZptS5H+XK1EH2z3wkBHHz5vkwIpKe3oSyyzfBHYiV9QzHoZN236UcBKWYbgCWLDyJwxyPoeX6SvuE9FNmSZxvv6SkqOCDJ8LoeqGq3EOiDIHdTxxLWn7kXedXeZR4ZPgUq46Qj/FguTzl+HB6OYZisnUnt9nxtCCzxF0Sl4AaWx7NCfCA9Ban5jnl4a1P3keNriY4yijMhod83XiMd95fIiBqbRJyOJ+SX2bLFiGJXPTu0xv4pX6KKIgo5/Ppe2+Ojk+KybS3rfisCz9viLqKWyByosZTZSZwOVEbS+yQyrrutpYpTqekTLL2g+iLS66jn/raNsAkEM+Bj18Hn700jZbUp7ZH7+rgP+fyWN+34GpbNurDkx51ef0v94q/5a8wyB+z4VMRe9RsFDYfq28XF7ruxT4XRBKPpGKq6a0o0IbUvLXzafsOxicZJSTt0yG9mfkpCR7s9K27/9ehqL2W97Jwe+yKfp3hWxf2d5loY1J4xjxrGdSxziVvEdDl5et85Ny/d/LsQ/u8yiFx5Xb+FD73+M9LDkqjCXtN6b6urW9eB7r4nTuT5a3Q19XazsX7ygjl/HpNOar1dMdLr9sbrjMd4nWJrtOFLjOTZ8yBVn9vG8fnUvb3euZzKWyjnQmP0bL5ki5jNzKzOkFNRnbp/RTafuzdchf33VuarLRk1FWetmGPuKx4aLrPGwbFe5bJ10HfjT/8X+kT+UOe+/Ty+SR6AAAAM6BaNX60E/3Om/4TGlAAzy969fAu6GTFT9eGzI/X5rXdXx29Z6eT/tJw6Bxqof2AQAAODOiMC04Ub6kL//cO9QLnDh8xo+o1dD71cChaErXpaGPgzN+LyaoD+8dKfbAs4MHqzYAAAAA+AHw2SzjuxUBACBPtdA+AAAAAAAAAPjFILQPAAAAAAAAADyBIwUAAAAAAAAAnsCRAgAAAAAAAABP4EgBAAAAAAAAgCdwpAAAAAAAAADAEzhSAAAAAAAAAOAJHCkAAAAAAAAA8ASO1D7wi/v+3BFedA8AAAAAAMDv4qQcqfXTjXBM/sgEB+U8WNBdKK8belrLrzyB3AEAAAAAwLnx37eA/2BjdjDfhV8a6U3p62UoPzQNG+cBDb5e6FBXDFnc0c3nhN4fuvIL4Maanm7uiZ7fab+uO5LcAQAAAAAA8CTZkeo+vNPXtBc5TF9f2cTfAwAAAAAAAAAIcQvtu+pQS/4ZnQuKw7BEunkijuha3CnfiXQTx3mtn+hG+T5Md9WDt+LrJOUL1NAwvWi9XsYQtLhNkxXt5gMtfz7UzCUULcnDFdL6wNz8OEROpszvfMLmlFC7Rfb3ab0N5eXkZLumVk9rKB7vUqn5ivICAAAAAABwZnBoX8Lr7ffF7Wv84fv24lb818S/78fri+8ka8y/x+9r629S/j1ef19cP4pSbBRdWyDqef2Y/zWXm6tTDi7bUHfGUq6dknpyf1xfZ/sk7KPr78xlDN9FfSR+W9hPdl5vL74v4uuG5YvPcaMzchbw51w7DP1krTtfK/s9Xz/Xx6bfZyjpTwAAAAAAAE6E/I7UaiJ3Dya0kl/l6dLffotWQXZ/Yf22pF1vUHq+pfswpt5uQx/y82EZ0mTUou2n8xbPfuyI+oFy5qf7QM8joo3S+MV0KfJkzxdxqGXQD39ekRaN4ut2L6lNPZrGZ9zUHUbeYZoQTXPnkob08jUlmqS7SKZ6cnveRb5M8OfijmadgHJH6sK8Y9pMsS8FAAAAAADOm7wjlZyRCkj4G1ZCZ2g1U8K/FjSdE40muvVsCvEqctJqRg9FFKnwoRp10xuXPIBhQcGqTZeGPN2/fcXhaYj1J22tzu+QBr0tRT6nvZ7CM6OOUtH159YQIhknIftVkDhnAAAAAAAAnCMFZ6S69PAe71KwM6Sfb2Eje0fLN+lJLQJatfr0N2No8+8GtOwH2YdX6DsYTcFOVLjbol77i4IiDxHUQmuky1xNeCofAAAAAAA4b9weNmFhOBkRzafCwRIO02xFvfGDcL8U1m+0bE8P9jjxj012p2kRbNPwtpNF3fXJEoZKyr8bg8P+rDtE6i6UvZ6i50ntet5JEx62GBUAAAAAAAD8TPZypITFTP3WioIn4TDtejQweSy6kR6G2u0Z2nfVkQ5cTPQkuUmuUGXHLCQKMywK7dtlyuXqcjhas0+bG076tBxo1xD9NFjySaemGdJLeBRKbyH3FW/npY6osZ5h32vy5HNg/SUN5BMdM4Ty37M/k3DNsqcZRvIO85oflZjiXCYAAAAAAAA+L+TlhxWYQrLYABUeDIdyGXee5L8ntEYUvF/SNDS++YEI8uEFej6N3vQr8/CCbH2jcv6+ye+SlwdHoYVqs7icyaeeLyXXD3oex3pmy4n7TquPWjY/fnwwT3eguJ+eie7D99xqO32FZB2bSC4fyXdh/a7ia6UyNclf7/MQvZ5h33NFo3ZlxoGpr0L5K+3xlHtI8htl/BhR+tsg6wzOZQIAAAAAAKA4UuAEYafF25ECAAAAAAAANM1+oX2gURbTOVH/L5woAAAAAAAATgzsSJ0M+bNG1nBJAAAAAAAAwFGBIwUAAAAAAAAAniC0DwAAAAAAAAA8gSMFAAAAAAAAAJ7AkQIAAAAAAAAAT+BIAQAAAAAAAIAncKQAAAAAAAAAwBM4UgAAAAAAAADgCRwpAAAAAAAAAPAEjhT4wfBLjv/QH5luntbyewAAAAAAAPYDjhQ4Ouunm8TZ+fPnTrg/NnwcI847IZp+0dcXpym15wO6MxaeLfePOVPE+olulLxFWX8ESXuL5LIfizuX8tf0dJP2+5+bJ/GNhcVdmk+kQ8soao9DPSsQlX1DxqGvtTtO5nniOOa9yozRZFUkW618LHYAAAA4K77BD+T1+/bi4vvClG5fZZ5ThOt9K/5bzr/H6+/rx3/yUx7jv7/e5tv/7/H7+uL6W83Kv724fvzOl67X79/343X2tz8TbqebXNxJx+j142tp+a+32thlWZpklJMn1/3i+1DDPjfuTGOuKmGbb79vbWPO+Vrc94Yxb/qtb/05v5Bp+U8iuZjnGQAAAHAeYEfqRzKkl6+ARq0WjYJ4RyZKQWf2C1Z91/S2JOr/7crPdhbTObWn7/SgZO0+vNO0vaQ3rZsWdzPqBC+id2O69PA+ps30wFsePwIeo9GYfH+4kt9ZWD/RbDui4CXteRq+0Nd4Q3rX5+XJMgqE3OrdGTIi6nm/GYv2KINJ1DPoBOYdJC8WdDfZ0uh5Qh35TWUWAW1Hz9qYf6bRdrZfPXn3ctahQMhUFZWJxd2ANmMh//cHISEAAADgPIEj9cvoPoypPZ9qoTZ6KA4n93CcMHxJfJdx0LQQuDAdLMbqgza7Nl3GFlpc38lKfpEyfLEZfTvafMg/Q9b0SX3K+2ZX1NkG9r4qwxA6lXV04xCsKJwrEzYmkj0iK5vP3vd52d8t+DuT/LPhYAd1yNuXeYP7qkPbQK9lizo5v6xLl5R3jEOS/q8hdPFjQ+1BfjB1L4mWxou7s36a0ao3zjg/p8ZiuqGxi2MkdAM7l2XOFgAAAHDqwJH6jbQ6wvxPSVaH5Q5BmIIOzQxnMUIDXa46J3nHGxroTkr3gd7VPCLxbljdZ0ZKYYcuPCol6jDtyS9LEL/hHZBJxtATztlW/pljS59VGqWs4Kv9NN4MFMcn2rnhqm+mNzQTBmiaN6DOTMgj4yRFjlE2n6XvQ2dXlz2XOaD5TuZJWNHkD+/IpXm5ngdzpraf5nGT+153gGNs39fH+tM6QGi3z8WFnO7nbZq6eB6rSeLohsk034YT6i+1xZT1G2362V2qBJcyRWnBlvVK1jE3jY81bxfzKkdmEaEGRxYAAAA4MHCkToDswxbyqc6NnMWd8CrGyqqxMGbY6M7ZaKEjpIWtsYNB03w4DodZOTgpvBvW222ES3I4QqNtNFHC8Upg52JgWVmvte7C4Lw3X4d3yfLhYDvhymhhY+KXD+/CyRJSifOun+5p2Q+0fNz37xT0l3SvFLqYLqkvHKOs7KNQuFFLfkzgMNFsCOTwZUrt5ZvBqK4ZMRbH7TkNlIkQzpnBXPRKluFkRNuJugAQ7aIZNiMjeOyGjqEaslmdbSWPuggeJxyu6FC/pC1K4kWOnOMjZPzMCyWKnhFjfmDyopzLjHi7G4TjL85rdbY/lQUOTuHCDZwpAAAA5wUcqROAjdzESDGk6iEwO5oPFGNJJN1p4lX03XyQyZOmCa1Wadha6JTk46YihMGVNd6zK9NJefJfD0X3sk07V2OfV8jZiarJqC6Gww95l0fvoygN5qtcOFjPEDbGXHUo2W352NjPhnX/9tOMvIOwUsIfM7AzpfeBLe9hYOdySunOyGAzFnNjSjn3nRcAgj4tk3Ef7aIFec/wPFhMaU767qgHw4n4tRbWGC8WqHqGHRmLc5TDWOYnbXdzUddpRg+w3Mab7O7Xx2ZHqzk78coYC+XWocDkdAEAAAAnChypH032YRO2TaPWKBsGlk1VnAp2orIr01EyGL5NIxw83okZsFHN2xKKY6gS7nCEYXZV2lvVyeilK/KGpO8q/XbYKE/6h1cDFgGtTGenMmGlvIsWPXzEtgZwCFoVLx6GCwoHJRy/YeKwS14gsTwCPUeXLtvyT4lxlzbc9bOcI8uRL5MPgrVZ3+Q8vjXpEY9XHeHUms57fWzIHhwJAAAAnB5wpH4R0epw9l1K4S6F446N8+7O+o2W7ezK9GG5ok4rPbeU3fHLO0p87ivc4Sg8KD+kQW9FuWcbhG0dVHC+LOUVYAsb412o2E7n3Snbgw2yO4rcR37XPy2Esz7bGgx3A7yr027+QQ22ubQItk5PkDSR362On8aZDbO0Y955bBs8/6uO7h3ZMJXJ43lnHnvt7JlM7qeWZUHDVC8AAADgVIEj9csYvvDDBJTV7O4DPfOOjSmsJzwMrpxbGL7QVDurEhM+hEItQzeUwrIOFdrXpcimNRh1GaLww/DBDFr8JLdHbyafCaKZ2k98fmVJ/YpxV2F5E9MZuKhe2bMlLdGg/HkT3kmbddKHBPBjrPvL+/xuhej/wbJPz4n1zedk9PNEkvAhFPWezauXaMdzM3ZwJnjc8U6jLT42HJe801PD+Rw5lzKPZBflT8jmxEVyDq+/b2cbZcblT2ir7T7xWcXsOBaI398vO9mnUnqUyYRn5ubZsccPsll2/mYXKLifRluaqAXztSZEluhVAAAA4CT5j18mJf8GPwY+YK86LRxCpuzEsNHCB/V709SBYINSP5HfGlFg2KVh432gPdaNwwMzO1B6eWFZlzQN66WsqJuuq9CbxmfEIuM5/zQ5Sa6uUR+Ihmd+z0+oS21qvZ+ypNdW0OprzOOFuV16uYu7G/qcvNPlVHtwgirDBEO7LLI094EyXuKxEn6v1CvTDz47JDFFfa+Xl89r6/fc2LS2W5K0Q5sjldHkWXh9Ja9RjlnYuU9lb+rz/FjKzcuY3Lyztd+jzJCsrIryZmVVV/8DAAAAhwOOFPi5aE5AsQF42sSO1JlWHwAAAADgxwFHCoAzAI4UAAAAAMBpAUcKgJMmH9Z2zjtrAAAAAAA/BThSAAAAAAAAAOAJntoHAAAAAAAAAJ7AkQIAAAAAAAAAT+BIAQAAAAAAAIAncKQAAAAAAAAAwBM4UgAAAAAAAADgCRwpAAAAAAAAAPAEjhQAAAAAAAAAeAJHCjTK+umG/vz5I9MdLeT3AAAAAAAAnDNwpEBjsBM1WPYp+PqiL5GC0ZYmN0+0lv+uknW4bujJlEmyuIvziWQpD9TE+oluGnaCI3mWlb+mpxtHuS/u0nwi3R3Ye29kfEo53BRPjEy742T+zYLu1HymTkpkb0jGdjmUyXjVEwAAADhd4Ej9QFJDzmCcKkYMGy5ZB0ZNujOjGUlqMhpMC5rO2zR9f6Cu/Kb78EwjWtKbZi9xfQebcehsRWlMm4HZAOb6zjpBmne8ocGhLeXfRPeB3r8CGrXk59pIx9OsMy0tf3E3oHl7mpW7yZhn43+ypVEg84m6d2aHc6bqHp/J/BxsaDztyW8L6Cl9JNP7QzwDY7jvZ9RJ+uiLgs7MPI9bo2QhJEnBiHLiCp0uQ5k2R9KpngAAAMBpA0fqBzJ8YcO3Ra3WimbaKu8iWFGv1xP2URAaLt2Hd/piAy1n2LAzozpiQ3oJDeqWYqRGiQ2m3GryIqBVbyB+VYIwwGZbYay9qDnFtYSxtg00w07kvRcOV8bgGr6I6weFO1jgFOHxFI2f94cr+Z0F0xgRcmcnZaoNkcV0Tu3pO6VDpEsP78KZCmraGSqigfEZzs+wn17K55IrYm5uR89KH8lFju0sW092opWFkJj125J27cvM9/l+j+o+becXTgAAAICfAhypH0x/PCKaT1NnSBqkk4H8XMiQJqNtzhEz0X0YU1u9jmD9uaVWJzaQ47CsAc138qsYi7EWsv3MGr8fG2oP8uZk95Joea7WmiHMKeuUxjs30Q5hJmxMJNtmh57PGmaVyCZNdwv+zhRql92VPGgolma4h1x18s42tSgZdgldujTshIYk/V9D6OJPHJ851vS23FFPa+fw5YsyayEJO9p8yD8BAACAHwYcqZ/M1QONe+muFK8kt8cWp8VC+9Ixd6tDtn0FDsta9jncyT1ELFzh1urKzpmN3Tlaa8KxvZl1cqFT481AcXyinRveNNxMtbAxGbaWdZIixyibzxJmxdcXzu1mnOaLyjQ4vLSiiRa6xfU8mDOlO9Uxue9thnvzBv1JjM/VJHF0w2QKrRtOqL/MLnwI5UCbfnaXyojIt9z1yOAv5okXbkx5XeoJAAAAnDhwpE4A+zmlKFk3ExwYTuJdqQVNl32zUWOCw5Qc8y/uJkRWB21Bwaon/tndfePdFHYETCvc28+fYm4Jh+d+Q2PDbhyv7ufDwXbCldHCxsQvH96Fk0VpSNb66T50WvXzJhxmFfSXdK8UupguqS8co2w/R6FweYeXQzqzoVvDlym1l2/NG8DdBxq355mzRuGcGcxFr2Th8b6dqOf7ol20yUp+1OEQwdAxrCd07qjjM2mLkoxnyYSMnzs0U/XMQORzmKNhWJ9jyO4Nn+sy7TY71xMAAAA4beBInQDpOQhzMofMOMJGaG9FwV1Q4OwI9BVimxEkTNf5QMknks3pibiiTktc38kZTHdTdEfg5/FBmx3v8mT7Mk6D+SoXDqaHU8VcdSjZbfnYEPX/mvuu+7efZgwd3DaZNxzZmdIdC1vew8DO5ZTSMRo9nGRKuccvcKho0KdlMkajXbSg/qdlnAfDSf4BL7GTo+qZQDhWpY6MOawvB4dLhuV7OKemegIAAAAnDhypX0C4Sr/tFO8uqQ+bMD2VKyH7sInyB4mxUT4l4TEIo5ZDxnaW8yK8cxCFmVVxotLzWOdEj6ZxnxvSz3cm/WBnKukf9tz5gSams1PsTCX9yLto7ACQ4ezU4Tje+OzSZVv+KeFdJRpNsk5OuOtX4sg4hPWFO4VhuKrvDl++ngAAAMCpA0fqN8CGpe2BDibCVX2XFerIuOWzMnr4YVdYRem5kPQJbUYHITyrE+0cFO2+hTsqhlCyRbC17sKcLkMa8E6hR9imLWyMd6FiO513p2wPNggN6MSg99kpPEXW9DTbCn/AwVxfTGneHpef/9mT0xyf5p1H09nHq06xJ1MW1pe8xsBH1yQU7ZACAAAApwkcKWCGnSnHd+Dw49Y7M+29U8MB9VaBMI9KSMKAsudvQudKd+REnZ77y+wjr8XvJ9S8kdwEfMaId+ryXRyFOGYf5NASRnr+4Q7Re4vShwTwY6z7y3vtfJVA9BO/HPk56Sg+J6OfJ5KEju3h3r3kD/cP715qY8YEjy/eIbF56PzvYQhgDU/t8x6fkZzD6+/b2UaZcfkT2mq7T/yUTZppc0v8/n7ZIbu/VxTWF7UjfMCJ1s/sXGXq5FFPAAAA4NT571sg/wY/Ag6Rm1B6tp7Dx2SYDRuN6qn71oj+Txh+/6s8oi1+v1QMG0KTFYfz8XulLOUybCDx4X8OEZTGFBv5bLwH8Qp1bNQqK9Zhnvwj4iL4ZaC51e3IiE5+YsxzTmjtkfSm2d25xd0NfU7e6XKqPThB6e8UfQwIrP1kyKvKNpZr+L1Sr8xYyj+IohzTdWP08vJ59f6JyY2nsvGRtEMbz5XxGZ9KXqMcDe1Ryf0mP5b0+Zyg64Ky9ofjwHbuqUiWJll51BMAAAA4YeBIgUaJHDH5oTZj9fcRO1KwNQEAAAAATgM4UgCcAXCkAAAAAABOCzhSAJw0+bAphEEBAAAAABwfOFIAAAAAAAAA4Ame2gcAAAAAAAAAnsCRAgAAAAAAAABP4EgBAAAAAAAAgCdwpAAAAAAAAADAC6L/Bz3SC/EZOngiAAAAAElFTkSuQmCC)"
      ]
    },
    {
      "cell_type": "markdown",
      "metadata": {
        "id": "njfQIzqi_KK8"
      },
      "source": [
        "## Aprovechando información implícita: Dwell Time\n",
        "\n",
        "Podemos utilizar el tiempo que cada item fue visitado por cada usuario para realizar mejores recomendaciones.\n",
        "\n",
        "El supuesto es: a mayor tiempo de permanencia (dwell time) en un item, más interesado está el usuario en dicho item.\n",
        "\n",
        "Se hará item boosting en el set de entrenamiento."
      ]
    },
    {
      "cell_type": "code",
      "metadata": {
        "id": "lh9fruDcuVYg"
      },
      "source": [
        "def preprocess_df(df):    \n",
        "    n_items = len(df['ItemId'].unique())\n",
        "    aux = list(df['ItemId'].unique())\n",
        "    itemids = np.array(aux)\n",
        "    itemidmap = pd.Series(data=np.arange(n_items), index=itemids)  # (id_item => (0, n_items))\n",
        "    \n",
        "    item_key = 'ItemId'\n",
        "    session_key = 'SessionId'\n",
        "    time_key = 'Time'\n",
        "    \n",
        "    data = pd.merge(df, pd.DataFrame({item_key:itemids, 'ItemIdx':itemidmap[itemids].values}), on=item_key, how='inner')\n",
        "    data.sort_values([session_key, time_key], inplace=True)\n",
        "\n",
        "    length = len(data['ItemId'])\n",
        "        \n",
        "    return data"
      ],
      "execution_count": 11,
      "outputs": []
    },
    {
      "cell_type": "code",
      "metadata": {
        "id": "j5O-1YDR_vNY"
      },
      "source": [
        "def compute_dwell_time(df):\n",
        "    times_t = np.roll(df['Time'], -1) # Take time row\n",
        "    times_dt  = df['Time']            # Copy, then displace by one\n",
        "    diffs = np.subtract(times_t, times_dt) # Take pairwise difference\n",
        "    length = len(df['ItemId'])\n",
        "    \n",
        "    # cummulative offset start for each session\n",
        "    offset_sessions = np.zeros(df['SessionId'].nunique()+1, dtype=np.int32)\n",
        "    offset_sessions[1:] = df.groupby('SessionId').size().cumsum() \n",
        "    offset_sessions = offset_sessions - 1\n",
        "    offset_sessions = np.roll(offset_sessions, -1)\n",
        "    \n",
        "    np.put(diffs.values, offset_sessions, np.zeros((offset_sessions.shape)), mode='raise')\n",
        "\n",
        "    return diffs"
      ],
      "execution_count": 12,
      "outputs": []
    },
    {
      "cell_type": "code",
      "metadata": {
        "id": "7vFvOPH9Bfeq"
      },
      "source": [
        "def get_distribution(dts):\n",
        "    filtered = np.array(list(filter(lambda x: int(x) != 0, dts)))\n",
        "    pd_dts = pd.DataFrame(filtered)\n",
        "    pd_dts.boxplot(vert=False, showfliers=False)\n",
        "    plt.xlabel(\"Seconds\")\n",
        "    plt.yticks([])\n",
        "    plt.title(\"Dwell time distribution for RSC15 dataset\")\n",
        "    plt.show()\n",
        "    pd_dts.describe()"
      ],
      "execution_count": 13,
      "outputs": []
    },
    {
      "cell_type": "code",
      "metadata": {
        "id": "pPxWD0xPBfVE"
      },
      "source": [
        "def join_dwell_reps(df, dt, threshold=2000):\n",
        "    # Calculate d_ti/threshold + 1 then add column to dataFrame\n",
        "    dt //= threshold\n",
        "    dt += 1   \n",
        "    df['DwellReps'] = pd.Series(dt.astype(np.int64), index=dt.index)"
      ],
      "execution_count": 14,
      "outputs": []
    },
    {
      "cell_type": "code",
      "metadata": {
        "id": "jYX1RjhQ_wZG"
      },
      "source": [
        "def augment(df):    \n",
        "    col_names = list(df.columns.values)[:3]\n",
        "    augmented = np.repeat(df.values, df['DwellReps'], axis=0) \n",
        "    augmented = pd.DataFrame(data=augmented[:,:3],\n",
        "                             columns=col_names)\n",
        "    dtype = {'SessionId': np.int64, \n",
        "             'ItemId': np.int64, \n",
        "             'Time': np.float32}\n",
        "    \n",
        "    for k, v in dtype.items():\n",
        "        augmented[k] = augmented[k].astype(v)                  \n",
        "    \n",
        "    return augmented"
      ],
      "execution_count": 15,
      "outputs": []
    },
    {
      "cell_type": "code",
      "metadata": {
        "id": "veILDG2X_yJm"
      },
      "source": [
        "new_df = preprocess_df(train)\n",
        "dts = compute_dwell_time(new_df)"
      ],
      "execution_count": 16,
      "outputs": []
    },
    {
      "cell_type": "code",
      "metadata": {
        "id": "7xIJMF5aABmF",
        "outputId": "70eb3d59-cd96-43c9-aebd-a62ffe46bbad",
        "colab": {
          "base_uri": "https://localhost:8080/",
          "height": 295
        }
      },
      "source": [
        "# Visualize\n",
        "get_distribution(dts)"
      ],
      "execution_count": 17,
      "outputs": [
        {
          "output_type": "display_data",
          "data": {
            "image/png": "[encoded data removed]",
            "text/plain": [
              "<Figure size 432x288 with 1 Axes>"
            ]
          },
          "metadata": {
            "tags": [],
            "needs_background": "light"
          }
        }
      ]
    },
    {
      "cell_type": "code",
      "metadata": {
        "id": "Y4mZ3YB0Ai4q"
      },
      "source": [
        "# threshold is a hyperparameter\n",
        "join_dwell_reps(new_df, dts, threshold=75)\n",
        "\n",
        "# augment the sessions copying each entry an additional (dwellReps[i]-1) times\n",
        "df_aug = augment(new_df)\n",
        "df_aug.to_csv(\"./data/augmented_train.csv\", index=False, sep='\\t')"
      ],
      "execution_count": 18,
      "outputs": []
    },
    {
      "cell_type": "code",
      "metadata": {
        "id": "X1N36STyCrrs",
        "outputId": "ddb04e97-4f7d-4fcf-bc89-7ed465cedd22",
        "colab": {
          "base_uri": "https://localhost:8080/",
          "height": 108
        }
      },
      "source": [
        "# retrieve 1/n most recent fraction for demo purposes \n",
        "# (note it is a smaller fraction due to the inflation process)\n",
        "fraction = 64*7\n",
        "train_fraction(df_aug, fraction, prefix='aug_train')"
      ],
      "execution_count": 19,
      "outputs": [
        {
          "output_type": "stream",
          "text": [
            "Fractioned data set\n",
            "\tEvents: 151923\n",
            "\tSessions: 16351\n",
            "\tItems: 8484\n",
            "Saved as ./data/aug_train_448.tsv\n"
          ],
          "name": "stdout"
        }
      ]
    },
    {
      "cell_type": "markdown",
      "metadata": {
        "id": "v2E2q1ArD5Sr"
      },
      "source": [
        "## Entrenamiento con Dwell Time"
      ]
    },
    {
      "cell_type": "code",
      "metadata": {
        "id": "HNq8lpRADWZ2",
        "outputId": "d5941252-a886-4b1c-e210-e800d824f75c",
        "colab": {
          "base_uri": "https://localhost:8080/",
          "height": 1000
        }
      },
      "source": [
        "!python src/model/gru4rec.py --epochs 200 --train-path ./data/aug_train_448.tsv --dev-path ./data/validation.tsv --test-path ./data/test.tsv"
      ],
      "execution_count": 20,
      "outputs": [
        {
          "output_type": "stream",
          "text": [
            "Model: \"functional_1\"\n",
            "_________________________________________________________________\n",
            "Layer (type)                 Output Shape              Param #   \n",
            "=================================================================\n",
            "input_1 (InputLayer)         [(512, 1, 8485)]          0         \n",
            "_________________________________________________________________\n",
            "GRU (GRU)                    [(512, 100), (512, 100)]  2576100   \n",
            "_________________________________________________________________\n",
            "dropout (Dropout)            (512, 100)                0         \n",
            "_________________________________________________________________\n",
            "dense (Dense)                (512, 8485)               856985    \n",
            "=================================================================\n",
            "Total params: 3,433,085\n",
            "Trainable params: 3,433,085\n",
            "Non-trainable params: 0\n",
            "_________________________________________________________________\n",
            "Epoch 1. Loss: 7.50431:  97% 15835/16352 [00:19<00:00, 814.77it/s] \n",
            "Epoch 2. Loss: 6.64028:  97% 15835/16352 [00:11<00:00, 1330.53it/s]\n",
            "Epoch 3. Loss: 5.66238:  97% 15835/16352 [00:11<00:00, 1338.33it/s]\n",
            "Epoch 4. Loss: 4.93427:  97% 15835/16352 [00:11<00:00, 1335.99it/s]\n",
            "Epoch 5. Loss: 4.39049:  97% 15835/16352 [00:11<00:00, 1325.42it/s]\n",
            "Epoch 6. Loss: 3.96129:  97% 15835/16352 [00:11<00:00, 1334.45it/s]\n",
            "Epoch 7. Loss: 3.59316:  97% 15835/16352 [00:11<00:00, 1326.63it/s]\n",
            "Epoch 8. Loss: 3.30747:  97% 15835/16352 [00:12<00:00, 1295.48it/s]\n",
            "Epoch 9. Loss: 3.08190:  97% 15835/16352 [00:11<00:00, 1336.05it/s]\n",
            "Epoch 10. Loss: 2.85689:  97% 15835/16352 [00:11<00:00, 1334.63it/s]\n",
            "Epoch 11. Loss: 2.70470:  97% 15835/16352 [00:11<00:00, 1335.66it/s]\n",
            "Epoch 12. Loss: 2.56996:  97% 15835/16352 [00:12<00:00, 1314.04it/s]\n",
            "Epoch 13. Loss: 2.42854:  97% 15835/16352 [00:11<00:00, 1335.59it/s]\n",
            "Epoch 14. Loss: 2.34659:  97% 15835/16352 [00:11<00:00, 1336.58it/s]\n",
            "Epoch 15. Loss: 2.24524:  97% 15835/16352 [00:11<00:00, 1333.93it/s]\n",
            "Epoch 16. Loss: 2.14537:  97% 15835/16352 [00:11<00:00, 1333.88it/s]\n",
            "Epoch 17. Loss: 2.04918:  97% 15835/16352 [00:11<00:00, 1341.12it/s]\n",
            "Epoch 18. Loss: 1.97338:  97% 15835/16352 [00:11<00:00, 1335.52it/s]\n",
            "Epoch 19. Loss: 1.92351:  97% 15835/16352 [00:11<00:00, 1323.17it/s]\n",
            "Epoch 20. Loss: 1.81967:  97% 15835/16352 [00:11<00:00, 1332.01it/s]\n",
            "Epoch 21. Loss: 1.77497:  97% 15835/16352 [00:11<00:00, 1337.46it/s]\n",
            "Epoch 22. Loss: 1.72472:  97% 15835/16352 [00:11<00:00, 1339.69it/s]\n",
            "Epoch 23. Loss: 1.72545:  97% 15835/16352 [00:11<00:00, 1329.36it/s]\n",
            "Epoch 24. Loss: 1.64951:  97% 15835/16352 [00:11<00:00, 1341.87it/s]\n",
            "Epoch 25. Loss: 1.62203:  97% 15835/16352 [00:11<00:00, 1322.67it/s]\n",
            "Epoch 26. Loss: 1.56390:  97% 15835/16352 [00:11<00:00, 1331.89it/s]\n",
            "Epoch 27. Loss: 1.52401:  97% 15835/16352 [00:11<00:00, 1337.93it/s]\n",
            "Epoch 28. Loss: 1.52153:  97% 15835/16352 [00:11<00:00, 1334.91it/s]\n",
            "Epoch 29. Loss: 1.50500:  97% 15835/16352 [00:11<00:00, 1335.54it/s]\n",
            "Epoch 30. Loss: 1.46231:  97% 15835/16352 [00:11<00:00, 1330.14it/s]\n",
            "Epoch 31. Loss: 1.43002:  97% 15835/16352 [00:11<00:00, 1340.52it/s]\n",
            "Epoch 32. Loss: 1.37748:  97% 15835/16352 [00:11<00:00, 1321.59it/s]\n",
            "Epoch 33. Loss: 1.40231:  97% 15835/16352 [00:11<00:00, 1323.89it/s]\n",
            "Epoch 34. Loss: 1.35878:  97% 15835/16352 [00:12<00:00, 1300.33it/s]\n",
            "Epoch 35. Loss: 1.36259:  97% 15835/16352 [00:12<00:00, 1311.71it/s]\n",
            "Epoch 36. Loss: 1.34446:  97% 15835/16352 [00:11<00:00, 1322.96it/s]\n",
            "Epoch 37. Loss: 1.32258:  97% 15835/16352 [00:11<00:00, 1338.33it/s]\n",
            "Epoch 38. Loss: 1.33121:  97% 15835/16352 [00:11<00:00, 1323.76it/s]\n",
            "Epoch 39. Loss: 1.30559:  97% 15835/16352 [00:12<00:00, 1303.22it/s]\n",
            "Epoch 40. Loss: 1.30591:  97% 15835/16352 [00:11<00:00, 1325.28it/s]\n",
            "Epoch 41. Loss: 1.28340:  97% 15835/16352 [00:11<00:00, 1324.01it/s]\n",
            "Epoch 42. Loss: 1.32680:  97% 15835/16352 [00:11<00:00, 1326.15it/s]\n",
            "Epoch 43. Loss: 1.23852:  97% 15835/16352 [00:11<00:00, 1332.81it/s]\n",
            "Epoch 44. Loss: 1.30447:  97% 15835/16352 [00:11<00:00, 1320.81it/s]\n",
            "Epoch 45. Loss: 1.25547:  97% 15835/16352 [00:12<00:00, 1304.72it/s]\n",
            "Epoch 46. Loss: 1.26204:  97% 15835/16352 [00:12<00:00, 1299.28it/s]\n",
            "Epoch 47. Loss: 1.25993:  97% 15835/16352 [00:11<00:00, 1323.97it/s]\n",
            "Epoch 48. Loss: 1.27446:  97% 15835/16352 [00:11<00:00, 1329.55it/s]\n",
            "Epoch 49. Loss: 1.23912:  97% 15835/16352 [00:11<00:00, 1336.11it/s]\n",
            "Epoch 50. Loss: 1.21282:  97% 15835/16352 [00:12<00:00, 1301.37it/s]\n",
            "Epoch 51. Loss: 1.24372:  97% 15835/16352 [00:12<00:00, 1300.15it/s]\n",
            "Epoch 52. Loss: 1.19137:  97% 15835/16352 [00:12<00:00, 1304.82it/s]\n",
            "Epoch 53. Loss: 1.21197:  97% 15835/16352 [00:12<00:00, 1300.68it/s]\n",
            "Epoch 54. Loss: 1.20355:  97% 15835/16352 [00:12<00:00, 1312.37it/s]\n",
            "Epoch 55. Loss: 1.19454:  97% 15835/16352 [00:12<00:00, 1307.97it/s]\n",
            "Epoch 56. Loss: 1.19645:  97% 15835/16352 [00:12<00:00, 1314.40it/s]\n",
            "Epoch 57. Loss: 1.17904:  97% 15835/16352 [00:12<00:00, 1316.13it/s]\n",
            "Epoch 58. Loss: 1.15281:  97% 15835/16352 [00:12<00:00, 1312.85it/s]\n",
            "Epoch 59. Loss: 1.20694:  97% 15835/16352 [00:12<00:00, 1296.04it/s]\n",
            "Epoch 60. Loss: 1.22818:  97% 15835/16352 [00:12<00:00, 1274.53it/s]\n",
            "Epoch 61. Loss: 1.21119:  97% 15835/16352 [00:12<00:00, 1310.54it/s]\n",
            "Epoch 62. Loss: 1.17057:  97% 15835/16352 [00:11<00:00, 1324.97it/s]\n",
            "Epoch 63. Loss: 1.17203:  97% 15835/16352 [00:12<00:00, 1312.84it/s]\n",
            "Epoch 64. Loss: 1.17701:  97% 15835/16352 [00:12<00:00, 1316.32it/s]\n",
            "Epoch 65. Loss: 1.19123:  97% 15835/16352 [00:12<00:00, 1310.17it/s]\n",
            "Epoch 66. Loss: 1.17002:  97% 15835/16352 [00:12<00:00, 1310.14it/s]\n",
            "Epoch 67. Loss: 1.16491:  97% 15835/16352 [00:12<00:00, 1315.28it/s]\n",
            "Epoch 68. Loss: 1.19923:  97% 15835/16352 [00:12<00:00, 1314.51it/s]\n",
            "Epoch 69. Loss: 1.15853:  97% 15835/16352 [00:12<00:00, 1314.59it/s]\n",
            "Epoch 70. Loss: 1.14647:  97% 15835/16352 [00:12<00:00, 1318.94it/s]\n",
            "Epoch 71. Loss: 1.16002:  97% 15835/16352 [00:12<00:00, 1315.36it/s]\n",
            "Epoch 72. Loss: 1.15328:  97% 15835/16352 [00:12<00:00, 1309.79it/s]\n",
            "Epoch 73. Loss: 1.15272:  97% 15835/16352 [00:12<00:00, 1315.79it/s]\n",
            "Epoch 74. Loss: 1.13637:  97% 15835/16352 [00:12<00:00, 1319.12it/s]\n",
            "Epoch 75. Loss: 1.13245:  97% 15835/16352 [00:11<00:00, 1321.01it/s]\n",
            "Epoch 76. Loss: 1.13270:  97% 15835/16352 [00:12<00:00, 1314.08it/s]\n",
            "Epoch 77. Loss: 1.15380:  97% 15835/16352 [00:12<00:00, 1315.27it/s]\n",
            "Epoch 78. Loss: 1.16438:  97% 15835/16352 [00:11<00:00, 1319.79it/s]\n",
            "Epoch 79. Loss: 1.08423:  97% 15835/16352 [00:12<00:00, 1303.17it/s]\n",
            "Epoch 80. Loss: 1.13430:  97% 15835/16352 [00:12<00:00, 1316.84it/s]\n",
            "Epoch 81. Loss: 1.11382:  97% 15835/16352 [00:12<00:00, 1315.11it/s]\n",
            "Epoch 82. Loss: 1.07638:  97% 15835/16352 [00:12<00:00, 1311.68it/s]\n",
            "Epoch 83. Loss: 1.11655:  97% 15835/16352 [00:12<00:00, 1313.57it/s]\n",
            "Epoch 84. Loss: 1.11545:  97% 15835/16352 [00:12<00:00, 1306.98it/s]\n",
            "Epoch 85. Loss: 1.10185:  97% 15835/16352 [00:12<00:00, 1316.46it/s]\n",
            "Epoch 86. Loss: 1.09298:  97% 15835/16352 [00:12<00:00, 1281.76it/s]\n",
            "Epoch 87. Loss: 1.06369:  97% 15835/16352 [00:12<00:00, 1315.41it/s]\n",
            "Epoch 88. Loss: 1.13976:  97% 15835/16352 [00:11<00:00, 1323.00it/s]\n",
            "Epoch 89. Loss: 1.08581:  97% 15835/16352 [00:11<00:00, 1320.79it/s]\n",
            "Epoch 90. Loss: 1.12715:  97% 15835/16352 [00:12<00:00, 1318.47it/s]\n",
            "Epoch 91. Loss: 1.09050:  97% 15835/16352 [00:11<00:00, 1327.52it/s]\n",
            "Epoch 92. Loss: 1.08363:  97% 15835/16352 [00:12<00:00, 1316.61it/s]\n",
            "Epoch 93. Loss: 1.08799:  97% 15835/16352 [00:12<00:00, 1315.09it/s]\n",
            "Epoch 94. Loss: 1.07125:  97% 15835/16352 [00:12<00:00, 1313.74it/s]\n",
            "Epoch 95. Loss: 1.02884:  97% 15835/16352 [00:11<00:00, 1320.93it/s]\n",
            "Epoch 96. Loss: 1.03209:  97% 15835/16352 [00:11<00:00, 1320.45it/s]\n",
            "Epoch 97. Loss: 1.07054:  97% 15835/16352 [00:11<00:00, 1320.01it/s]\n",
            "Epoch 98. Loss: 1.06637:  97% 15835/16352 [00:12<00:00, 1318.86it/s]\n",
            "Epoch 99. Loss: 1.07675:  97% 15835/16352 [00:12<00:00, 1312.71it/s]\n",
            "Epoch 100. Loss: 1.08953:  97% 15835/16352 [00:12<00:00, 1306.76it/s]\n",
            "Epoch 101. Loss: 1.07319:  97% 15835/16352 [00:11<00:00, 1326.35it/s]\n",
            "Epoch 102. Loss: 1.05578:  97% 15835/16352 [00:12<00:00, 1317.63it/s]\n",
            "Epoch 103. Loss: 1.05562:  97% 15835/16352 [00:11<00:00, 1323.11it/s]\n",
            "Epoch 104. Loss: 1.01403:  97% 15835/16352 [00:12<00:00, 1314.84it/s]\n",
            "Epoch 105. Loss: 1.05184:  97% 15835/16352 [00:12<00:00, 1318.34it/s]\n",
            "Epoch 106. Loss: 1.03582:  97% 15835/16352 [00:12<00:00, 1309.53it/s]\n",
            "Epoch 107. Loss: 1.08082:  97% 15835/16352 [00:12<00:00, 1310.56it/s]\n",
            "Epoch 108. Loss: 1.06003:  97% 15835/16352 [00:11<00:00, 1320.47it/s]\n",
            "Epoch 109. Loss: 1.05843:  97% 15835/16352 [00:11<00:00, 1319.63it/s]\n",
            "Epoch 110. Loss: 1.04185:  97% 15835/16352 [00:12<00:00, 1301.96it/s]\n",
            "Epoch 111. Loss: 1.02385:  97% 15835/16352 [00:12<00:00, 1313.43it/s]\n",
            "Epoch 112. Loss: 1.02382:  97% 15835/16352 [00:12<00:00, 1282.05it/s]\n",
            "Epoch 113. Loss: 1.08881:  97% 15835/16352 [00:12<00:00, 1310.25it/s]\n",
            "Epoch 114. Loss: 1.03366:  97% 15835/16352 [00:12<00:00, 1318.56it/s]\n",
            "Epoch 115. Loss: 1.01983:  97% 15835/16352 [00:12<00:00, 1310.05it/s]\n",
            "Epoch 116. Loss: 0.98268:  97% 15835/16352 [00:12<00:00, 1317.18it/s]\n",
            "Epoch 117. Loss: 1.04968:  97% 15835/16352 [00:12<00:00, 1310.90it/s]\n",
            "Epoch 118. Loss: 1.04301:  97% 15835/16352 [00:12<00:00, 1318.68it/s]\n",
            "Epoch 119. Loss: 1.03197:  97% 15835/16352 [00:12<00:00, 1310.61it/s]\n",
            "Epoch 120. Loss: 1.00578:  97% 15835/16352 [00:12<00:00, 1310.76it/s]\n",
            "Epoch 121. Loss: 1.06355:  97% 15835/16352 [00:11<00:00, 1325.88it/s]\n",
            "Epoch 122. Loss: 0.97395:  97% 15835/16352 [00:11<00:00, 1326.28it/s]\n",
            "Epoch 123. Loss: 0.97879:  97% 15835/16352 [00:11<00:00, 1320.71it/s]\n",
            "Epoch 124. Loss: 1.02275:  97% 15835/16352 [00:12<00:00, 1303.49it/s]\n",
            "Epoch 125. Loss: 1.02695:  97% 15835/16352 [00:12<00:00, 1306.29it/s]\n",
            "Epoch 126. Loss: 1.00878:  97% 15835/16352 [00:12<00:00, 1309.72it/s]\n",
            "Epoch 127. Loss: 0.99186:  97% 15835/16352 [00:12<00:00, 1317.89it/s]\n",
            "Epoch 128. Loss: 0.97597:  97% 15835/16352 [00:12<00:00, 1318.86it/s]\n",
            "Epoch 129. Loss: 1.00216:  97% 15835/16352 [00:11<00:00, 1321.99it/s]\n",
            "Epoch 130. Loss: 1.03983:  97% 15835/16352 [00:12<00:00, 1316.76it/s]\n",
            "Epoch 131. Loss: 0.91892:  97% 15835/16352 [00:12<00:00, 1314.04it/s]\n",
            "Epoch 132. Loss: 1.03170:  97% 15835/16352 [00:12<00:00, 1310.76it/s]\n",
            "Epoch 133. Loss: 1.01964:  97% 15835/16352 [00:12<00:00, 1310.02it/s]\n",
            "Epoch 134. Loss: 1.01992:  97% 15835/16352 [00:12<00:00, 1319.51it/s]\n",
            "Epoch 135. Loss: 1.00749:  97% 15835/16352 [00:12<00:00, 1304.54it/s]\n",
            "Epoch 136. Loss: 0.99244:  97% 15835/16352 [00:12<00:00, 1318.70it/s]\n",
            "Epoch 137. Loss: 0.99622:  97% 15835/16352 [00:12<00:00, 1306.03it/s]\n",
            "Epoch 138. Loss: 0.97562:  97% 15835/16352 [00:12<00:00, 1294.60it/s]\n",
            "Epoch 139. Loss: 1.02373:  97% 15835/16352 [00:12<00:00, 1311.21it/s]\n",
            "Epoch 140. Loss: 1.00626:  97% 15835/16352 [00:12<00:00, 1314.56it/s]\n",
            "Epoch 141. Loss: 1.01014:  97% 15835/16352 [00:12<00:00, 1317.16it/s]\n",
            "Epoch 142. Loss: 1.03347:  97% 15835/16352 [00:11<00:00, 1321.26it/s]\n",
            "Epoch 143. Loss: 0.97750:  97% 15835/16352 [00:12<00:00, 1316.95it/s]\n",
            "Epoch 144. Loss: 1.01274:  97% 15835/16352 [00:12<00:00, 1319.20it/s]\n",
            "Epoch 145. Loss: 0.95250:  97% 15835/16352 [00:11<00:00, 1321.70it/s]\n",
            "Epoch 146. Loss: 0.96242:  97% 15835/16352 [00:12<00:00, 1319.02it/s]\n",
            "Epoch 147. Loss: 0.94239:  97% 15835/16352 [00:11<00:00, 1325.62it/s]\n",
            "Epoch 148. Loss: 0.98987:  97% 15835/16352 [00:11<00:00, 1322.14it/s]\n",
            "Epoch 149. Loss: 0.96119:  97% 15835/16352 [00:12<00:00, 1311.22it/s]\n",
            "Epoch 150. Loss: 0.97951:  97% 15835/16352 [00:12<00:00, 1316.88it/s]\n",
            "Epoch 151. Loss: 0.99157:  97% 15835/16352 [00:12<00:00, 1311.87it/s]\n",
            "Epoch 152. Loss: 0.99303:  97% 15835/16352 [00:12<00:00, 1310.56it/s]\n",
            "Epoch 153. Loss: 0.95934:  97% 15835/16352 [00:12<00:00, 1308.23it/s]\n",
            "Epoch 154. Loss: 0.99631:  97% 15835/16352 [00:12<00:00, 1317.66it/s]\n",
            "Epoch 155. Loss: 1.02724:  97% 15835/16352 [00:12<00:00, 1309.35it/s]\n",
            "Epoch 156. Loss: 0.96861:  97% 15835/16352 [00:12<00:00, 1313.79it/s]\n",
            "Epoch 157. Loss: 0.97806:  97% 15835/16352 [00:11<00:00, 1324.05it/s]\n",
            "Epoch 158. Loss: 0.98181:  97% 15835/16352 [00:11<00:00, 1321.91it/s]\n",
            "Epoch 159. Loss: 0.98802:  97% 15835/16352 [00:11<00:00, 1319.68it/s]\n",
            "Epoch 160. Loss: 0.99444:  97% 15835/16352 [00:12<00:00, 1303.04it/s]\n",
            "Epoch 161. Loss: 1.01949:  97% 15835/16352 [00:11<00:00, 1322.50it/s]\n",
            "Epoch 162. Loss: 0.97334:  97% 15835/16352 [00:11<00:00, 1321.63it/s]\n",
            "Epoch 163. Loss: 0.97790:  97% 15835/16352 [00:12<00:00, 1294.62it/s]\n",
            "Epoch 164. Loss: 0.90915:  97% 15835/16352 [00:12<00:00, 1308.70it/s]\n",
            "Epoch 165. Loss: 0.97920:  97% 15835/16352 [00:11<00:00, 1319.93it/s]\n",
            "Epoch 166. Loss: 0.94169:  97% 15835/16352 [00:12<00:00, 1313.59it/s]\n",
            "Epoch 167. Loss: 0.96225:  97% 15835/16352 [00:12<00:00, 1317.44it/s]\n",
            "Epoch 168. Loss: 0.97439:  97% 15835/16352 [00:12<00:00, 1317.42it/s]\n",
            "Epoch 169. Loss: 0.98276:  97% 15835/16352 [00:11<00:00, 1320.81it/s]\n",
            "Epoch 170. Loss: 1.01498:  97% 15835/16352 [00:11<00:00, 1321.40it/s]\n",
            "Epoch 171. Loss: 0.95605:  97% 15835/16352 [00:12<00:00, 1317.69it/s]\n",
            "Epoch 172. Loss: 1.01690:  97% 15835/16352 [00:11<00:00, 1321.33it/s]\n",
            "Epoch 173. Loss: 0.99056:  97% 15835/16352 [00:12<00:00, 1311.30it/s]\n",
            "Epoch 174. Loss: 0.99621:  97% 15835/16352 [00:11<00:00, 1325.30it/s]\n",
            "Epoch 175. Loss: 0.94577:  97% 15835/16352 [00:12<00:00, 1311.43it/s]\n",
            "Epoch 176. Loss: 0.98370:  97% 15835/16352 [00:11<00:00, 1321.68it/s]\n",
            "Epoch 177. Loss: 0.96749:  97% 15835/16352 [00:12<00:00, 1316.64it/s]\n",
            "Epoch 178. Loss: 0.97220:  97% 15835/16352 [00:12<00:00, 1312.26it/s]\n",
            "Epoch 179. Loss: 0.95720:  97% 15835/16352 [00:12<00:00, 1294.92it/s]\n",
            "Epoch 180. Loss: 0.97251:  97% 15835/16352 [00:12<00:00, 1307.59it/s]\n",
            "Epoch 181. Loss: 0.93871:  97% 15835/16352 [00:12<00:00, 1307.28it/s]\n",
            "Epoch 182. Loss: 0.95183:  97% 15835/16352 [00:12<00:00, 1308.15it/s]\n",
            "Epoch 183. Loss: 1.00971:  97% 15835/16352 [00:12<00:00, 1308.22it/s]\n",
            "Epoch 184. Loss: 0.96122:  97% 15835/16352 [00:11<00:00, 1321.40it/s]\n",
            "Epoch 185. Loss: 0.98283:  97% 15835/16352 [00:12<00:00, 1310.82it/s]\n",
            "Epoch 186. Loss: 0.97824:  97% 15835/16352 [00:12<00:00, 1307.48it/s]\n",
            "Epoch 187. Loss: 0.98862:  97% 15835/16352 [00:12<00:00, 1318.22it/s]\n",
            "Epoch 188. Loss: 1.00404:  97% 15835/16352 [00:12<00:00, 1308.39it/s]\n",
            "Epoch 189. Loss: 0.94365:  97% 15835/16352 [00:12<00:00, 1292.29it/s]\n",
            "Epoch 190. Loss: 1.00451:  97% 15835/16352 [00:12<00:00, 1316.94it/s]\n",
            "Epoch 191. Loss: 0.93750:  97% 15835/16352 [00:12<00:00, 1310.62it/s]\n",
            "Epoch 192. Loss: 0.95580:  97% 15835/16352 [00:12<00:00, 1315.86it/s]\n",
            "Epoch 193. Loss: 0.91815:  97% 15835/16352 [00:12<00:00, 1314.68it/s]\n",
            "Epoch 194. Loss: 0.95265:  97% 15835/16352 [00:12<00:00, 1314.21it/s]\n",
            "Epoch 195. Loss: 0.98783:  97% 15835/16352 [00:12<00:00, 1311.68it/s]\n",
            "Epoch 196. Loss: 0.97143:  97% 15835/16352 [00:11<00:00, 1321.19it/s]\n",
            "Epoch 197. Loss: 0.99843:  97% 15835/16352 [00:12<00:00, 1275.26it/s]\n",
            "Epoch 198. Loss: 0.94462:  97% 15835/16352 [00:12<00:00, 1294.63it/s]\n",
            "Epoch 199. Loss: 0.97653:  97% 15835/16352 [00:12<00:00, 1289.84it/s]\n",
            "Evaluating model...\n",
            "\t - Recall@20 epoch 199: 0.499681\n",
            "\t - MRR@20    epoch 199: 0.203271\n",
            "\n"
          ],
          "name": "stdout"
        }
      ]
    },
    {
      "cell_type": "markdown",
      "metadata": {
        "id": "YdMFiWFK65w1"
      },
      "source": [
        "**Indique el resultado del modelo con Dwell Time.**"
      ]
    },
    {
      "cell_type": "markdown",
      "metadata": {
        "id": "LNcgMKqXy_v5"
      },
      "source": [
        "![c.png](data:image/png;base64,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)"
      ]
    },
    {
      "cell_type": "code",
      "metadata": {
        "id": "AgEbg5pvipfn"
      },
      "source": [
        "new_df_2 = preprocess_df(df_aug)\n",
        "dts_2 = compute_dwell_time(new_df_2)"
      ],
      "execution_count": 21,
      "outputs": []
    },
    {
      "cell_type": "code",
      "metadata": {
        "id": "eQNhooMdm77H",
        "outputId": "986a5774-8c39-41db-8089-43d57339bf8c",
        "colab": {
          "base_uri": "https://localhost:8080/",
          "height": 295
        }
      },
      "source": [
        "# Visualize\n",
        "get_distribution(dts_2)"
      ],
      "execution_count": 22,
      "outputs": [
        {
          "output_type": "display_data",
          "data": {
            "image/png": "[encoded data removed]",
            "text/plain": [
              "<Figure size 432x288 with 1 Axes>"
            ]
          },
          "metadata": {
            "tags": [],
            "needs_background": "light"
          }
        }
      ]
    },
    {
      "cell_type": "code",
      "metadata": {
        "id": "4R5LqPPPzWd-"
      },
      "source": [
        ""
      ],
      "execution_count": null,
      "outputs": []
    }
  ]
}