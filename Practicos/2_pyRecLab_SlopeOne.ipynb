{
  "nbformat": 4,
  "nbformat_minor": 0,
  "metadata": {
    "colab": {
      "name": "pyRecLab_SlopeOne.ipynb",
      "provenance": [],
      "collapsed_sections": [],
      "toc_visible": true
    },
    "kernelspec": {
      "name": "python3",
      "display_name": "Python 3"
    }
  },
  "cells": [
    {
      "cell_type": "markdown",
      "metadata": {
        "colab_type": "text",
        "id": "view-in-github"
      },
      "source": [
        "<a href=\"https://colab.research.google.com/github/PUC-RecSys-Class/RecSysPUC-2020/blob/master/practicos/pyRecLab_SlopeOne.ipynb\" target=\"_parent\"><img src=\"https://colab.research.google.com/assets/colab-badge.svg\" alt=\"Open In Colab\"/></a>\n"
      ]
    },
    {
      "cell_type": "markdown",
      "metadata": {
        "colab_type": "text",
        "id": "view-in-youtube"
      },
      "source": [
        "<a href=\"https://youtu.be/A2euuevpYis\" target=\"_parent\"><img src=\"https://upload.wikimedia.org/wikipedia/commons/thumb/0/09/YouTube_full-color_icon_%282017%29.svg/71px-YouTube_full-color_icon_%282017%29.svg.png\" alt=\"Open In Colab\"/></a>\n"
      ]
    },
    {
      "cell_type": "markdown",
      "metadata": {
        "id": "0kY7Xfgi84HC",
        "colab_type": "text"
      },
      "source": [
        "# **Práctico Sistemas Recomendadores: pyreclab - Slope One**\n",
        "\n",
        "En este práctico seguiremos utilizando [pyreclab](https://github.com/gasevi/pyreclab), con el cual estamos aprendiendo distintas técnicas de recomendación. Seguiremos usando la misma base de datos de los prácticos anteriores, para que puedan comparar los métodos y sus implementaciones. Este práctico está acompañado de un [video comentando la actividad](https://youtu.be/A2euuevpYis).\n",
        "\n",
        "En esta oportunidad exploraremos el recomendador de Pendiente Uno o **Slope One** [1].\n",
        "\n",
        "**Adaptado y preparado por:** Francisca Cattan 📩 fpcattan@uc.cl\n",
        "\n",
        "Referencias 📖\n",
        "------\n",
        "[1] *Lemire, D., & Maclachlan, A. (2005, April). Slope One Predictors for Online Rating-Based Collaborative Filtering. In SDM (Vol. 5, pp. 1-5).*\n"
      ]
    },
    {
      "cell_type": "markdown",
      "metadata": {
        "id": "1s6Ac_Kh9qiH",
        "colab_type": "text"
      },
      "source": [
        "**Nombre**:  Ignacio Contreras Mc Kay"
      ]
    },
    {
      "cell_type": "markdown",
      "metadata": {
        "id": "Z4Jr74pP-4gt",
        "colab_type": "text"
      },
      "source": [
        "## Actividad 1 👓\n",
        "\n",
        "Antes de empezar con el práctico, responde la siguiente pregunta con lo visto en clases.\n",
        "\n",
        "**Pregunta:** Explique cómo funciona Slope One (como modelo teórico, no piense en la implementación). En particular explique:\n",
        "\n",
        "- Repasemos: ¿Por qué este recomendador es un algoritmo de Filtrado Colaborativo?\n",
        "- Este Filtrado Colaborativo, ¿está basado en el usuario o en los items? ¿Por qué?\n",
        "- ¿Qué datos recibe Slope One y qué hace con ellos? (qué tipo de columnas y qué calculo)\n",
        "- ¿Qué pasaría si se agrega un nuevo rating a la base de datos?\n",
        "- Opcional: ¿Cómo crees que le iría al recomendador con un usuario que acaba de entrar al sistema y ha asignado muy pocos ratings?\n",
        "\n",
        "💡 *Hint: La bibliografía todo lo puede.*\n",
        "\n",
        "**Respuesta:**\n",
        "Es de filtrado colaborativo debido a que utiliza los ratings generados por los usuarios que han visto películas semejantes al usuario activo. Este método está basado en items ya que busca la diferencia entre los ratings promedios entre los items y los utiliza como \"pendiente\" sobre el rating del usuario activo en el item i para obtener el del item j.\n",
        "Este algoritmo recibe los ratings de los usuarios y obtiene, como dije, el promedio de los ratings por item. Luego, se utilizan estos promedios para obtener la diferencia entre los items que el usuario ha visto y el item a predecir y ponderar, con las similitudes entre i y j, el rating esperado del item a predecir.\n",
        "Si se agrega un nuevo rating se computa nuevamente la diferencia o pendiente entre los items i y j. Para todas los items j que pertenecen al conjunto de items \"vistos\" por usuarios que han visto ambos items.\n",
        "\n"
      ]
    },
    {
      "cell_type": "markdown",
      "metadata": {
        "id": "HaFY1qNzHyCD",
        "colab_type": "text"
      },
      "source": [
        "# **Configuración Inicial**"
      ]
    },
    {
      "cell_type": "markdown",
      "metadata": {
        "id": "MvGNsjiIIC6G",
        "colab_type": "text"
      },
      "source": [
        "## Paso 1:\n",
        "Descargue directamente a Colab los archivos del dataset ejecutando las siguientes 3 celdas:\n"
      ]
    },
    {
      "cell_type": "code",
      "metadata": {
        "id": "_7M_ehHq8ti2",
        "colab_type": "code",
        "colab": {
          "base_uri": "https://localhost:8080/",
          "height": 90
        },
        "outputId": "b446b622-be75-4a83-9226-a763fb3cda46"
      },
      "source": [
        "!curl -L -o \"u1.base\" \"https://drive.google.com/uc?export=download&id=1bGweNw7NbOHoJz11v6ld7ymLR8MLvBsA\""
      ],
      "execution_count": null,
      "outputs": [
        {
          "output_type": "stream",
          "text": [
            "  % Total    % Received % Xferd  Average Speed   Time    Time     Time  Current\n",
            "                                 Dload  Upload   Total   Spent    Left  Speed\n",
            "100   388    0   388    0     0    635      0 --:--:-- --:--:-- --:--:--   633\n",
            "100 1546k  100 1546k    0     0  1868k      0 --:--:-- --:--:-- --:--:-- 1868k\n"
          ],
          "name": "stdout"
        }
      ]
    },
    {
      "cell_type": "code",
      "metadata": {
        "id": "CSdhurW1InVW",
        "colab_type": "code",
        "colab": {
          "base_uri": "https://localhost:8080/",
          "height": 90
        },
        "outputId": "4824f7df-06d4-4147-b3c6-30634297c9d7"
      },
      "source": [
        "!curl -L -o \"u1.test\" \"https://drive.google.com/uc?export=download&id=1f_HwJWC_1HFzgAjKAWKwkuxgjkhkXrVg\""
      ],
      "execution_count": null,
      "outputs": [
        {
          "output_type": "stream",
          "text": [
            "  % Total    % Received % Xferd  Average Speed   Time    Time     Time  Current\n",
            "                                 Dload  Upload   Total   Spent    Left  Speed\n",
            "\r  0     0    0     0    0     0      0      0 --:--:-- --:--:-- --:--:--     0\r100   388    0   388    0     0   1089      0 --:--:-- --:--:-- --:--:--  1092\n",
            "\r100  385k  100  385k    0     0   672k      0 --:--:-- --:--:-- --:--:--  672k\n"
          ],
          "name": "stdout"
        }
      ]
    },
    {
      "cell_type": "code",
      "metadata": {
        "id": "QoGzmPG2InzM",
        "colab_type": "code",
        "colab": {
          "base_uri": "https://localhost:8080/",
          "height": 90
        },
        "outputId": "ab9ea38f-ecd5-4ec1-f198-2c0a762665d0"
      },
      "source": [
        "!curl -L -o \"u.item\" \"https://drive.google.com/uc?export=download&id=10YLhxkO2-M_flQtyo9OYV4nT9IvSESuz\""
      ],
      "execution_count": null,
      "outputs": [
        {
          "output_type": "stream",
          "text": [
            "  % Total    % Received % Xferd  Average Speed   Time    Time     Time  Current\n",
            "                                 Dload  Upload   Total   Spent    Left  Speed\n",
            "\r  0     0    0     0    0     0      0      0 --:--:-- --:--:-- --:--:--     0\r100   388    0   388    0     0   1492      0 --:--:-- --:--:-- --:--:--  1492\n",
            "\r100  230k  100  230k    0     0   503k      0 --:--:-- --:--:-- --:--:--  503k\n"
          ],
          "name": "stdout"
        }
      ]
    },
    {
      "cell_type": "markdown",
      "metadata": {
        "id": "kluVF2eJIyjq",
        "colab_type": "text"
      },
      "source": [
        "Los archivos **u1.base** y **u1.test** tienen tuplas {usuario, item, rating, timestamp}, que es la información de preferencias de usuarios sobre películas en una muestra del dataset [movielens](https://grouplens.org/datasets/movielens/)."
      ]
    },
    {
      "cell_type": "markdown",
      "metadata": {
        "id": "uopKG59rJWM9",
        "colab_type": "text"
      },
      "source": [
        "## Paso 2:\n",
        "\n",
        "Instalamos pyreclab utilizando pip."
      ]
    },
    {
      "cell_type": "code",
      "metadata": {
        "id": "hi9L5FZdJWfI",
        "colab_type": "code",
        "colab": {
          "base_uri": "https://localhost:8080/",
          "height": 128
        },
        "outputId": "bd7ada43-64fd-4e96-a880-3eed69b26839"
      },
      "source": [
        "!pip install pyreclab --upgrade"
      ],
      "execution_count": null,
      "outputs": [
        {
          "output_type": "stream",
          "text": [
            "Collecting pyreclab\n",
            "\u001b[?25l  Downloading https://files.pythonhosted.org/packages/23/4f/22999d293268e98efae9e80b7d2d4a372b025051de22558e649c7fc69539/pyreclab-0.1.14-cp36-cp36m-manylinux1_x86_64.whl (184kB)\n",
            "\u001b[K     |████████████████████████████████| 194kB 2.8MB/s \n",
            "\u001b[?25hInstalling collected packages: pyreclab\n",
            "Successfully installed pyreclab-0.1.14\n"
          ],
          "name": "stdout"
        }
      ]
    },
    {
      "cell_type": "markdown",
      "metadata": {
        "id": "M28DoBHtN5qD",
        "colab_type": "text"
      },
      "source": [
        "## Paso 3:\n",
        "\n",
        "Hacemos los imports necesarios para este práctico."
      ]
    },
    {
      "cell_type": "code",
      "metadata": {
        "id": "KQ0jQ_JcN3el",
        "colab_type": "code",
        "colab": {}
      },
      "source": [
        "import pyreclab\n",
        "import numpy as np\n",
        "import pandas as pd"
      ],
      "execution_count": null,
      "outputs": []
    },
    {
      "cell_type": "markdown",
      "metadata": {
        "id": "bmxNQtXvfJy3",
        "colab_type": "text"
      },
      "source": [
        "# **El dataset**\n",
        "\n",
        "💡 *En prácticos anteriores, vimos como analizar este dataset. Puedes revisarlos en caso de dudas.*"
      ]
    },
    {
      "cell_type": "markdown",
      "metadata": {
        "id": "nAdXLT7haQe1",
        "colab_type": "text"
      },
      "source": [
        "## Paso 4:\n",
        "\n",
        "Ya que queremos crear una lista de recomendación de items para un usuario en especifico, necesitamos obtener información adicional de cada película tal como título, fecha de lanzamiento, género, etc. Cargaremos el archivo de items descargado \"u.item\" para poder mapear cada identificador de ítem al conjunto de datos que lo describe."
      ]
    },
    {
      "cell_type": "code",
      "metadata": {
        "id": "p0vHiGJheUkB",
        "colab_type": "code",
        "colab": {}
      },
      "source": [
        "# Definimos el orden de las columnas\n",
        "info_cols = [ 'movieid', 'title', 'release_date', 'video_release_date', 'IMDb_URL', \\\n",
        "              'unknown', 'Action', 'Adventure', 'Animation', 'Children', 'Comedy', \\\n",
        "              'Crime', 'Documentary', 'Drama', 'Fantasy', 'Film-Noir', 'Horror', \\\n",
        "              'Musical', 'Mystery', 'Romance', 'Sci-Fi', 'Thriller', 'War', 'Western' ]\n",
        "\n",
        "# Asignamos a una variable la estructura de datos de los items\n",
        "info_file = pd.read_csv('u.item', sep='|', index_col = 0, names = info_cols, header=None, encoding='latin-1')"
      ],
      "execution_count": null,
      "outputs": []
    },
    {
      "cell_type": "markdown",
      "metadata": {
        "id": "z4pjNDlMOOdo",
        "colab_type": "text"
      },
      "source": [
        "# **Slope One**"
      ]
    },
    {
      "cell_type": "markdown",
      "metadata": {
        "id": "H5sx7xkfQE6W",
        "colab_type": "text"
      },
      "source": [
        "## Paso 5:\n",
        "\n",
        "Seguiremos un camino muy similar a los ejercicios de User KNN e Item KNN. Crearemos una instancia del algoritmo de recomendación y luego pasaremos a la fase de entrenamiento."
      ]
    },
    {
      "cell_type": "code",
      "metadata": {
        "id": "v3D7CAoyPfko",
        "colab_type": "code",
        "colab": {}
      },
      "source": [
        "# Declaramos la instancia SlopeOne\n",
        "mySlopeOne = pyreclab.SlopeOne(dataset='u1.base', dlmchar=b'\\t', header=False, usercol=0, itemcol=1, ratingcol=2)"
      ],
      "execution_count": null,
      "outputs": []
    },
    {
      "cell_type": "code",
      "metadata": {
        "id": "EhacKomkTs51",
        "colab_type": "code",
        "colab": {}
      },
      "source": [
        "# Y enntrenamos\n",
        "mySlopeOne.train()"
      ],
      "execution_count": null,
      "outputs": []
    },
    {
      "cell_type": "markdown",
      "metadata": {
        "id": "Wnb3DkVVTttZ",
        "colab_type": "text"
      },
      "source": [
        "## Actividad 2 👓\n",
        "\n",
        "**Pregunta:** Explique qué hace el método `train()` en este caso, dado el modelo teórico. ¿Calcula información?, ¿no hace nada?, ¿ordena los datos? \n",
        "\n",
        "**Respuesta:**\n",
        "Calcula los slopes promedios para cada par de items haciendo referencia a los usuarios que hicieron rating en esos items i, j. Esto para cuando se pida la predicción para un item especifico para el usuario activo hacer f(x) = x + b, con b el slope y obtener el rating."
      ]
    },
    {
      "cell_type": "markdown",
      "metadata": {
        "id": "XqR8bZB2VboJ",
        "colab_type": "text"
      },
      "source": [
        "## Paso 6:\n",
        "\n",
        "Llego la hora de predecir el rating."
      ]
    },
    {
      "cell_type": "code",
      "metadata": {
        "id": "H9yigNx9VYZ3",
        "colab_type": "code",
        "colab": {
          "base_uri": "https://localhost:8080/",
          "height": 35
        },
        "outputId": "4ca8be28-9681-4f7b-96a8-b194f253c2d7"
      },
      "source": [
        "# Esta es la predicción de rating que el usuario ID:457 otorgaría al ítem ID:37\n",
        "# De esta forma podemos comparar el resultado con los prácticos anteriores\n",
        "mySlopeOne.predict(\"457\", \"37\")"
      ],
      "execution_count": null,
      "outputs": [
        {
          "output_type": "execute_result",
          "data": {
            "text/plain": [
              "3.2408759593963623"
            ]
          },
          "metadata": {
            "tags": []
          },
          "execution_count": 9
        }
      ]
    },
    {
      "cell_type": "code",
      "metadata": {
        "id": "-0ShLi6gYhh_",
        "colab_type": "code",
        "colab": {}
      },
      "source": [
        "# También podemos guardar la predicción en una variable\n",
        "prediction = mySlopeOne.predict(\"457\", \"37\")"
      ],
      "execution_count": null,
      "outputs": []
    },
    {
      "cell_type": "code",
      "metadata": {
        "id": "2yFtdiVcUcKW",
        "colab_type": "code",
        "colab": {
          "base_uri": "https://localhost:8080/",
          "height": 424
        },
        "outputId": "63e19e11-275a-4af2-e034-35308fd9dbf6"
      },
      "source": [
        "# Podemos comprobar las peliculas rankeadas por el usuario ID:457\n",
        "# Que ciertamente ha participado activamente (¡156 items!)\n",
        "train_file = pd.read_csv('u1.base', sep='\\t', names = ['userid', 'itemid', 'rating', 'timestamp'], header=None)\n",
        "train_file[train_file['userid'] == 457]"
      ],
      "execution_count": null,
      "outputs": [
        {
          "output_type": "execute_result",
          "data": {
            "text/html": [
              "<div>\n",
              "<style scoped>\n",
              "    .dataframe tbody tr th:only-of-type {\n",
              "        vertical-align: middle;\n",
              "    }\n",
              "\n",
              "    .dataframe tbody tr th {\n",
              "        vertical-align: top;\n",
              "    }\n",
              "\n",
              "    .dataframe thead th {\n",
              "        text-align: right;\n",
              "    }\n",
              "</style>\n",
              "<table border=\"1\" class=\"dataframe\">\n",
              "  <thead>\n",
              "    <tr style=\"text-align: right;\">\n",
              "      <th></th>\n",
              "      <th>userid</th>\n",
              "      <th>itemid</th>\n",
              "      <th>rating</th>\n",
              "      <th>timestamp</th>\n",
              "    </tr>\n",
              "  </thead>\n",
              "  <tbody>\n",
              "    <tr>\n",
              "      <th>37269</th>\n",
              "      <td>457</td>\n",
              "      <td>1</td>\n",
              "      <td>4</td>\n",
              "      <td>882393244</td>\n",
              "    </tr>\n",
              "    <tr>\n",
              "      <th>37270</th>\n",
              "      <td>457</td>\n",
              "      <td>7</td>\n",
              "      <td>4</td>\n",
              "      <td>882393278</td>\n",
              "    </tr>\n",
              "    <tr>\n",
              "      <th>37271</th>\n",
              "      <td>457</td>\n",
              "      <td>9</td>\n",
              "      <td>5</td>\n",
              "      <td>882393485</td>\n",
              "    </tr>\n",
              "    <tr>\n",
              "      <th>37272</th>\n",
              "      <td>457</td>\n",
              "      <td>11</td>\n",
              "      <td>4</td>\n",
              "      <td>882397020</td>\n",
              "    </tr>\n",
              "    <tr>\n",
              "      <th>37273</th>\n",
              "      <td>457</td>\n",
              "      <td>13</td>\n",
              "      <td>3</td>\n",
              "      <td>882393883</td>\n",
              "    </tr>\n",
              "    <tr>\n",
              "      <th>...</th>\n",
              "      <td>...</td>\n",
              "      <td>...</td>\n",
              "      <td>...</td>\n",
              "      <td>...</td>\n",
              "    </tr>\n",
              "    <tr>\n",
              "      <th>37420</th>\n",
              "      <td>457</td>\n",
              "      <td>1047</td>\n",
              "      <td>2</td>\n",
              "      <td>882395964</td>\n",
              "    </tr>\n",
              "    <tr>\n",
              "      <th>37421</th>\n",
              "      <td>457</td>\n",
              "      <td>1119</td>\n",
              "      <td>4</td>\n",
              "      <td>882398308</td>\n",
              "    </tr>\n",
              "    <tr>\n",
              "      <th>37422</th>\n",
              "      <td>457</td>\n",
              "      <td>1168</td>\n",
              "      <td>5</td>\n",
              "      <td>882548761</td>\n",
              "    </tr>\n",
              "    <tr>\n",
              "      <th>37423</th>\n",
              "      <td>457</td>\n",
              "      <td>1210</td>\n",
              "      <td>4</td>\n",
              "      <td>882549905</td>\n",
              "    </tr>\n",
              "    <tr>\n",
              "      <th>37424</th>\n",
              "      <td>457</td>\n",
              "      <td>1221</td>\n",
              "      <td>4</td>\n",
              "      <td>882549438</td>\n",
              "    </tr>\n",
              "  </tbody>\n",
              "</table>\n",
              "<p>156 rows × 4 columns</p>\n",
              "</div>"
            ],
            "text/plain": [
              "       userid  itemid  rating  timestamp\n",
              "37269     457       1       4  882393244\n",
              "37270     457       7       4  882393278\n",
              "37271     457       9       5  882393485\n",
              "37272     457      11       4  882397020\n",
              "37273     457      13       3  882393883\n",
              "...       ...     ...     ...        ...\n",
              "37420     457    1047       2  882395964\n",
              "37421     457    1119       4  882398308\n",
              "37422     457    1168       5  882548761\n",
              "37423     457    1210       4  882549905\n",
              "37424     457    1221       4  882549438\n",
              "\n",
              "[156 rows x 4 columns]"
            ]
          },
          "metadata": {
            "tags": []
          },
          "execution_count": 11
        }
      ]
    },
    {
      "cell_type": "code",
      "metadata": {
        "id": "liVoMHlAYhH_",
        "colab_type": "code",
        "colab": {
          "base_uri": "https://localhost:8080/",
          "height": 269
        },
        "outputId": "009a27ff-5141-4a73-bc89-689b8d3ca38a"
      },
      "source": [
        "# Y también cuáles usuarios han rankeado la pelicula ID:37\n",
        "train_file[train_file['itemid'] == 37]"
      ],
      "execution_count": null,
      "outputs": [
        {
          "output_type": "execute_result",
          "data": {
            "text/html": [
              "<div>\n",
              "<style scoped>\n",
              "    .dataframe tbody tr th:only-of-type {\n",
              "        vertical-align: middle;\n",
              "    }\n",
              "\n",
              "    .dataframe tbody tr th {\n",
              "        vertical-align: top;\n",
              "    }\n",
              "\n",
              "    .dataframe thead th {\n",
              "        text-align: right;\n",
              "    }\n",
              "</style>\n",
              "<table border=\"1\" class=\"dataframe\">\n",
              "  <thead>\n",
              "    <tr style=\"text-align: right;\">\n",
              "      <th></th>\n",
              "      <th>userid</th>\n",
              "      <th>itemid</th>\n",
              "      <th>rating</th>\n",
              "      <th>timestamp</th>\n",
              "    </tr>\n",
              "  </thead>\n",
              "  <tbody>\n",
              "    <tr>\n",
              "      <th>1302</th>\n",
              "      <td>13</td>\n",
              "      <td>37</td>\n",
              "      <td>1</td>\n",
              "      <td>882397011</td>\n",
              "    </tr>\n",
              "    <tr>\n",
              "      <th>14851</th>\n",
              "      <td>201</td>\n",
              "      <td>37</td>\n",
              "      <td>2</td>\n",
              "      <td>884114635</td>\n",
              "    </tr>\n",
              "    <tr>\n",
              "      <th>19670</th>\n",
              "      <td>268</td>\n",
              "      <td>37</td>\n",
              "      <td>3</td>\n",
              "      <td>876514002</td>\n",
              "    </tr>\n",
              "    <tr>\n",
              "      <th>29489</th>\n",
              "      <td>363</td>\n",
              "      <td>37</td>\n",
              "      <td>2</td>\n",
              "      <td>891498510</td>\n",
              "    </tr>\n",
              "    <tr>\n",
              "      <th>31084</th>\n",
              "      <td>385</td>\n",
              "      <td>37</td>\n",
              "      <td>4</td>\n",
              "      <td>880013483</td>\n",
              "    </tr>\n",
              "    <tr>\n",
              "      <th>32996</th>\n",
              "      <td>405</td>\n",
              "      <td>37</td>\n",
              "      <td>1</td>\n",
              "      <td>885548384</td>\n",
              "    </tr>\n",
              "    <tr>\n",
              "      <th>62777</th>\n",
              "      <td>773</td>\n",
              "      <td>37</td>\n",
              "      <td>3</td>\n",
              "      <td>888540352</td>\n",
              "    </tr>\n",
              "  </tbody>\n",
              "</table>\n",
              "</div>"
            ],
            "text/plain": [
              "       userid  itemid  rating  timestamp\n",
              "1302       13      37       1  882397011\n",
              "14851     201      37       2  884114635\n",
              "19670     268      37       3  876514002\n",
              "29489     363      37       2  891498510\n",
              "31084     385      37       4  880013483\n",
              "32996     405      37       1  885548384\n",
              "62777     773      37       3  888540352"
            ]
          },
          "metadata": {
            "tags": []
          },
          "execution_count": 12
        }
      ]
    },
    {
      "cell_type": "markdown",
      "metadata": {
        "id": "u2P14hwFXytK",
        "colab_type": "text"
      },
      "source": [
        "## Actividad 3 👓\n",
        "\n",
        "Haremos un pequeño experimento para entender mejor como funciona Slope One. Gracias al ejercicio anterior, sabemos que el usuario 457 ya ha asignado el mejor rating (5 ⭐) a las dos peliculas ID:9 e ID:1168. Comparemos.\n",
        "\n",
        "**Pregunta:** ¿Cómo se explican estos resultados?  \n",
        "\n",
        "**Respuesta:** Esto se explica debido a que se consideran los promedios de ratings de los items y no por valores individuales. Por lo que, la diferencia a añadir al rating del item i para el nuevo item 9, no va a generar un 5 exacto. Sino que se acercará y hasta podría parecerse más a 4 si es que el promedio del item 9 es muy bajo."
      ]
    },
    {
      "cell_type": "code",
      "metadata": {
        "id": "gaqUjAQaVseB",
        "colab_type": "code",
        "colab": {
          "base_uri": "https://localhost:8080/",
          "height": 53
        },
        "outputId": "5d5cc260-f2b3-41a6-b220-1c4397053b5c"
      },
      "source": [
        "prediction_id9 = mySlopeOne.predict(\"457\", \"9\")\n",
        "prediction_id1168 = mySlopeOne.predict(\"457\", \"1168\")\n",
        "\n",
        "print('Prediction for ID:9 :', prediction_id9)\n",
        "print('Prediction for ID:1168 :', prediction_id1168)"
      ],
      "execution_count": null,
      "outputs": [
        {
          "output_type": "stream",
          "text": [
            "Prediction for ID:9 : 4.530702114105225\n",
            "Prediction for ID:1168 : 4.166153907775879\n"
          ],
          "name": "stdout"
        }
      ]
    },
    {
      "cell_type": "markdown",
      "metadata": {
        "id": "N8dIE2n_YYnV",
        "colab_type": "text"
      },
      "source": [
        "## Paso 7:\n",
        "\n",
        "Generaremos ahora una lista ordenada de las top-N recomendaciones, dado un usuario.\n",
        "\n"
      ]
    },
    {
      "cell_type": "code",
      "metadata": {
        "id": "CVcJ1I1nZaK1",
        "colab_type": "code",
        "colab": {
          "base_uri": "https://localhost:8080/",
          "height": 35
        },
        "outputId": "500f11d0-a38f-4783-bb0c-13869befc7cd"
      },
      "source": [
        "# Mediante el método recommend() genereremos una lista top-5 recomendaciones para el usuario ID:457\n",
        "reclist_slopeone = mySlopeOne.recommend(\"457\", 5)\n",
        "\n",
        "# Y visualizaremos el resultado\n",
        "print('Lista de items según ID:', reclist_slopeone)"
      ],
      "execution_count": null,
      "outputs": [
        {
          "output_type": "stream",
          "text": [
            "Lista de items según ID: ['1592', '1589', '1656', '1431', '1653']\n"
          ],
          "name": "stdout"
        }
      ]
    },
    {
      "cell_type": "code",
      "metadata": {
        "id": "BFdRZKQcZtHE",
        "colab_type": "code",
        "colab": {
          "base_uri": "https://localhost:8080/",
          "height": 162
        },
        "outputId": "9eb95b8d-6e49-425a-c47d-a95723c39fa2"
      },
      "source": [
        "# Lo convertimos a numpy array\n",
        "recmovies_slopeone = np.array(reclist_slopeone).astype(int)\n",
        "\n",
        "# Utilizamos la estructura de datos de los items para encontrar los títulos recomendados\n",
        "print('Lista de items por nombre:')\n",
        "info_file.loc[recmovies_slopeone]['title']"
      ],
      "execution_count": null,
      "outputs": [
        {
          "output_type": "stream",
          "text": [
            "Lista de items por nombre:\n"
          ],
          "name": "stdout"
        },
        {
          "output_type": "execute_result",
          "data": {
            "text/plain": [
              "movieid\n",
              "1592                               Magic Hour, The (1998)\n",
              "1589                                   Schizopolis (1996)\n",
              "1656                                   Little City (1998)\n",
              "1431                                  Legal Deceit (1997)\n",
              "1653    Entertaining Angels: The Dorothy Day Story (1996)\n",
              "Name: title, dtype: object"
            ]
          },
          "metadata": {
            "tags": []
          },
          "execution_count": 17
        }
      ]
    },
    {
      "cell_type": "markdown",
      "metadata": {
        "id": "NlX6FLTxdPRm",
        "colab_type": "text"
      },
      "source": [
        "## Actividad 4 👩🏻‍💻\n",
        "\n",
        "Genera una nueva recomendacion, modificando los hiperparametros de usuario y topN a tu elección.\n",
        "\n",
        "**Pregunta:** ¿Ves una diferencia en la recomendación entre el nuevo usuario y el usuario ID:457?\n",
        "\n",
        "**Respuesta:** Elegí el usuario 200 y me entregó 4 de las 5 películas recomendadas al usuario 457."
      ]
    },
    {
      "cell_type": "code",
      "metadata": {
        "id": "YQM7mfwDdY3j",
        "colab_type": "code",
        "colab": {
          "base_uri": "https://localhost:8080/",
          "height": 253
        },
        "outputId": "9912f83b-f411-41d5-f704-ca582e298d66"
      },
      "source": [
        "# Escribe el nuevo codigo aqui\n",
        "reclist_slopeone = mySlopeOne.recommend(\"200\", 10)\n",
        "recmovies_slopeone = np.array(reclist_slopeone).astype(int)\n",
        "\n",
        "# Utilizamos la estructura de datos de los items para encontrar los títulos recomendados\n",
        "print('Lista de items por nombre:')\n",
        "info_file.loc[recmovies_slopeone]['title']"
      ],
      "execution_count": null,
      "outputs": [
        {
          "output_type": "stream",
          "text": [
            "Lista de items por nombre:\n"
          ],
          "name": "stdout"
        },
        {
          "output_type": "execute_result",
          "data": {
            "text/plain": [
              "movieid\n",
              "1592                               Magic Hour, The (1998)\n",
              "1589                                   Schizopolis (1996)\n",
              "1656                                   Little City (1998)\n",
              "1653    Entertaining Angels: The Dorothy Day Story (1996)\n",
              "1064                                     Crossfire (1947)\n",
              "1651                         Spanish Prisoner, The (1997)\n",
              "1650                              Butcher Boy, The (1998)\n",
              "1645                              Butcher Boy, The (1998)\n",
              "1643                                    Angel Baby (1995)\n",
              "1642                             Some Mother's Son (1996)\n",
              "Name: title, dtype: object"
            ]
          },
          "metadata": {
            "tags": []
          },
          "execution_count": 18
        }
      ]
    },
    {
      "cell_type": "markdown",
      "metadata": {
        "id": "iU2NlezaiIur",
        "colab_type": "text"
      },
      "source": [
        "## Actividad 5 👩🏻‍💻\n",
        "\n",
        "Dado el usuario ID:44, cree dos listas de películas recomendadas; la primera utilizando el algoritmo Most Popular y la segunda utilizando el algoritmo Slope One.\n",
        "\n",
        "**Pregunta:** Realice un analisis apreciativo de las similitudes y diferencias entre ambas recomendaciones.\n",
        "\n",
        "**Respuesta:** Se utilizó el algoritmo Slope One y Most popular para el usuario 44 y se entregaron las top 10 películas recomendadas en base al rating esperado. Observando los resultados, nos damos cuenta de que son idénticos, para top_n igual a 5, 10, 20. Esto se debe a que "
      ]
    },
    {
      "cell_type": "code",
      "metadata": {
        "id": "Rxk9ySLQiMC4",
        "colab_type": "code",
        "colab": {
          "base_uri": "https://localhost:8080/",
          "height": 435
        },
        "outputId": "86cc5d1c-17d3-4d1a-a831-82a6a0580620"
      },
      "source": [
        "# Slope One\n",
        "reclist_slopeone = mySlopeOne.recommend(\"44\", 20)\n",
        "recmovies_slopeone = np.array(reclist_slopeone).astype(int)\n",
        "\n",
        "# Utilizamos la estructura de datos de los items para encontrar los títulos recomendados\n",
        "print('Lista de items por nombre:')\n",
        "info_file.loc[recmovies_slopeone]['title']"
      ],
      "execution_count": null,
      "outputs": [
        {
          "output_type": "stream",
          "text": [
            "Lista de items por nombre:\n"
          ],
          "name": "stdout"
        },
        {
          "output_type": "execute_result",
          "data": {
            "text/plain": [
              "movieid\n",
              "1656                        Little City (1998)\n",
              "1064                          Crossfire (1947)\n",
              "1643                         Angel Baby (1995)\n",
              "1642                  Some Mother's Son (1996)\n",
              "1625                         Nightwatch (1997)\n",
              "1599             Someone Else's America (1995)\n",
              "1512    World of Apu, The (Apur Sansar) (1959)\n",
              "1536                      Aiqing wansui (1994)\n",
              "1500                 Santa with Muscles (1996)\n",
              "1467      Saint of Fort Washington, The (1993)\n",
              "1463                          Boys, Les (1997)\n",
              "1449                    Pather Panchali (1955)\n",
              "1367                              Faust (1994)\n",
              "1293                           Star Kid (1997)\n",
              "868                    Hearts and Minds (1996)\n",
              "814              Great Day in Harlem, A (1994)\n",
              "150                            Swingers (1996)\n",
              "149                                Jude (1996)\n",
              "145                  Lawnmower Man, The (1992)\n",
              "143                 Sound of Music, The (1965)\n",
              "Name: title, dtype: object"
            ]
          },
          "metadata": {
            "tags": []
          },
          "execution_count": 26
        }
      ]
    },
    {
      "cell_type": "code",
      "metadata": {
        "id": "e1xXG1hOiFgj",
        "colab_type": "code",
        "colab": {}
      },
      "source": [
        "# Most popular\n",
        "most_popular = pyreclab.MostPopular(dataset='u1.base',\n",
        "                dlmchar=b'\\t',\n",
        "                header=False,\n",
        "                usercol=0,\n",
        "                itemcol=1,\n",
        "                ratingcol=2)\n",
        "\n",
        "# en teoria no es \"entrenar\" , objeto \"most_popular\" solo registra los items más populares en el set de entrenamiento  \n",
        "most_popular.train()"
      ],
      "execution_count": null,
      "outputs": []
    },
    {
      "cell_type": "code",
      "metadata": {
        "id": "B83HMoHnimJ-",
        "colab_type": "code",
        "colab": {
          "base_uri": "https://localhost:8080/",
          "height": 453
        },
        "outputId": "cff2f433-1184-4600-ef67-b49324be2e1c"
      },
      "source": [
        "ranking = [int(r) for r in most_popular.recommend(\"44\", 20, includeRated=False)]\n",
        "print('Recommendation for user {}: {}'.format(\"44\", ranking))\n",
        "print('Lista de items por nombre:')\n",
        "info_file.loc[recmovies_slopeone]['title']"
      ],
      "execution_count": null,
      "outputs": [
        {
          "output_type": "stream",
          "text": [
            "Recommendation for user 44: [50, 100, 181, 286, 1, 121, 300, 127, 7, 98, 172, 56, 237, 117, 222, 204, 313, 173, 79, 151]\n",
            "Lista de items por nombre:\n"
          ],
          "name": "stdout"
        },
        {
          "output_type": "execute_result",
          "data": {
            "text/plain": [
              "movieid\n",
              "1656                        Little City (1998)\n",
              "1064                          Crossfire (1947)\n",
              "1643                         Angel Baby (1995)\n",
              "1642                  Some Mother's Son (1996)\n",
              "1625                         Nightwatch (1997)\n",
              "1599             Someone Else's America (1995)\n",
              "1512    World of Apu, The (Apur Sansar) (1959)\n",
              "1536                      Aiqing wansui (1994)\n",
              "1500                 Santa with Muscles (1996)\n",
              "1467      Saint of Fort Washington, The (1993)\n",
              "1463                          Boys, Les (1997)\n",
              "1449                    Pather Panchali (1955)\n",
              "1367                              Faust (1994)\n",
              "1293                           Star Kid (1997)\n",
              "868                    Hearts and Minds (1996)\n",
              "814              Great Day in Harlem, A (1994)\n",
              "150                            Swingers (1996)\n",
              "149                                Jude (1996)\n",
              "145                  Lawnmower Man, The (1992)\n",
              "143                 Sound of Music, The (1965)\n",
              "Name: title, dtype: object"
            ]
          },
          "metadata": {
            "tags": []
          },
          "execution_count": 28
        }
      ]
    },
    {
      "cell_type": "code",
      "metadata": {
        "id": "4YH78eOUi0Yo",
        "colab_type": "code",
        "colab": {}
      },
      "source": [
        ""
      ],
      "execution_count": null,
      "outputs": []
    }
  ]
}